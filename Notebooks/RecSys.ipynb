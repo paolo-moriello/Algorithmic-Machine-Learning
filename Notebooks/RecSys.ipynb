{
 "cells": [
  {
   "cell_type": "markdown",
   "metadata": {},
   "source": [
    "2018 Edition"
   ]
  },
  {
   "cell_type": "markdown",
   "metadata": {},
   "source": [
    "# Building a music recommender system\n",
    "\n",
    "As its name implies, a recommender system is a tool that helps predicting what a user may or may not like among a list of given items. In some sense, you can view this as an alternative to content search, as recommendation engines help users discover products or content that they may not come across otherwise. For example, Facebook suggests friends and pages to users. Youtube recommends videos which users may be interested in. Amazon suggests the products which users may need... Recommendation engines engage users to services, can be seen as a revenue optimization process, and in general help maintaining interest in a service.\n",
    "\n",
    "In this notebook, we study how to build a simple recommender system: we focus on music recommendations, and we use a simple algorithm to predict which items users might like, that is called ALS, alternating least squares.\n",
    "\n",
    "## Goals\n",
    "\n",
    "In this lecture, we expect students to:\n",
    "\n",
    "- Revisit (or learn) recommender algorithms\n",
    "\n",
    "- Understand the idea of Matrix Factorization and the ALS algorithm (serial and parallel versions)\n",
    "\n",
    "- Build a simple model for a real usecase: music recommender system\n",
    "\n",
    "- Understand how to validate the results\n",
    "\n",
    "## Steps\n",
    "\n",
    "We assume students to work outside lab hours on the learning material. These are the steps by which we guide students, during labs, to build a good basis for the end-to-end development of a recommender system:\n",
    "\n",
    "* Inspect the data using Spark SQL, and build some basic, but very valuable knowledge about the information we have at hand\n",
    "* Formally define what is a sensible algorithm to achieve our goal: given the \"history\" of user taste for music, recommend new music to discover. Essentialy, we want to build a statistical model of user preferences such that we can use it to \"predict\" which additional music the user could like\n",
    "* With our formal definition at hand, we will learn different ways to implement such an algorithm. Our goal here is to illustrate what are the difficulties to overcome when implementing a (parallel) algorithm\n",
    "* Finally, we will focus on an existing implementation, available in the Apache Spark MLLib, which we will use out of the box to build a reliable statistical model\n",
    "\n",
    "Now, you may think at this point we will be done!\n",
    "\n",
    "Well, you'd better think twice: one important topic we will cover in all our Notebooks is **how to validate the results we obtain**, and **how to choose good parameters to train models** especially when using an \"opaque\" library for doing the job. As a consequence, we will focus on the statistical validation of our recommender system.\n"
   ]
  },
  {
   "cell_type": "markdown",
   "metadata": {},
   "source": [
    "# 1. Data\n",
    "\n",
    "Understanding data is one of the most important part when designing any machine learning algorithm. In this notebook, we will use a data set published by Audioscrobbler - a music recommendation system for last.fm. Audioscrobbler is also one of the first internet streaming radio sites, founded in 2002. It provided an open API for “scrobbling”, or recording listeners’ plays of artists’ songs. last.fm used this information to build a powerful music recommender engine.\n",
    "\n",
    "## 1.1. Data schema\n",
    "\n",
    "Unlike a rating dataset which contains information about users' preference for products (one star, 3 stars, and so on), the datasets from Audioscrobbler only has information about events: specifically, it keeps track of how many times a user played songs of a given artist and the names of artists. That means it carries less information than a rating: in the literature, this is called explicit vs. implicit ratings.\n",
    "\n",
    "### Reading material\n",
    "\n",
    "- [Implicit Feedback for Inferring User Preference: A Bibliography](http://people.csail.mit.edu/teevan/work/publications/papers/sigir-forum03.pdf)\n",
    "- [Comparing explicit and implicit feedback techniques for web retrieval: TREC-10 interactive track report](http://trec.nist.gov/pubs/trec10/papers/glasgow.pdf)\n",
    "- [Probabilistic Models for Data Combination in Recommender Systems](http://mlg.eng.cam.ac.uk/pub/pdf/WilGha08.pdf)\n",
    "\n",
    "The data we use in this Notebook is available in 3 files (these files are stored in our HDFS layer, in the directory  ```/datasets/lastfm```):\n",
    "\n",
    "- **`user_artist_data.txt`**: It contains about 140,000+ unique users, and 1.6 million unique artists. About 24.2 million users’ plays of artists’ are recorded, along with their count. It has 3 columns separated by spaces: \n",
    "\n",
    "| UserID | ArtistID | PlayCount |\n",
    "|----|----|----|\n",
    "| ...|...|...|\n",
    "\n",
    "\n",
    "- **`artist_data.txt`** : It prodives the names of each artist by their IDs. It has 2 columns separated by tab characters (`\\t`).\n",
    "\n",
    "| ArtistID | Name |\n",
    "|---|---|\n",
    "|...|...|\n",
    "\n",
    "- **`artist_alias.txt`**: Note that when plays are scrobbled, the client application submits the name of the artist being played. This name could be misspelled or nonstandard. For example, \"The Smiths\", \"Smiths, The\", and \"the smiths\" may appear as distinct artist IDs in the data set, even though they are plainly the same. `artist_alias.txt` maps artist IDs that are known misspellings or variants to the canonical ID of that artist. The data in this file has 2 columns separated by tab characters (`\\t`).\n",
    "\n",
    "| MisspelledArtistID | StandardArtistID |\n",
    "|---|---|\n",
    "|...|...|\n",
    "\n"
   ]
  },
  {
   "cell_type": "markdown",
   "metadata": {},
   "source": [
    "## 1.2. Understanding data: simple descriptive statistic\n",
    "\n",
    "In order to choose or design a suitable algorithm for achieving our goals, given the data we have, we should first understand data characteristics. To start, we import the necessary packages to work with regular expressions, Data Frames, and other nice features of our programming environment."
   ]
  },
  {
   "cell_type": "code",
   "execution_count": 1,
   "metadata": {},
   "outputs": [],
   "source": [
    "import os\n",
    "import sys\n",
    "import re\n",
    "import random\n",
    "from pyspark import SparkContext\n",
    "from pyspark.sql import SQLContext\n",
    "from pyspark.sql.types import *\n",
    "from pyspark.sql import Row\n",
    "from pyspark.sql.functions import *\n",
    "\n",
    "%matplotlib inline\n",
    "import matplotlib.pyplot as plt\n",
    "import pandas as pd\n",
    "import numpy as np\n",
    "from time import time\n",
    "\n",
    "sqlContext = SQLContext(sc)\n",
    "base = \"/datasets/lastfm/\""
   ]
  },
  {
   "cell_type": "markdown",
   "metadata": {},
   "source": [
    "### Question 1\n",
    "\n",
    "#### Question 1.0 (Non-grading)\n",
    "<div class=\"alert alert-info\">\n",
    "Using SPARK SQL, load data from `/datasets/lastfm/user_artist_data.txt` and show the first 20 entries (via function `show()`).\n",
    "</div>\n",
    "\n",
    "For this Notebook, from a programming point of view, we are given the schema for the data we use, which is as follows:\n",
    "\n",
    "```\n",
    "userID: long int\n",
    "artistID: long int\n",
    "playCount: int\n",
    "```\n",
    "\n",
    "Each line of the dataset contains the above three fields, separated by a \"white space\"."
   ]
  },
  {
   "cell_type": "code",
   "execution_count": 2,
   "metadata": {},
   "outputs": [
    {
     "name": "stdout",
     "output_type": "stream",
     "text": [
      "+-------+--------+---------+\n",
      "| userID|artistID|playCount|\n",
      "+-------+--------+---------+\n",
      "|1000002|       1|       55|\n",
      "|1000002| 1000006|       33|\n",
      "|1000002| 1000007|        8|\n",
      "|1000002| 1000009|      144|\n",
      "|1000002| 1000010|      314|\n",
      "|1000002| 1000013|        8|\n",
      "|1000002| 1000014|       42|\n",
      "|1000002| 1000017|       69|\n",
      "|1000002| 1000024|      329|\n",
      "|1000002| 1000025|        1|\n",
      "|1000002| 1000028|       17|\n",
      "|1000002| 1000031|       47|\n",
      "|1000002| 1000033|       15|\n",
      "|1000002| 1000042|        1|\n",
      "|1000002| 1000045|        1|\n",
      "|1000002| 1000054|        2|\n",
      "|1000002| 1000055|       25|\n",
      "|1000002| 1000056|        4|\n",
      "|1000002| 1000059|        2|\n",
      "|1000002| 1000062|       71|\n",
      "+-------+--------+---------+\n",
      "only showing top 20 rows\n",
      "\n"
     ]
    }
   ],
   "source": [
    "userArtistDataSchema = StructType([ \\\n",
    "    StructField(\"userID\", LongType(), True), \\\n",
    "    StructField(\"artistID\", LongType(), True), \\\n",
    "    StructField(\"playCount\", IntegerType(), True)])\n",
    "\n",
    "userArtistDF = sqlContext.read \\\n",
    "    .format('com.databricks.spark.csv') \\\n",
    "    .options(header='false', delimiter=' ') \\\n",
    "    .load(base + \"user_artist_data.txt\", schema = userArtistDataSchema) \\\n",
    "    .cache()\n",
    "\n",
    "# we can cache an Dataframe to avoid computing it from the beginning everytime it is accessed.\n",
    "userArtistDF.cache()\n",
    "\n",
    "userArtistDF.show()"
   ]
  },
  {
   "cell_type": "markdown",
   "metadata": {},
   "source": [
    "#### Question 1.1: \n",
    "<div class=\"alert alert-info\">\n",
    "How many distinct users do we have in our data? \n",
    "</div>"
   ]
  },
  {
   "cell_type": "code",
   "execution_count": 3,
   "metadata": {},
   "outputs": [
    {
     "name": "stdout",
     "output_type": "stream",
     "text": [
      "Total n. of users:  148111\n"
     ]
    }
   ],
   "source": [
    "uniqueUsers = userArtistDF.select(\"userID\").distinct().count()\n",
    "print(\"Total n. of users: \", uniqueUsers)"
   ]
  },
  {
   "cell_type": "markdown",
   "metadata": {},
   "source": [
    "#### Question 1.2\n",
    "<div class=\"alert alert-info\">\n",
    "How many distinct artists do we have in our data ?\n",
    "</div>"
   ]
  },
  {
   "cell_type": "code",
   "execution_count": 4,
   "metadata": {},
   "outputs": [
    {
     "name": "stdout",
     "output_type": "stream",
     "text": [
      "Total n. of artists:  1631028\n"
     ]
    }
   ],
   "source": [
    "uniqueArtists = userArtistDF.select(\"artistID\").distinct().count()\n",
    "print(\"Total n. of artists: \", uniqueArtists)"
   ]
  },
  {
   "cell_type": "markdown",
   "metadata": {},
   "source": [
    "#### Question 1.3\n",
    "<div class=\"alert alert-info\">\n",
    "One limitation of Spark MLlib's ALS implementation - which we will use later - is that it requires IDs for users and items to be nonnegative 32-bit integers. This means that IDs larger than `Integer.MAX_VALUE`, or `2147483647`, can't be used. So we need to check whether this data set conforms to the strict requirements of our library.  \n",
    "\n",
    "What are the maximum and minimum values of column `userID` ?  \n",
    "</div>"
   ]
  },
  {
   "cell_type": "code",
   "execution_count": 5,
   "metadata": {},
   "outputs": [
    {
     "name": "stdout",
     "output_type": "stream",
     "text": [
      "+-------+------------------+\n",
      "|summary|            userID|\n",
      "+-------+------------------+\n",
      "|  count|          24296858|\n",
      "|   mean|1947573.2653533637|\n",
      "| stddev| 496000.5551819132|\n",
      "|    min|                90|\n",
      "|    max|           2443548|\n",
      "+-------+------------------+\n",
      "\n"
     ]
    }
   ],
   "source": [
    "userArtistDF.describe(['userID']).show()"
   ]
  },
  {
   "cell_type": "markdown",
   "metadata": {},
   "source": [
    "**COMMENT**<br>\n",
    "From the results obtained we can see that the maximum value is less than Integer.MAX_VALUE and the minimum value is greater than zero. This confirm what we were expecting. Moreover, we have also showed other interesting informations such as the mean, the total number or the std dev."
   ]
  },
  {
   "cell_type": "markdown",
   "metadata": {},
   "source": [
    "#### Question 1.4\n",
    "<div class=\"alert alert-info\">\n",
    "What is the maximum and minimum values of column `artistID` ?\n",
    "</div>"
   ]
  },
  {
   "cell_type": "code",
   "execution_count": 6,
   "metadata": {},
   "outputs": [
    {
     "name": "stdout",
     "output_type": "stream",
     "text": [
      "+-------+------------------+\n",
      "|summary|          artistID|\n",
      "+-------+------------------+\n",
      "|  count|          24296858|\n",
      "|   mean|1718704.0937568964|\n",
      "| stddev| 2539389.092428355|\n",
      "|    min|                 1|\n",
      "|    max|          10794401|\n",
      "+-------+------------------+\n",
      "\n"
     ]
    }
   ],
   "source": [
    "userArtistDF.describe(['artistID']).show()"
   ]
  },
  {
   "cell_type": "markdown",
   "metadata": {},
   "source": [
    "**COMMENT**<br>\n",
    "From the results obtained we can see that the maximum value is less than Integer.MAX_VALUE and the minimum value is greater than zero. This confirm what we were expecting."
   ]
  },
  {
   "cell_type": "markdown",
   "metadata": {},
   "source": [
    "We just discovered that we have a total of 148,111 users in our dataset. Similarly, we have a total of 1,631,028 artists in our dataset. The maximum values of `userID` and `artistID` are still smaller than the biggest number of integer type.  No additional transformation will be necessary to use these IDs.\n",
    "\n",
    "One thing we can see here is that SPARK SQL provides very concise and powerful methods for data analytics (compared to using RDD and their low-level API). You can see more examples [here](https://databricks.com/blog/2015/06/02/statistical-and-mathematical-functions-with-dataframes-in-spark.html)."
   ]
  },
  {
   "cell_type": "markdown",
   "metadata": {},
   "source": [
    "Next, we might want to understand better user activity and artist popularity.\n",
    "\n",
    "Here is a list of simple descriptive queries that helps us reaching these purposes:\n",
    "\n",
    "* How many times each user has played a song? This is a good indicator of who are the most active users of our service. Note that a very active user with many play counts does not necessarily mean that the user is also \"curious\"! Indeed, she could have played the same song several times.\n",
    "* How many play counts for each artist? This is a good indicator of the artist popularity. Since we do not have time information associated to our data, we can only build a, e.g., top-10 ranking of the most popular artists in the dataset. Later in the notebook, we will learn that our dataset has a very \"loose\" definition about artists: very often artist IDs point to song titles as well. This means we have to be careful when establishing popular artists. Indeed, artists whose data is \"well formed\" will have the correct number of play counts associated to them. Instead, artists that appear mixed with song titles may see their play counts \"diluted\" across their songs."
   ]
  },
  {
   "cell_type": "markdown",
   "metadata": {},
   "source": [
    "### Question 2\n",
    "\n",
    "#### Question 2.1\n",
    "<div class=\"alert alert-info\">\n",
    "How many times each user has played a song? Show 5 samples of the result.\n",
    "</div>"
   ]
  },
  {
   "cell_type": "code",
   "execution_count": 3,
   "metadata": {},
   "outputs": [
    {
     "name": "stdout",
     "output_type": "stream",
     "text": [
      "+-------+----------------+\n",
      "| userID|Total_playCounts|\n",
      "+-------+----------------+\n",
      "|2289066|              51|\n",
      "|2289173|            5938|\n",
      "|2290086|            1080|\n",
      "|2291343|              37|\n",
      "|2291463|            8802|\n",
      "+-------+----------------+\n",
      "only showing top 5 rows\n",
      "\n"
     ]
    }
   ],
   "source": [
    "# Compute user activity\n",
    "# We are interested in how many playcounts each user has scored.\n",
    "userActivityDF = userArtistDF.groupBy(\"userID\").agg(sum(\"playCount\").alias(\"Total_playCounts\"))\n",
    "userActivityDF.show(5)\n",
    "userActivity = userActivityDF.collect()"
   ]
  },
  {
   "cell_type": "markdown",
   "metadata": {},
   "source": [
    "#### Question 2.2\n",
    "<div class=\"alert alert-info\">\n",
    "Plot CDF (or ECDF) of the number of play counts per User ID.  \n",
    "\n",
    "Explain and comment the figure you just created:   \n",
    "<ul>\n",
    "<li>for example, look at important percentiles (25%, median, 75%, tails such as >90%) and cross check with what you have found above to figure out if the result is plausible. </li>\n",
    "<li>discuss about your users, with respect to the application domain we target in the notebook: you will notice that for some users, there is very little interaction with the system, which means that maybe reccommending something to them is going to be more difficult than for other users who interact more with the system. </li>\n",
    "<li>look at outliers and reason about their impact on your reccommender algorithm</li>\n",
    "</ul>\n",
    "</div>"
   ]
  },
  {
   "cell_type": "code",
   "execution_count": 8,
   "metadata": {
    "collapsed": true
   },
   "outputs": [],
   "source": [
    "def annotate_percentiles(data, show_lines=True):\n",
    "    percentiles = [0.25, 0.50, 0.75, 0.90]\n",
    "    for y in percentiles:\n",
    "        x = data[int(len(data)*y)]\n",
    "        plt.annotate('%s' % x , xy=(x+0.2*x, y))\n",
    "        if show_lines:\n",
    "            plt.vlines(x, 0, y, linestyle=\"dashed\")\n",
    "            plt.hlines(y, 0, x, linestyle=\"dashed\")\n",
    "        plt.scatter(x, y, zorder=2, color=\"red\")"
   ]
  },
  {
   "cell_type": "code",
   "execution_count": 9,
   "metadata": {
    "collapsed": true
   },
   "outputs": [],
   "source": [
    "def plot_ECDF(x, y, title, scale):\n",
    "    plt.figure(figsize = (20, 8))\n",
    "    plt.plot(x, y)\n",
    "    plt.yticks(np.arange(1.1, step=0.1))\n",
    "    plt.xlabel('Play Counts')\n",
    "    plt.ylabel('ECDF')\n",
    "    plt.grid(True, which=\"both\", ls=\"-\")\n",
    "    plt.title(title)\n",
    "    plt.xscale(scale)"
   ]
  },
  {
   "cell_type": "code",
   "execution_count": 10,
   "metadata": {
    "collapsed": true
   },
   "outputs": [],
   "source": [
    "def plot_box(x, title, scale):\n",
    "    plt.figure(figsize = (15, 4))\n",
    "    plt.boxplot(x, vert=False, patch_artist=True)\n",
    "    plt.title(title)\n",
    "    plt.grid(True, which=\"both\", ls=\"-\")\n",
    "    plt.xscale(scale)"
   ]
  },
  {
   "cell_type": "code",
   "execution_count": 11,
   "metadata": {},
   "outputs": [
    {
     "name": "stdout",
     "output_type": "stream",
     "text": [
      "[     0      1      2 ... 148108 148109 148110]\n"
     ]
    },
    {
     "data": {
      "image/png": "[encoded data removed]",
      "text/plain": [
       "<matplotlib.figure.Figure at 0x7f089f560048>"
      ]
     },
     "metadata": {},
     "output_type": "display_data"
    },
    {
     "data": {
      "image/png": "[encoded data removed]",
      "text/plain": [
       "<matplotlib.figure.Figure at 0x7f089f560128>"
      ]
     },
     "metadata": {},
     "output_type": "display_data"
    }
   ],
   "source": [
    "pdf = pd.DataFrame(data=userActivity)\n",
    "Y = np.sort( pdf[1] )\n",
    "yvals = np.arange(len(Y))/float(len(Y))\n",
    "\n",
    "print(np.arange(len(Y)))\n",
    "\n",
    "#Plot with linear scale\n",
    "plot_ECDF(Y, yvals, 'ECDF of number of play counts per User ID (linear scale)', \"linear\")\n",
    "annotate_percentiles(Y, False)\n",
    "plt.show()\n",
    "\n",
    "#Plot with logarithmic scale\n",
    "plot_ECDF(Y, yvals, 'ECDF of number of play counts per User ID (logarithmic scale)', \"log\")\n",
    "\n",
    "#Annotate important percentiles\n",
    "annotate_percentiles(Y)\n",
    "plt.show()"
   ]
  },
  {
   "cell_type": "code",
   "execution_count": 12,
   "metadata": {},
   "outputs": [
    {
     "data": {
      "image/png": "[encoded data removed]",
      "text/plain": [
       "<matplotlib.figure.Figure at 0x7f0896d82cc0>"
      ]
     },
     "metadata": {},
     "output_type": "display_data"
    },
    {
     "data": {
      "image/png": "[encoded data removed]",
      "text/plain": [
       "<matplotlib.figure.Figure at 0x7f0896d82518>"
      ]
     },
     "metadata": {},
     "output_type": "display_data"
    }
   ],
   "source": [
    "plot_box(Y, 'Box plot for numbers of play counts per User ID (linear scale)', \"linear\")\n",
    "plot_box(Y, 'Box plot for numbers of play counts per User ID (logarithmic scale)', \"log\")"
   ]
  },
  {
   "cell_type": "markdown",
   "metadata": {},
   "source": [
    "**COMMENT**<br>\n",
    "In this case we decided to implement two different plots: a simple ECDF line plot and a box plot.\n",
    "\n",
    "In the first case we have represented the ECDF of the number of play counts per user ID: on the x axis there is the \"play count\", which is the number of played songs, while on the y axis there is the cumulative percentage, which gives the portion of users.<br>\n",
    "We decided to use a logarithmic and a linear scale to better visualize the entire plot, because with the linear one is possible to better visualize the outliers (all values after the initial spike towards the 100% percentile), whereas with the logarithmic one is possible to better visualize the values of Play Counts for each percentile.<br>\n",
    "Then we annotated the number of users in correspondance of the most important percentiles (25%, 50%, 75%, 90%).\n",
    "It is possible to see, for example, that the 25% of the users have less than 204 played songs, or that the 75% of them have less than 2800 songs, and so on.\n",
    "\n",
    "In the second diagram, instead, we wanted to model the same concept with a different representation. The box plot diagram, in fact, helps in defining the upper limit and lower limit beyond which any data lying will be considered as outliers. The very purpose of this diagram is to identify outliers before making any further observation so that the conclusion made from the study gives more accurate results not influenced by any extremes or abnormal values.<br>\n",
    "In this case it's easier to see how the box plot marks the lower quartile, the upper quartile, and the lower and upper limits. So any value that will be more than the upper limit or lesser than the lower limit could be an outlier. Only the data that lies within lower and upper limit are statistically considered normal. As per the basic standards followed by all statistics a convenient definition of an outlier is a point which falls more than 1.5 times the interquartile range above the third quartile or below the first quartile.<br>\n",
    "Also in this case we decided to represent the box plot with two different scales: linear and logarithmic; this because with the linear scale the outliers are more evident (points which are far from the \"core\" ones).\n",
    "\n",
    "From the plots above we can infer that some of the highest values in the dataset can be outliers (in the box plot, we may consider the four values which are \"alone\" at the right as outliers); those are counterproductive for a recommendation system as they could polarize the predictions due to the high volume of played songs with respect to the other users. We don't know how many years are covered by the analyzed dataset, but having a playcount bigger than 10^6 is impossibile for whatever user.<br>\n",
    "Another problem can be related to the users who have a very low interaction with the system (below the first quartile), for those users it is not possible to easily recommend something since we don't have much information about them, so initial recommendations may not really reflect their real preferences but the algorithm will get better as they become more active.\n",
    "\n",
    "Regarding the values we extracted above (Total_playCounts), we can verify that just a few users played more than 10^5, which is in line with the previous results."
   ]
  },
  {
   "cell_type": "markdown",
   "metadata": {},
   "source": [
    "Now let's see how these plots would look like by eliminating the outliers. As discussed, we want to eliminate all the points after the initial spike toward the 100%, so in this case we have decided to eliminate all the users that have more than 2x10^4 total play counts."
   ]
  },
  {
   "cell_type": "code",
   "execution_count": 31,
   "metadata": {},
   "outputs": [
    {
     "name": "stdout",
     "output_type": "stream",
     "text": [
      "Number of outliers found: 1769\n"
     ]
    }
   ],
   "source": [
    "users_outliers = userActivityDF.filter('Total_playCounts > 20000').select('userID')\n",
    "print(\"Number of outliers found:\", users_outliers.count())\n",
    "userArtistDFWithoutOutliers = userArtistDF.filter(userArtistDF.userID.isin([x[0] for x in users_outliers.collect()]) == False)\n",
    "userArtistDFWithoutOutliers = userArtistDFWithoutOutliers.cache()"
   ]
  },
  {
   "cell_type": "markdown",
   "metadata": {},
   "source": [
    "**NB:** Here we have produced a new dataframe without outliers. From now on, we will keep both the versions (with and without outliers) of the dataframes, trying to evaluate the differences and their impact on the system. Both those datasets will be useful later on, when running the recommendation system, to eventually analyze the differences."
   ]
  },
  {
   "cell_type": "code",
   "execution_count": 14,
   "metadata": {},
   "outputs": [
    {
     "data": {
      "image/png": "[encoded data removed]",
      "text/plain": [
       "<matplotlib.figure.Figure at 0x7f08969e0f28>"
      ]
     },
     "metadata": {},
     "output_type": "display_data"
    },
    {
     "data": {
      "image/png": "[encoded data removed]",
      "text/plain": [
       "<matplotlib.figure.Figure at 0x7f08969e0fd0>"
      ]
     },
     "metadata": {},
     "output_type": "display_data"
    }
   ],
   "source": [
    "pdf = pd.DataFrame(data=userActivityDF.filter('Total_playCounts <= 20000').collect())\n",
    "Y = np.sort( pdf[1] )\n",
    "yvals = np.arange(len(Y))/float(len(Y))\n",
    "plot_ECDF(Y, yvals, 'ECDF of number of play counts per User ID (linear scale), no outliers', \"linear\")\n",
    "plot_box(Y, 'Box plot for numbers of play counts per User ID (linear scale), no outliers', \"linear\")"
   ]
  },
  {
   "cell_type": "markdown",
   "metadata": {},
   "source": [
    "Here we have re-proposed the two plots (ECDF and box) with linear scale. Here it's immediately possible to show the positive effect of the elimination of the outliers as the the ECDF has a smooter trend without any direct spike and in the (linear) box plot the \"box\" is now visible. However, the box plot still suggests to eliminate other users."
   ]
  },
  {
   "cell_type": "markdown",
   "metadata": {},
   "source": [
    "#### Question 2.3\n",
    "\n",
    "<div class=\"alert alert-info\">\n",
    "How many play counts for each artist? Plot CDF or ECDF of the result.  \n",
    "\n",
    "Similarly to the previous question, you need to comment and interpret your result: what is the figure telling you?\n",
    "</div>"
   ]
  },
  {
   "cell_type": "code",
   "execution_count": 15,
   "metadata": {},
   "outputs": [
    {
     "name": "stdout",
     "output_type": "stream",
     "text": [
      "+--------+----------------+\n",
      "|artistID|Total_playCounts|\n",
      "+--------+----------------+\n",
      "| 1000313|          111718|\n",
      "| 1233634|           13356|\n",
      "|    5409|          417396|\n",
      "| 1001530|          163391|\n",
      "| 1007205|           40990|\n",
      "+--------+----------------+\n",
      "only showing top 5 rows\n",
      "\n"
     ]
    }
   ],
   "source": [
    "# Compute artist popularity\n",
    "# We are interested in how many playcounts per artist\n",
    "# ATTENTION! Grouping by artistID may be problematic, as stated above.\n",
    "\n",
    "artistPopularity = userArtistDFWithoutOutliers.groupBy(\"artistID\").agg(sum(\"playCount\").alias(\"Total_playCounts\"))\n",
    "artistPopularity.show(5)\n",
    "artistPopularity = artistPopularity.collect()"
   ]
  },
  {
   "cell_type": "markdown",
   "metadata": {},
   "source": [
    "**COMMENT**<br>\n",
    "In this case grouping by artistID could be problematic because there is the problem of mispelled IDs that can falsify the results of our analysis. This problem will be solved later on, so for now we are proposing this as a first result of our analysis, but we are aware that this is partially incorrect."
   ]
  },
  {
   "cell_type": "code",
   "execution_count": 16,
   "metadata": {},
   "outputs": [
    {
     "name": "stdout",
     "output_type": "stream",
     "text": [
      "[      0       1       2 ... 1557102 1557103 1557104]\n"
     ]
    },
    {
     "data": {
      "image/png": "[encoded data removed]",
      "text/plain": [
       "<matplotlib.figure.Figure at 0x7f08d886bc18>"
      ]
     },
     "metadata": {},
     "output_type": "display_data"
    },
    {
     "data": {
      "image/png": "[encoded data removed]",
      "text/plain": [
       "<matplotlib.figure.Figure at 0x7f08a2767438>"
      ]
     },
     "metadata": {},
     "output_type": "display_data"
    }
   ],
   "source": [
    "pdf = pd.DataFrame(data=artistPopularity)\n",
    "\n",
    "Y = np.sort( pdf[1] )\n",
    "yvals = np.arange(len(Y))/float(len(Y))\n",
    "\n",
    "print(np.arange(len(Y)))\n",
    "\n",
    "#Plot with linear scale\n",
    "plot_ECDF(Y, yvals, 'ECDF of number of play counts per Artist ID (linear scale)', \"linear\")\n",
    "annotate_percentiles(Y, False)\n",
    "plt.show()\n",
    "\n",
    "#Plot with logarithmic scale\n",
    "plot_ECDF(Y, yvals, 'ECDF of number of play counts per Artist ID (logarithmic scale)', \"log\")\n",
    "\n",
    "#Annotate important percentiles\n",
    "annotate_percentiles(Y)\n",
    "plt.show()"
   ]
  },
  {
   "cell_type": "code",
   "execution_count": 17,
   "metadata": {},
   "outputs": [
    {
     "data": {
      "image/png": "[encoded data removed]",
      "text/plain": [
       "<matplotlib.figure.Figure at 0x7f0880b12a58>"
      ]
     },
     "metadata": {},
     "output_type": "display_data"
    },
    {
     "data": {
      "image/png": "[encoded data removed]",
      "text/plain": [
       "<matplotlib.figure.Figure at 0x7f0880b129e8>"
      ]
     },
     "metadata": {},
     "output_type": "display_data"
    }
   ],
   "source": [
    "plot_box(Y, 'Box plot for numbers of play counts per Artist ID (linear scale)', \"linear\")\n",
    "plot_box(Y, 'Box plot for numbers of play counts per Artist ID (logarithmic scale)', \"log\")"
   ]
  },
  {
   "cell_type": "markdown",
   "metadata": {},
   "source": [
    "**COMMENT**<br>\n",
    "As before, also in this case we have used the two representations: line ECDF and box plots.\n",
    "\n",
    "In the first plot we have represented the ECDF of number of play counts per Artist ID: x axis for the play counts and y for the cumulative percentage; also in this case, in addition to the linear representation, we decided to use a logarithmic scale to better visualize the entire plot, and we have annotated the number of artists in correspondance of the most important percentiles.<br>\n",
    "In this case we can see, for example, that less popular artists have a very low number of played songs, in particular about the half of artists have been listened to less than 3 times. While there are some of them, which have a huge number of played songs, probably because of their popularity: most popular artists tends to be played by everyone.\n",
    "\n",
    "And again, in the second plot we have modeled the data using two box diagrams.\n",
    "\n",
    "In this case, however, we decided to not eliminate any \"outlier\" because it's possible that we have artists that are more famous and known than others, and we think that we should not prevent the recommendation system to suggest those kind of very popular artists. However, at the contrary, there is the problem of the smallest artists, which will be hardly suggested due to their very low audience size."
   ]
  },
  {
   "cell_type": "markdown",
   "metadata": {},
   "source": [
    "#### Question 2.4\n",
    "<div class=\"alert alert-info\">\n",
    "Plot a bar chart to show top 5 artists In terms of absolute play counts.  \n",
    "\n",
    "Comment the figure you just obtained: \n",
    "<ul>\n",
    "<li>are these reasonable results?</li>\n",
    "<li>is looking at top-5 artists enough to learn more about your data?</li>\n",
    "<li>do you see anything strange in the data?</li>\n",
    "</ul>\n",
    "</div>"
   ]
  },
  {
   "cell_type": "code",
   "execution_count": 18,
   "metadata": {},
   "outputs": [
    {
     "data": {
      "image/png": "[encoded data removed]",
      "text/plain": [
       "<matplotlib.figure.Figure at 0x7f0880a6dc50>"
      ]
     },
     "metadata": {},
     "output_type": "display_data"
    }
   ],
   "source": [
    "sortedArtist = sorted(artistPopularity, key = lambda x: -x[1])[:5]\n",
    "\n",
    "artistID = [w[0] for w in sortedArtist]\n",
    "\n",
    "y_pos = range(len(sortedArtist))\n",
    "frequency = [w[1] for w in sortedArtist]\n",
    "\n",
    "plt.figure(figsize=(13,6))\n",
    "plt.barh(y_pos, frequency[::-1], align='center', alpha=0.4)\n",
    "plt.yticks(y_pos, artistID[::-1])\n",
    "plt.xlabel('Play Count')\n",
    "plt.ylabel('Artist')\n",
    "plt.title('Top-5 Artist ID per play counts')\n",
    "plt.show()"
   ]
  },
  {
   "cell_type": "markdown",
   "metadata": {},
   "source": [
    "**COMMENT**<br>\n",
    "Apparently these results are reasonable according to what we obtained in the previous plot of question 2.3 as the biggest and most popular artists have a playcount of 10^6.\n",
    "\n",
    "Looking at top-5 artists only is not enough to learn more about our data. Instead it could be more useful to look at a distribution like the one of question 2.3 to have a global view of the play counts for all the artists. Moreover, we might be interested in analyzing the names of those artists, to discover eventual errors (multiple ids referring to the same artist, 'unknown' artists or mispelled names...). If we \n",
    "\n",
    "If we consider only the data we have obtained until now we do not see anything strange at this point...but we will soon get deeper in the details."
   ]
  },
  {
   "cell_type": "markdown",
   "metadata": {},
   "source": [
    "All seems clear right now, but ... wait a second! What about the problems indicated above about artist \"disambiguation\"? Are these artist ID we are using referring to unique artists? How can we make sure that such \"opaque\" identifiers point to different bands? Let's try to use some additional dataset to answer this question:  `artist_data.txt` dataset. This time, the schema of the dataset consists in:\n",
    "\n",
    "```\n",
    "artist ID: long int\n",
    "name: string\n",
    "```\n",
    "\n",
    "We will try to find whether a single artist has two different IDs."
   ]
  },
  {
   "cell_type": "markdown",
   "metadata": {},
   "source": [
    "### Question 3\n",
    "\n",
    "#### Question 3.1\n",
    "\n",
    "<div class=\"alert alert-info\">\n",
    "Load the data from `/datasets/lastfm/artist_data.txt` and use the SparkSQL API to show 5 samples.  \n",
    "\n",
    "<ul></ul>\n",
    "<div class=\"label label-success\">HINT:</div> If you encounter some error when parsing lines in data because of invalid entries, parameter `mode='DROPMALFORMED'` will help you to eliminate these entries. The suggested syntax is: `<df>.options(header='false', delimiter='\\t', mode='DROPMALFORMED')`.\n",
    "\n",
    "</div>"
   ]
  },
  {
   "cell_type": "code",
   "execution_count": 4,
   "metadata": {},
   "outputs": [
    {
     "name": "stdout",
     "output_type": "stream",
     "text": [
      "+--------+----------------------------+\n",
      "|artistID|name                        |\n",
      "+--------+----------------------------+\n",
      "|1134999 |06Crazy Life                |\n",
      "|6821360 |Pang Nakarin                |\n",
      "|10113088|Terfel, Bartoli- Mozart: Don|\n",
      "|10151459|The Flaming Sidebur         |\n",
      "|6826647 |Bodenstandig 3000           |\n",
      "+--------+----------------------------+\n",
      "only showing top 5 rows\n",
      "\n"
     ]
    }
   ],
   "source": [
    "customSchemaArtist = StructType([ \\\n",
    "    StructField(\"artistID\", LongType(), True), \\\n",
    "    StructField(\"name\", StringType(), True)])\n",
    "\n",
    "artistDF = sqlContext.read \\\n",
    "        .format('com.databricks.spark.csv') \\\n",
    "        .options(header='false', delimiter='\\t', mode='DROPMALFORMED') \\\n",
    "        .load(base + \"artist_data.txt\", schema = customSchemaArtist) \\\n",
    "        .cache()\n",
    "\n",
    "# we can cache an Dataframe to avoid computing it from the beginning everytime it is accessed.\n",
    "artistDF.cache()\n",
    "    \n",
    "artistDF.show(5, truncate=False)"
   ]
  },
  {
   "cell_type": "markdown",
   "metadata": {},
   "source": [
    "#### Question 3.2\n",
    "<div class=\"alert alert-info\">\n",
    "Find 20 artists whose name contains `Aerosmith`. Take a look at artists that have ID equal to `1000010` and `2082323`. In your opinion, are they pointing to the same artist?  \n",
    "\n",
    "<ul></ul>\n",
    "<div class=\"label label-success\">HINT:</div> Function `locate(sub_string, string)` can be useful in this case.\n",
    "</div>"
   ]
  },
  {
   "cell_type": "code",
   "execution_count": 20,
   "metadata": {},
   "outputs": [
    {
     "name": "stdout",
     "output_type": "stream",
     "text": [
      "+--------+----------------------------------------------+\n",
      "|artistID|name                                          |\n",
      "+--------+----------------------------------------------+\n",
      "|10586006|Dusty Springfield/Aerosmith                   |\n",
      "|6946007 |Aerosmith/RunDMC                              |\n",
      "|10475683|Aerosmith: Just Push Play                     |\n",
      "|1083031 |Aerosmith/ G n R                              |\n",
      "|6872848 |Britney, Nsync, Nelly, Aerosmith,Mary J Blige.|\n",
      "|10586963|Green Day - Oasis - Eminem - Aerosmith        |\n",
      "|10028830|The Aerosmith Antology2                       |\n",
      "|10300357|Run-DMC + Aerosmith                           |\n",
      "|2027746 |Aerosmith by MusicInter.com                   |\n",
      "|1140418 |[rap]Run DMC and Aerosmith                    |\n",
      "|10237208|Aerosmith + Run DMC                           |\n",
      "|10588537|Aerosmith, Kid Rock, & Run DMC                |\n",
      "|9934757 |Aerosmith - Big Ones                          |\n",
      "|10437510|Green Day ft. Oasis & Aerosmith               |\n",
      "|6936680 |RUN DNC & Aerosmith                           |\n",
      "|10479781|Aerosmith Hits                                |\n",
      "|10114147|Charlies Angels - Aerosmith                   |\n",
      "|1262439 |Kid Rock, Run DMC & Aerosmith                 |\n",
      "|7032554 |Aerosmith & Run-D.M.C.                        |\n",
      "|10033592|Aerosmith?                                    |\n",
      "+--------+----------------------------------------------+\n",
      "only showing top 20 rows\n",
      "\n",
      "+--------+---------+\n",
      "|artistID|     name|\n",
      "+--------+---------+\n",
      "| 1000010|Aerosmith|\n",
      "+--------+---------+\n",
      "\n",
      "+--------+------------+\n",
      "|artistID|        name|\n",
      "+--------+------------+\n",
      "| 2082323|01 Aerosmith|\n",
      "+--------+------------+\n",
      "\n"
     ]
    }
   ],
   "source": [
    "# get artists whose name contains \"Aerosmith\"\n",
    "artistDF[locate(\"Aerosmith\", artistDF.name) > 0].show(truncate=False)\n",
    "\n",
    "# show two examples\n",
    "artistDF[artistDF.artistID==1000010].show()\n",
    "artistDF[artistDF.artistID==2082323].show()"
   ]
  },
  {
   "cell_type": "markdown",
   "metadata": {},
   "source": [
    "**COMMENT**<br>\n",
    "From the results we have obtained we can conclude that the artists that have ID equal to 1000010 and 2082323 refer to the same one: Aerosmith. We can say that by looking at the two names \"Aerosmith\" and \"01 Aerosmith\". In the second case there is only '01' at the beginning of the name, but it surely refers to the same artist.<br>\n",
    "The same thing can be said also for other cases in the list shown above. In fact, despite of the fact that most of the names refer to more than one single artist, we can see also cases in which, as it happened for the two ids above, there is only a mispelling case (eg. 'Aerosmith?').<br>\n",
    "But which one is the correct one? How can we solve all the problems?"
   ]
  },
  {
   "cell_type": "markdown",
   "metadata": {},
   "source": [
    "To answer this question correctly, we need to use an additional dataset `artist_alias.txt` which contains the ids of mispelled artists and standard artists. The schema of the dataset consists in:\n",
    "\n",
    "```\n",
    "mispelledID ID: long int\n",
    "standard ID: long int\n",
    "```"
   ]
  },
  {
   "cell_type": "markdown",
   "metadata": {},
   "source": [
    "#### Question 3.3\n",
    "<div class=\"alert alert-info\">\n",
    "Using SparkSQL API, load the dataset from `/datasets/lastfm/artist_alias.txt` then show 5 samples.\n",
    "</div>"
   ]
  },
  {
   "cell_type": "code",
   "execution_count": 5,
   "metadata": {},
   "outputs": [
    {
     "name": "stdout",
     "output_type": "stream",
     "text": [
      "+-----------+--------+\n",
      "|mispelledID|standard|\n",
      "+-----------+--------+\n",
      "|1092764    |1000311 |\n",
      "|1095122    |1000557 |\n",
      "|6708070    |1007267 |\n",
      "|10088054   |1042317 |\n",
      "|1195917    |1042317 |\n",
      "+-----------+--------+\n",
      "only showing top 5 rows\n",
      "\n"
     ]
    }
   ],
   "source": [
    "customSchemaArtistAlias = StructType([ \\\n",
    "    StructField(\"mispelledID\", LongType(), True), \\\n",
    "    StructField(\"standard\", LongType(), True)])\n",
    "\n",
    "artistAliasDF = sqlContext.read \\\n",
    "        .format('com.databricks.spark.csv') \\\n",
    "        .options(header='false', delimiter='\\t', mode='DROPMALFORMED') \\\n",
    "        .load(base + \"artist_alias.txt\", schema = customSchemaArtistAlias) \\\n",
    "        .cache()\n",
    "\n",
    "# we can cache an Dataframe to avoid computing it from the beginning everytime it is accessed.\n",
    "artistAliasDF.cache()\n",
    "    \n",
    "artistAliasDF.show(5, truncate=False)"
   ]
  },
  {
   "cell_type": "markdown",
   "metadata": {},
   "source": [
    "#### Question 3.4\n",
    "<div class=\"alert alert-info\">\n",
    "Verify the answer of question 3.2 (\"Are artists that have ID equal to `1000010` and `2082323` the same ?\") by finding the standard ids corresponding to the mispelled ids `1000010` and `2082323` respectively.\n",
    "</div>"
   ]
  },
  {
   "cell_type": "code",
   "execution_count": 22,
   "metadata": {},
   "outputs": [
    {
     "name": "stdout",
     "output_type": "stream",
     "text": [
      "+-----------+--------+\n",
      "|mispelledID|standard|\n",
      "+-----------+--------+\n",
      "|    2082323| 1000010|\n",
      "|    1019565| 1000010|\n",
      "|    1053793| 1000010|\n",
      "|    1128909| 1000010|\n",
      "|    1174667| 1000010|\n",
      "|    9899575| 1000010|\n",
      "|    1104722| 1000010|\n",
      "|    6796858| 1000010|\n",
      "|    6784259| 1000010|\n",
      "|    1227381| 1000010|\n",
      "|    2027746| 1000010|\n",
      "|    6845323| 1000010|\n",
      "|    1059795| 1000010|\n",
      "|    6617824| 1000010|\n",
      "|    2015907| 1000010|\n",
      "|    6630890| 1000010|\n",
      "|    2046837| 1000010|\n",
      "|    2048373| 1000010|\n",
      "|    2070290| 1000010|\n",
      "|    2035537| 1000010|\n",
      "+-----------+--------+\n",
      "only showing top 20 rows\n",
      "\n",
      "+-----------+--------+\n",
      "|mispelledID|standard|\n",
      "+-----------+--------+\n",
      "|    2082323| 1000010|\n",
      "+-----------+--------+\n",
      "\n",
      "+-----------+--------+\n",
      "|mispelledID|standard|\n",
      "+-----------+--------+\n",
      "+-----------+--------+\n",
      "\n"
     ]
    }
   ],
   "source": [
    "artistAliasDF[artistAliasDF.standard == 1000010].show()\n",
    "artistAliasDF[artistAliasDF.mispelledID == 2082323].show()\n",
    "\n",
    "# 1000010 is a standard id, so it haven't been considered as mispelled id in the dataset\n",
    "artistAliasDF[artistAliasDF.mispelledID == 1000010].show()"
   ]
  },
  {
   "cell_type": "markdown",
   "metadata": {},
   "source": [
    "**COMMENT**<br>\n",
    "From the results obtained above we can confirm what we have said before about the mispelled artists: 2082323 refers to the same artist of 1000010. Moreover, as we expected, there are a lot of other mispelled ids that refer to the artist Aerosmith. From those informations we have discovered that the id 1000010 is the standard one, as it always appear in the \"standard\" column, and if we try to filter the mispelled ids with this user we get an empty table.<br>\n",
    "So what we have to do now is \"clean\" those data, removing all the wrong mappings and aggregate all the results."
   ]
  },
  {
   "cell_type": "markdown",
   "metadata": {},
   "source": [
    "### Question 4\n",
    "\n",
    "The mispelled or nonstandard information about artist make our results in the previous queries a bit \"sloppy\". To overcome this problem, we can replace all mispelled artist ids by the corresponding standard ids and re-compute the basic descriptive statistics on the \"amended\" data.\n",
    "First, we construct a \"dictionary\" that maps non-standard ids to a standard ones. Then this \"dictionary\" will be used to replace the mispelled artists.\n",
    "\n",
    "#### Question 4.1\n",
    "<div class=\"alert alert-info\">\n",
    "From data in the dataframe loaded from `/datasets/lastfm/artist_alias.txt`, construct a dictionary that maps each non-standard id to its standard id.  \n",
    "\n",
    "<div class=\"label label-success\">HINT:</div> Instead of using function `collect`, we can use `collectAsMap` to convert the collected data to a dictionary inline.\n",
    "</div>"
   ]
  },
  {
   "cell_type": "code",
   "execution_count": 6,
   "metadata": {
    "collapsed": true
   },
   "outputs": [],
   "source": [
    "artistAlias = artistAliasDF.rdd.map(lambda row: (row[0], row[1])).collectAsMap()"
   ]
  },
  {
   "cell_type": "markdown",
   "metadata": {},
   "source": [
    "#### Question 4.2\n",
    "<div class=\"alert alert-info\">\n",
    "Using the constructed dictionary in question 4.1, replace the non-standard artist ids in the dataframe that was loaded from `/datasets/lastfm/user_artist_data.txt` by the corresponding standard ids then show 5 samples.\n",
    "</div>\n",
    "\n",
    "\n",
    "**NOTE 1**: If an id doesn't exist in the dictionary as a mispelled id, it is really a standard id.\n",
    "\n",
    "\n",
    "Using funtion `map` on Spark Dataframe will give us an RDD. We can convert this RDD back to Dataframe by using `sqlContext.createDataFrame(rdd_name, sql_schema)`\n",
    "\n",
    "\n",
    "**NOTE 2**: be careful! you need to be able to verify that you indeed solved the problem of having bad artist IDs. In principle, for the new data to be correct, we should to have duplicate pairs (user, artist), potentially with different play counts, right? In answering the question, please **show** that you indeed fixed the problem. "
   ]
  },
  {
   "cell_type": "code",
   "execution_count": 7,
   "metadata": {
    "scrolled": true
   },
   "outputs": [
    {
     "name": "stdout",
     "output_type": "stream",
     "text": [
      "+-------+--------+---------+\n",
      "| userID|artistID|playCount|\n",
      "+-------+--------+---------+\n",
      "|1000002|       1|       55|\n",
      "|1000002| 1000006|       33|\n",
      "|1000002| 1000007|        8|\n",
      "|1000002| 1000009|      144|\n",
      "|1000002| 1000010|      314|\n",
      "+-------+--------+---------+\n",
      "only showing top 5 rows\n",
      "\n",
      "The script takes 0.987097 seconds\n"
     ]
    }
   ],
   "source": [
    "from time import time\n",
    "\n",
    "def replaceMispelledIDs(fields):\n",
    "    finalID = artistAlias.get(fields[1], fields[1])\n",
    "    return (fields[0], finalID, fields[2])\n",
    "\n",
    "t0 = time()\n",
    "\n",
    "newUserArtistDF = sqlContext.createDataFrame(\n",
    "    userArtistDF.rdd.map(replaceMispelledIDs), \n",
    "    userArtistDataSchema\n",
    ")\n",
    "newUserArtistDF.show(5)\n",
    "\n",
    "t1 = time()\n",
    "\n",
    "print('The script takes %f seconds' %(t1-t0))"
   ]
  },
  {
   "cell_type": "markdown",
   "metadata": {},
   "source": [
    "### Analysis on artist-alias dataframe\n",
    "\n",
    "The first thing we want to check at this point is the eventual presence of errors in the artist-alias table.<br>"
   ]
  },
  {
   "cell_type": "code",
   "execution_count": 25,
   "metadata": {},
   "outputs": [
    {
     "name": "stdout",
     "output_type": "stream",
     "text": [
      "+--------+\n",
      "|standard|\n",
      "+--------+\n",
      "| 1008798|\n",
      "| 1053468|\n",
      "| 1042639|\n",
      "| 1003219|\n",
      "| 1013851|\n",
      "| 1164008|\n",
      "|    2684|\n",
      "| 6817660|\n",
      "| 1167860|\n",
      "|10151717|\n",
      "| 1252142|\n",
      "| 1199012|\n",
      "| 1043468|\n",
      "| 1240778|\n",
      "| 6995268|\n",
      "| 6603878|\n",
      "| 1004143|\n",
      "|     754|\n",
      "| 2137055|\n",
      "| 1044091|\n",
      "+--------+\n",
      "only showing top 20 rows\n",
      "\n"
     ]
    }
   ],
   "source": [
    "(artistAliasDF.select('standard')).intersect(artistAliasDF.select('mispelledID')).show()"
   ]
  },
  {
   "cell_type": "markdown",
   "metadata": {},
   "source": [
    "By doing the intersection between mispelled ids and standard ids (the two columns of the alias table), we demonstrate that there are chains in the mispelled->artist mapping; this means that the first \"cleaning\" phase does not effectively perfectly clean the dataset because some artists may have been remapped to a mispelled id (= standard id).<br>\n",
    "Let's check for others errors..."
   ]
  },
  {
   "cell_type": "code",
   "execution_count": 11,
   "metadata": {},
   "outputs": [
    {
     "name": "stdout",
     "output_type": "stream",
     "text": [
      "+-----------+--------+\n",
      "|mispelledID|standard|\n",
      "+-----------+--------+\n",
      "|    1018110| 1018110|\n",
      "|    1014609| 1014609|\n",
      "|    1014175| 1014175|\n",
      "|    1008798| 1008798|\n",
      "|    1013851| 1013851|\n",
      "|    1001864| 1001864|\n",
      "|         15|      15|\n",
      "|    1167860| 1167860|\n",
      "|        754|     754|\n",
      "|    1006322| 1006322|\n",
      "|    1006347| 1006347|\n",
      "+-----------+--------+\n",
      "\n"
     ]
    }
   ],
   "source": [
    "mispelledEquals = artistAliasDF.filter(artistAliasDF.standard == artistAliasDF.mispelledID)\n",
    "mispelledEquals.show()"
   ]
  },
  {
   "cell_type": "markdown",
   "metadata": {},
   "source": [
    "There are even cases (11) in which a mispelledID is equal to a standard one! This can be easily seen in the table above, where we have filtered the alias dataframe by looking for such cases."
   ]
  },
  {
   "cell_type": "markdown",
   "metadata": {},
   "source": [
    "Because of this, the cleaning phase we performed above may have not been effective; the dataframe is not cleaned yet, and in order to prove that we can procede as follow:"
   ]
  },
  {
   "cell_type": "code",
   "execution_count": 27,
   "metadata": {},
   "outputs": [
    {
     "name": "stdout",
     "output_type": "stream",
     "text": [
      "+-------+--------+---------+-----------+--------+\n",
      "| userID|artistID|playCount|mispelledID|standard|\n",
      "+-------+--------+---------+-----------+--------+\n",
      "|1000020|      15|        9|         15|      15|\n",
      "|1000020| 1001864|        2|    1001864| 1001864|\n",
      "|1000020| 1006322|        4|    1006322| 1006322|\n",
      "|1000020|      15|        8|         15|      15|\n",
      "|1000020|     754|      209|        754|     754|\n",
      "|1000033| 1014609|        1|    1014609| 1014609|\n",
      "|1000033|      15|       23|         15|      15|\n",
      "|1000036|     754|        1|        754|     754|\n",
      "|1000037| 1001864|       12|    1001864| 1001864|\n",
      "|1000037|      15|        1|         15|      15|\n",
      "|1000037|     754|        5|        754|     754|\n",
      "|1000047| 1001864|        8|    1001864| 1001864|\n",
      "|1000049| 1014609|        1|    1014609| 1014609|\n",
      "|1000054|      15|       22|         15|      15|\n",
      "|1000056|      15|        1|         15|      15|\n",
      "|1000071| 1014609|       27|    1014609| 1014609|\n",
      "|1000087|      15|        1|         15|      15|\n",
      "|1000088|      15|        4|         15|      15|\n",
      "|1000091|     754|       58|        754|     754|\n",
      "|1000096|     754|        1|        754|     754|\n",
      "+-------+--------+---------+-----------+--------+\n",
      "only showing top 20 rows\n",
      "\n"
     ]
    }
   ],
   "source": [
    "newUserArtistDF.join(artistAliasDF, [newUserArtistDF.artistID == artistAliasDF.mispelledID]).show()"
   ]
  },
  {
   "cell_type": "markdown",
   "metadata": {},
   "source": [
    "We joined the new dataframe with the alias one on the artistID (artistID of the new df with mispelled ids of the alias df) expecting, in case of a complete cleaning, an empty table, as no mispelled tuple would have been present in the new dataframe in that case. However, as expected, the output table is not empty: as said, this happens because there are chains among the artist ids and the mispelled ids in the alias dataframe.<br>\n",
    "Now we want to correct those chains.<br>\n",
    "NB: In this case we joined the tables instead of simply intersecting the columns because we wanted to show also the various ids of the two tables."
   ]
  },
  {
   "cell_type": "code",
   "execution_count": 8,
   "metadata": {},
   "outputs": [],
   "source": [
    "# removes the tuples where mispelled == standard from the alias map\n",
    "def removeMirrors(alias):\n",
    "    toremove = [k for k in alias if k == alias[k]]\n",
    "    for k in toremove:\n",
    "        del alias[k]\n",
    "    return len(toremove)\n",
    "\n",
    "# removes the chains from the alias map\n",
    "def cleanAliasMap(alias):\n",
    "    count = 0\n",
    "    for mispelled, standard in alias.items():\n",
    "        tocheck = alias.get(standard)\n",
    "        while(tocheck != None):\n",
    "            count += 1\n",
    "            alias[mispelled] = tocheck\n",
    "            tocheck = alias.get(tocheck)\n",
    "    return count"
   ]
  },
  {
   "cell_type": "code",
   "execution_count": 9,
   "metadata": {},
   "outputs": [
    {
     "name": "stdout",
     "output_type": "stream",
     "text": [
      "Removed 11 mirrored ids\n",
      "Removed 55 chained ids\n"
     ]
    }
   ],
   "source": [
    "print(\"Removed\", removeMirrors(artistAlias), \"mirrored ids\")\n",
    "print(\"Removed\", cleanAliasMap(artistAlias), \"chained ids\")"
   ]
  },
  {
   "cell_type": "markdown",
   "metadata": {},
   "source": [
    "We implemented those two functions to remove the \"mirrors\" cases in the map (mispelled == standard id) and to remove the chains (mispelled -> standard = mispelled). Now we have a good, cleaned map we can work with for the real and complete cleaning phase."
   ]
  },
  {
   "cell_type": "markdown",
   "metadata": {},
   "source": [
    "### Cleaning"
   ]
  },
  {
   "cell_type": "markdown",
   "metadata": {},
   "source": [
    "Initially we were thinking to loop the dataframe creation procedure (in order to remove the chains) until the dataset was not completely cleaned. However, cleaning directly the map is a much more efficient way of doing this; moreover it will be also useful later on (when working on the rdds) as we won't have to reapply the cleaning procedure again and again, but only one call will be enough."
   ]
  },
  {
   "cell_type": "markdown",
   "metadata": {},
   "source": [
    "In this section it's possibile to find three \"paragraphs\" P1, P2 and P3, and an explanatory comment at the and.<br>\n",
    "The output of the section will be a completely cleaned dataframe.\n",
    "\n",
    "As we have fixed all the problems related to the alias map, now we can apply the cleaning procedure and obtain the desired status. We just need to recreate the dataframe as we did above and remove all the \"mirrored\" tuples from it."
   ]
  },
  {
   "cell_type": "code",
   "execution_count": 10,
   "metadata": {},
   "outputs": [],
   "source": [
    "# just use the alias map to clean the dataframe (the map is supposed to be already cleaned)\n",
    "# than left anti join with mispelled artists to remove the \"mirrors\"\n",
    "def cleanData(df):\n",
    "    newUserArtistDF = sqlContext.createDataFrame(\n",
    "        df.rdd.map(replaceMispelledIDs), \n",
    "        userArtistDataSchema\n",
    "    )\n",
    "    \n",
    "    return newUserArtistDF.join(mispelledEquals, [newUserArtistDF.artistID == mispelledEquals.mispelledID], \"leftanti\")"
   ]
  },
  {
   "cell_type": "code",
   "execution_count": 12,
   "metadata": {},
   "outputs": [],
   "source": [
    "newUserArtistDF = cleanData(userArtistDF)\n",
    "newUserArtistDF = newUserArtistDF.cache()"
   ]
  },
  {
   "cell_type": "markdown",
   "metadata": {},
   "source": [
    "**P1**"
   ]
  },
  {
   "cell_type": "code",
   "execution_count": 32,
   "metadata": {},
   "outputs": [
    {
     "name": "stdout",
     "output_type": "stream",
     "text": [
      "+--------+-------+---------+-----------------------------------------+\n",
      "|artistID|userID |playCount|name                                     |\n",
      "+--------+-------+---------+-----------------------------------------+\n",
      "|10781496|2134459|1        |RUN-D.M.C. F/ Aerosmith                  |\n",
      "|10615674|2386789|3        |Green Day vs Oasis vs Travis vs Aerosmith|\n",
      "|10615674|2038676|6        |Green Day vs Oasis vs Travis vs Aerosmith|\n",
      "|10503361|2291809|2        |Green Day vs Oasis vs Aerosmith vs Eminem|\n",
      "|10545537|1003317|1        |Run-D.M.C. / Aerosmith                   |\n",
      "|10545537|2323988|1        |Run-D.M.C. / Aerosmith                   |\n",
      "|10391317|2274287|1        |087 - Aerosmith & Run-D.M.C              |\n",
      "|10568609|2329079|1        |STP / Aerosmith                          |\n",
      "|10568609|2415880|1        |STP / Aerosmith                          |\n",
      "|7023100 |2183636|1        |Aerosmith & Guns N Roses                 |\n",
      "|7023100 |2073349|1        |Aerosmith & Guns N Roses                 |\n",
      "|10586963|2359019|2        |Green Day - Oasis - Eminem - Aerosmith   |\n",
      "|9997165 |2290190|11       |Greenday, Oasis, and Aerosmith           |\n",
      "|9997165 |2382618|15       |Greenday, Oasis, and Aerosmith           |\n",
      "|10075356|2293449|3        |Aerosmith with run dmc                   |\n",
      "|10075356|2412596|1        |Aerosmith with run dmc                   |\n",
      "|10075356|1000976|1        |Aerosmith with run dmc                   |\n",
      "|10075356|2046756|3        |Aerosmith with run dmc                   |\n",
      "|10075356|2078594|3        |Aerosmith with run dmc                   |\n",
      "|10683897|2416568|3        |Aerosmith / Run DMC                      |\n",
      "+--------+-------+---------+-----------------------------------------+\n",
      "only showing top 20 rows\n",
      "\n",
      "+------+--------+---------+\n",
      "|userID|artistID|playCount|\n",
      "+------+--------+---------+\n",
      "+------+--------+---------+\n",
      "\n"
     ]
    }
   ],
   "source": [
    "newUserArtistDF.join(artistDF, ['artistID'])[locate(\"Aerosmith\", artistDF.name) > 0].show(truncate=False)\n",
    "newUserArtistDF[newUserArtistDF.artistID == 2082323].show()"
   ]
  },
  {
   "cell_type": "markdown",
   "metadata": {},
   "source": [
    "**P2**"
   ]
  },
  {
   "cell_type": "code",
   "execution_count": 33,
   "metadata": {},
   "outputs": [],
   "source": [
    "def checkDuplicatedPairs(df):\n",
    "    df.groupBy(\"userID\", \"artistID\").count().orderBy(\"count\", ascending=False).show()"
   ]
  },
  {
   "cell_type": "code",
   "execution_count": 34,
   "metadata": {},
   "outputs": [
    {
     "name": "stdout",
     "output_type": "stream",
     "text": [
      "+-------+--------+-----+\n",
      "| userID|artistID|count|\n",
      "+-------+--------+-----+\n",
      "|2052189| 1082784|   71|\n",
      "|2360120|     122|   68|\n",
      "|2302495| 1000024|   65|\n",
      "|1053375| 1001819|   57|\n",
      "|2214793| 1000130|   54|\n",
      "|2181817|      82|   48|\n",
      "|1000072| 1021625|   46|\n",
      "|2197708| 1005386|   43|\n",
      "|2117500| 1000881|   41|\n",
      "|2054029| 1001419|   41|\n",
      "|2360120|    1190|   40|\n",
      "|2017825| 1003694|   38|\n",
      "|2140727| 1026675|   33|\n",
      "|2054029|    2439|   33|\n",
      "|2197701| 1002646|   33|\n",
      "|2205461|10316280|   32|\n",
      "|2205665| 1116582|   32|\n",
      "|1053335| 1000597|   32|\n",
      "|2214793|    4481|   32|\n",
      "|2159933| 1234421|   30|\n",
      "+-------+--------+-----+\n",
      "only showing top 20 rows\n",
      "\n"
     ]
    }
   ],
   "source": [
    "checkDuplicatedPairs(newUserArtistDF)"
   ]
  },
  {
   "cell_type": "markdown",
   "metadata": {},
   "source": [
    "**P3**"
   ]
  },
  {
   "cell_type": "code",
   "execution_count": 35,
   "metadata": {},
   "outputs": [
    {
     "name": "stdout",
     "output_type": "stream",
     "text": [
      "+------+--------+---------+-----------+--------+\n",
      "|userID|artistID|playCount|mispelledID|standard|\n",
      "+------+--------+---------+-----------+--------+\n",
      "+------+--------+---------+-----------+--------+\n",
      "\n"
     ]
    }
   ],
   "source": [
    "newUserArtistDF.join(artistAliasDF, [newUserArtistDF.artistID == artistAliasDF.mispelledID]).show()"
   ]
  },
  {
   "cell_type": "markdown",
   "metadata": {},
   "source": [
    "**COMMENT**<br>\n",
    "After having substituted the mispelled artistIds with their standard ones, we have demonstrated the correctness of this modification by using different approaches:\n",
    "\n",
    "**P1:** first of all we have repeated the same query as in the paragraph 3 about the 'Aerosmith' artist, which appeared to be a mispelled one, just to check that that problem was solved; the first 20 rows of the table don't show anything strange in the names and the query on the mispelled attribute now returns an empty table.\n",
    "\n",
    "**P2:** then we showed that in the new produced dataframe there are now \"duplicated tuples\" (user-artist) because of the substitutions of the mispelled ones: in fact, a mispelled id is a wrong id which is related to a well defined one (standard id), and multiple mispelled ids are mapped towards the same standard id; so every time we \"solve the chain\", we are creating a new tuple user-artist which probably already exists in the dataset. Obviously this is still a problem that will be resolved further on.\n",
    "\n",
    "**P3:** then, to effectively prove that no mispelled attributes are anymore in the dataset, we repeated the same join as showed above between the new dataframe and the alias one. In this case, as expected, we have obtained an empty table because now no mispelled tuple is present in the new dataframe."
   ]
  },
  {
   "cell_type": "markdown",
   "metadata": {},
   "source": [
    "To finish with the cleaning phase, we just have to fix up what we showed in P2: after having finished with the mispelled ids replacement, the dataframe contains a lot of \"duplicated\" user/artists pairs with different playcounts, so we need to aggregate all those pairs by summing all the play count and producing only one tuple."
   ]
  },
  {
   "cell_type": "code",
   "execution_count": 13,
   "metadata": {},
   "outputs": [],
   "source": [
    "newUserArtistDF = newUserArtistDF.groupBy(\"userID\", \"artistID\").agg(sum(\"playCount\").alias(\"playCount\"))\n",
    "newUserArtistDF = newUserArtistDF.cache()"
   ]
  },
  {
   "cell_type": "code",
   "execution_count": 37,
   "metadata": {},
   "outputs": [
    {
     "name": "stdout",
     "output_type": "stream",
     "text": [
      "+-------+--------+-----+\n",
      "| userID|artistID|count|\n",
      "+-------+--------+-----+\n",
      "|2013266| 1013516|    1|\n",
      "|2013266|10254255|    1|\n",
      "|2013279| 2146039|    1|\n",
      "|2013285| 1010316|    1|\n",
      "|2013296| 1000024|    1|\n",
      "|2013305| 1000265|    1|\n",
      "|2013306| 2088997|    1|\n",
      "|2013310| 1000591|    1|\n",
      "|2013310| 1001002|    1|\n",
      "|2013316| 1007075|    1|\n",
      "|2013322| 1006229|    1|\n",
      "|2013322| 1086193|    1|\n",
      "|2013322| 1123168|    1|\n",
      "|2013322| 1151575|    1|\n",
      "|2013327|10513108|    1|\n",
      "|2013328| 1002676|    1|\n",
      "|2013328| 1004932|    1|\n",
      "|2013328| 1016309|    1|\n",
      "|2013328| 1024832|    1|\n",
      "|2013328| 1230676|    1|\n",
      "+-------+--------+-----+\n",
      "only showing top 20 rows\n",
      "\n"
     ]
    }
   ],
   "source": [
    "checkDuplicatedPairs(newUserArtistDF)"
   ]
  },
  {
   "cell_type": "markdown",
   "metadata": {},
   "source": [
    "From the tables above it's possibile to check that we have solved also this problem: we have shown in P2 the table with the duplicated pairs, and now we show the same table, by using the same function, after having removed all the duplicates. In this case all the counts are equal to 1 (note: the table is ordered by decreasing count)."
   ]
  },
  {
   "cell_type": "code",
   "execution_count": 32,
   "metadata": {},
   "outputs": [],
   "source": [
    "# just summarize all in one function: clean and aggregate\n",
    "def cleanDataAndAggregate(df):\n",
    "    cleanedDF = cleanData(df)\n",
    "    return cleanedDF.groupBy(\"userID\", \"artistID\").agg(sum(\"playCount\").alias(\"playCount\"))"
   ]
  },
  {
   "cell_type": "markdown",
   "metadata": {},
   "source": [
    "#### Question 4.3\n",
    "<div class=\"alert alert-info\">\n",
    "Spark actions are executed through a set of stages, separated by distributed \"shuffle\" operations. Spark can be instructed to **automatically and efficiently** broadcast common data needed by tasks within **each stage**. The data broadcasted this way is cached in **serialized form** and deserialized before running each task.   \n",
    "<ul> </ul>\n",
    "We can thus improve our answer to question 4.2: we can reduce the communication cost by shipping the \"dictionary\" in a more efficient way by using `broadcast variable`. Broadcast variables allow the programmer to keep a read-only variable cached on **each machine** rather than shipping a copy of it with tasks. They are cached in deserialized form. They can be used, for example, to give every node a copy of a large input dataset in an efficient manner.   \n",
    "<ul></ul>\n",
    "The broadcast of variable `v` can be created by `bV = sc.broadcast(v)`. Then value of this broadcast variable can be access via `bV.value`  \n",
    "\n",
    "<ul></ul>\n",
    "To question is then: using a broadcast variable, modify the script in question 4.2 to get better performance in terms of running time.\n",
    "</div>\n"
   ]
  },
  {
   "cell_type": "code",
   "execution_count": 39,
   "metadata": {},
   "outputs": [
    {
     "name": "stdout",
     "output_type": "stream",
     "text": [
      "+-------+--------+---------+\n",
      "| userID|artistID|playCount|\n",
      "+-------+--------+---------+\n",
      "|1000002|       1|       55|\n",
      "|1000002| 1000006|       33|\n",
      "|1000002| 1000007|        8|\n",
      "|1000002| 1000009|      144|\n",
      "|1000002| 1000010|      314|\n",
      "+-------+--------+---------+\n",
      "only showing top 5 rows\n",
      "\n",
      "The script takes 0.243885 seconds\n"
     ]
    }
   ],
   "source": [
    "from time import time\n",
    "\n",
    "bArtistAlias = sc.broadcast(artistAlias)\n",
    "\n",
    "def replaceMispelledIDs(fields):\n",
    "    finalID = bArtistAlias.value.get(fields[1] , fields[1])\n",
    "    return (fields[0], finalID, fields[2])\n",
    "\n",
    "t0 = time()\n",
    "\n",
    "newUserArtistDF = sqlContext.createDataFrame(\n",
    "    userArtistDF.rdd.map(replaceMispelledIDs), \n",
    "    userArtistDataSchema\n",
    ")\n",
    "newUserArtistDF.show(5)\n",
    "t1 = time()\n",
    "\n",
    "print('The script takes %f seconds' %(t1-t0))"
   ]
  },
  {
   "cell_type": "markdown",
   "metadata": {},
   "source": [
    "**COMMENT**<br>\n",
    "The main advantage of using broadcast variables is that a copy of the artist-alias map is sent to all the workers: in this way we skip the serialization/deserialization step that otherwise would have been required at each task, and the map is broadcasted only once to each worker."
   ]
  },
  {
   "cell_type": "markdown",
   "metadata": {},
   "source": [
    "Let's finalize the cleaning to both the normal and the \"outliers-free\" dataframe."
   ]
  },
  {
   "cell_type": "code",
   "execution_count": 33,
   "metadata": {},
   "outputs": [],
   "source": [
    "# creating a new cleaned dataframe also for the case without outliers\n",
    "newUserArtistDFwithoutOutliers = cleanDataAndAggregate(userArtistDFWithoutOutliers)\n",
    "newUserArtistDFwithoutOutliers = newUserArtistDFwithoutOutliers.cache()"
   ]
  },
  {
   "cell_type": "code",
   "execution_count": 41,
   "metadata": {},
   "outputs": [],
   "source": [
    "# creating a new cleaned dataframe also for the case without outliers\n",
    "newUserArtistDF = cleanDataAndAggregate(userArtistDF)\n",
    "newUserArtistDF = newUserArtistDF.cache()"
   ]
  },
  {
   "cell_type": "markdown",
   "metadata": {},
   "source": [
    "Although having some advantages, explicitly creating broadcast variables is only useful when tasks across multiple stages need the same data or when caching the data in deserialized form is important."
   ]
  },
  {
   "cell_type": "markdown",
   "metadata": {},
   "source": [
    "### Question 5\n",
    "\n",
    "Well, our data frame contains clean and \"standard\" data. We can use it to redo previous statistic queries.\n",
    "\n",
    "#### Question 5.1\n",
    "<div class=\"alert alert-info\">\n",
    "How many unique artists? Compare with the result when using old data.\n",
    "</div>"
   ]
  },
  {
   "cell_type": "code",
   "execution_count": 42,
   "metadata": {},
   "outputs": [
    {
     "name": "stdout",
     "output_type": "stream",
     "text": [
      "Total n. of artists:  1568106\n"
     ]
    }
   ],
   "source": [
    "uniqueArtists = newUserArtistDF.select(\"artistID\").distinct().count()\n",
    "\n",
    "print(\"Total n. of artists: \", uniqueArtists)"
   ]
  },
  {
   "cell_type": "markdown",
   "metadata": {},
   "source": [
    "**COMMENT**<br>\n",
    "Here we can see that the number of artists after the cleaning phase is decresed with respect to the count above, this demonstrates the effectiveness of this step."
   ]
  },
  {
   "cell_type": "code",
   "execution_count": 43,
   "metadata": {},
   "outputs": [
    {
     "name": "stdout",
     "output_type": "stream",
     "text": [
      "Total n. of artists:  1497452\n"
     ]
    }
   ],
   "source": [
    "uniqueArtists = newUserArtistDFwithoutOutliers.select(\"artistID\").distinct().count()\n",
    "\n",
    "print(\"Total n. of artists: \", uniqueArtists)"
   ]
  },
  {
   "cell_type": "markdown",
   "metadata": {},
   "source": [
    "**COMMENT**<br>\n",
    "One thing we may want to notice is the number of different artists in the \"outliers-free dataset\". Here, despite the fact we wanted to remove only users, we have also cut off a lot of small artists."
   ]
  },
  {
   "cell_type": "markdown",
   "metadata": {},
   "source": [
    "#### Question 5.2\n",
    "\n",
    "<div class=\"alert alert-info\">\n",
    "Who are the top-10 artistis?\n",
    "<ul>\n",
    "  <li>In terms of absolute play counts</li>\n",
    "  <li>In terms of \"audience size\", that is, how many users listened to one of their track at least once</li>\n",
    "</ul>  \n",
    "\n",
    "Plot the results, and explain the figures you obtain.\n",
    "</div>"
   ]
  },
  {
   "cell_type": "code",
   "execution_count": 44,
   "metadata": {
    "collapsed": true
   },
   "outputs": [],
   "source": [
    "# just plot the top 10 elements in the given dataset\n",
    "def plot_top10(dataset, title, xlabel, ylabel):\n",
    "    y_pos = range(len(dataset))\n",
    "    pdf = pd.DataFrame(data=dataset)\n",
    "\n",
    "    plt.figure(figsize=(15,6))\n",
    "    plt.barh(y_pos, pdf[1][::-1], align='center', alpha=0.4)\n",
    "    plt.yticks(y_pos, pdf[0][::-1])\n",
    "    plt.xlabel(xlabel)\n",
    "    plt.ylabel(ylabel)\n",
    "    plt.title(title)\n",
    "    plt.show()"
   ]
  },
  {
   "cell_type": "code",
   "execution_count": 45,
   "metadata": {},
   "outputs": [],
   "source": [
    "# rearrange data to plot top 10 artists per play count\n",
    "def top_10_artists_per_playCount(df, title):\n",
    "    # calculate top-10 artists in term of play counts\n",
    "    topArtistsAbs = df.groupBy('artistID').agg(sum('playCount').alias('totPlayCount'))\n",
    "    # this join is done with the purpose of printing the names of the artists next to the bar plot instead of their ids\n",
    "    topArtistsAbsWithNames = artistDF.join(topArtistsAbs, ['artistID'])\n",
    "    top10ArtistsAbsWithNames = topArtistsAbsWithNames.select('name', 'totPlayCount').orderBy('totPlayCount', ascending=0).take(10)\n",
    "    plot_top10(top10ArtistsAbsWithNames, title, 'Play Count', 'Artist')\n",
    "    return topArtistsAbsWithNames"
   ]
  },
  {
   "cell_type": "code",
   "execution_count": 46,
   "metadata": {},
   "outputs": [],
   "source": [
    "# rearrange data to plot top 10 artists per audience\n",
    "def top_10_artists_per_audience(df, title):\n",
    "    topArtistsAud = df.groupBy('artistID').agg(countDistinct('userID').alias('audience'))\n",
    "    # this join is done with the purpose of printing the names of the artists next to the bar plot instead of their ids\n",
    "    topArtistsAudWithNames = artistDF.join(topArtistsAud, ['artistID'])\n",
    "    top10ArtistsAudWithNames = topArtistsAudWithNames.select('name', 'audience').orderBy('audience', ascending=0).take(10)\n",
    "    plot_top10(top10ArtistsAudWithNames, title, 'Audience Size', 'Artist')\n",
    "    return topArtistsAudWithNames"
   ]
  },
  {
   "cell_type": "markdown",
   "metadata": {},
   "source": [
    "Here we will propose two plots per query: one with the standard df and one with the one without outliers.<br>\n",
    "So it's possible to find: two plots (play count and audience size) for the standard df first, and two plots for the outliers-free then."
   ]
  },
  {
   "cell_type": "code",
   "execution_count": 47,
   "metadata": {},
   "outputs": [
    {
     "data": {
      "image/png": "[encoded data removed]",
      "text/plain": [
       "<matplotlib.figure.Figure at 0x7f0880892e80>"
      ]
     },
     "metadata": {},
     "output_type": "display_data"
    }
   ],
   "source": [
    "topArtistsAbsWithNames = top_10_artists_per_playCount(newUserArtistDF, 'Top-10 Artist ID per playCount')\n",
    "topArtistsAbsWithNames = topArtistsAbsWithNames.cache() # get and cache the dataframe as it will be used later on"
   ]
  },
  {
   "cell_type": "code",
   "execution_count": 48,
   "metadata": {},
   "outputs": [
    {
     "data": {
      "image/png": "[encoded data removed]",
      "text/plain": [
       "<matplotlib.figure.Figure at 0x7f0880892780>"
      ]
     },
     "metadata": {},
     "output_type": "display_data"
    }
   ],
   "source": [
    "topArtistsAudWithNames = top_10_artists_per_audience(newUserArtistDF, 'Top-10 Artist ID per audience size')\n",
    "topArtistsAudWithNames = topArtistsAudWithNames.cache() # get and cache the dataframe as it will be used later on"
   ]
  },
  {
   "cell_type": "markdown",
   "metadata": {},
   "source": [
    "**COMMENT**<br>\n",
    "First of all we have defined a function to plot a bar graph with the results. On the x axis it is represented the value of playCount or audience size, depending on the query. On the y axis it is represented the top-10 artistID in both cases. <br>\n",
    "For the first query we just grouped by the artistID and summed the values of playCount. As a result we obtained the top-10 artists according to the absolute value of playCount.\n",
    "For the second query we grouped by the artistID again and we counted the number of different users that listened to their songs at least ones for each of them. As a result we obtained the top-10 artists according to the audience size.\n",
    "\n",
    "The plots demonstrates an existing correlation between the audience size and the play count because it is possible to notice that most of the artists are present in both of them; this is self-evident because we might expect that a very popular artist has also a big play count and viceversa.<br>\n",
    "However, it is interesting to notice, for example, that \"Green Day\" seems to have a wider audience compared to \"The Beatles\" while this behaviour is inverted if we look at the play counts, or that \"Pink Floys\" is in top-10 artists for the play count but it's not in the top-10 for the audience size while \"Coldplay\" is in the top-10 for the audience but not for the play counts. This is reasonable as we may expect that some artist, as \"Pink Floyd\", or \"The Beatles\", which are older groups no more in action, are listened from always the same people, while others, as \"Coldplay\" or \"Green Day\", are still playing and are more popular nowadays, and so have a bigger audience especially between young people.\n",
    "\n",
    "Another important thing to underline is the fact that the artist \"[unknown]\" came up from the audience size top-10 plot. This is not good for our recommendation system as it means that we are still dealing with \"dirty\" data. However it's good to know that as we will analyize its impact on the system later on."
   ]
  },
  {
   "cell_type": "markdown",
   "metadata": {},
   "source": [
    "#### ~Now repeat the same analysis with the \"outliers-free\" dataset"
   ]
  },
  {
   "cell_type": "code",
   "execution_count": 49,
   "metadata": {},
   "outputs": [
    {
     "data": {
      "image/png": "[encoded data removed]",
      "text/plain": [
       "<matplotlib.figure.Figure at 0x7f088069c630>"
      ]
     },
     "metadata": {},
     "output_type": "display_data"
    }
   ],
   "source": [
    "topArtistsAbswithoutOuliers = top_10_artists_per_playCount(newUserArtistDFwithoutOutliers, 'Top-10 Artist ID per playCount (no outliers)')\n",
    "topArtistsAbswithoutOuliers = topArtistsAbswithoutOuliers.cache()"
   ]
  },
  {
   "cell_type": "code",
   "execution_count": 50,
   "metadata": {},
   "outputs": [
    {
     "data": {
      "image/png": "[encoded data removed]",
      "text/plain": [
       "<matplotlib.figure.Figure at 0x7f0880595438>"
      ]
     },
     "metadata": {},
     "output_type": "display_data"
    }
   ],
   "source": [
    "topArtistsAudwithoutOuliers = top_10_artists_per_audience(newUserArtistDFwithoutOutliers, 'Top-10 Artist ID per audience size (no outliers)')\n",
    "topArtistsAudwithoutOuliers = topArtistsAudwithoutOuliers.cache()"
   ]
  },
  {
   "cell_type": "markdown",
   "metadata": {},
   "source": [
    "**COMMENT**<br>\n",
    "In this case there is no noticeable difference. The top tens are the same in both cases (play count and audience size), with and without the outliers. There may be very slight differences which will not influece the system behaviour."
   ]
  },
  {
   "cell_type": "markdown",
   "metadata": {},
   "source": [
    "#### Question 5.3\n",
    "\n",
    "<div class=\"alert alert-info\">\n",
    "Who are the top-10 users?\n",
    "<ul>\n",
    "  <li>In terms of absolute play counts</li>\n",
    "  <li>In terms of \"curiosity\", that is, how many different artists they listened to</li>\n",
    "\n",
    "</ul>  \n",
    "\n",
    "Plot the results\n",
    "</div>"
   ]
  },
  {
   "cell_type": "code",
   "execution_count": 51,
   "metadata": {},
   "outputs": [],
   "source": [
    "def top_10_users_per_playCount(df, title):\n",
    "    # calculate top 10 users interm of play counts\n",
    "    topUsersAbs = df.groupBy('userID').agg(sum('playCount').alias('totPlayCount'))\n",
    "    top10UsersAbs = topUsersAbs.orderBy('totPlayCount', ascending=0).take(10)\n",
    "    plot_top10(top10UsersAbs, title, 'Play Count', 'User')\n",
    "    return topUsersAbs"
   ]
  },
  {
   "cell_type": "code",
   "execution_count": 52,
   "metadata": {},
   "outputs": [
    {
     "data": {
      "image/png": "[encoded data removed]",
      "text/plain": [
       "<matplotlib.figure.Figure at 0x7f0880413cc0>"
      ]
     },
     "metadata": {},
     "output_type": "display_data"
    }
   ],
   "source": [
    "topUsersAbs = top_10_users_per_playCount(newUserArtistDF, 'Top-10 Users ID per play counts')\n",
    "topUsersAbs = topUsersAbs.cache() # get and cache dataframe as it will be used later on"
   ]
  },
  {
   "cell_type": "code",
   "execution_count": 53,
   "metadata": {},
   "outputs": [],
   "source": [
    "def top_10_users_per_curiosity(df, title):\n",
    "    # calculate top 10 users in term of curiosity\n",
    "    topUsersByCuriosity = df.groupBy('userID').agg(countDistinct('artistID').alias('curiosity'))\n",
    "    top10UsersByCuriosity = topUsersByCuriosity.orderBy('curiosity', ascending=0).take(10)\n",
    "    plot_top10(top10UsersByCuriosity, title, 'Number of Artists', 'User')\n",
    "    return topUsersByCuriosity"
   ]
  },
  {
   "cell_type": "code",
   "execution_count": 54,
   "metadata": {},
   "outputs": [
    {
     "data": {
      "image/png": "[encoded data removed]",
      "text/plain": [
       "<matplotlib.figure.Figure at 0x7f08802df240>"
      ]
     },
     "metadata": {},
     "output_type": "display_data"
    }
   ],
   "source": [
    "topUsersByCuriosity = top_10_users_per_curiosity(newUserArtistDF, 'Top-10 Users ID per different artists listened to')\n",
    "topUsersByCuriosity = topUsersByCuriosity.cache() # get and cache dataframe as it will be used later on"
   ]
  },
  {
   "cell_type": "markdown",
   "metadata": {},
   "source": [
    "**COMMENT**<br>\n",
    "On the x axis it is represented the value of playCount or the artists count, depending on the query. On the y axis it is represented the top-10 userID in both cases.<br>\n",
    "As before, for the first query we just grouped by the userID and summed the values of playCount. As a result we obtained the top-10 users according to the absolute value of playCount.\n",
    "For the second query we grouped by the userID again and we counted the number of different artists each of them listened to. As a result we obtained the top-10 users according to their \"curiosity\".<br>\n",
    "However in this case the plots did not demonstrate the same correlation as for the artists: users' curiosity and total play count are not related as well. In fact, at least for the top 10 users of this dataset, the ones with the highest play counts do not appear in the second plot; this could mean that those have an high play count just because they are used to listen always to the same songs and artists."
   ]
  },
  {
   "cell_type": "markdown",
   "metadata": {},
   "source": [
    "#### ~Now repeat the same analysis with the \"outliers-free\" dataset"
   ]
  },
  {
   "cell_type": "code",
   "execution_count": 55,
   "metadata": {},
   "outputs": [
    {
     "data": {
      "image/png": "[encoded data removed]",
      "text/plain": [
       "<matplotlib.figure.Figure at 0x7f088043dba8>"
      ]
     },
     "metadata": {},
     "output_type": "display_data"
    }
   ],
   "source": [
    "topUsersAbswithoutOutliers = top_10_users_per_playCount(newUserArtistDFwithoutOutliers, 'Top-10 Users ID per play counts (no outliers)')\n",
    "topUsersAbswithoutOutliers = topUsersAbswithoutOutliers.cache()"
   ]
  },
  {
   "cell_type": "code",
   "execution_count": 56,
   "metadata": {},
   "outputs": [
    {
     "data": {
      "image/png": "[encoded data removed]",
      "text/plain": [
       "<matplotlib.figure.Figure at 0x7f08800e2cf8>"
      ]
     },
     "metadata": {},
     "output_type": "display_data"
    }
   ],
   "source": [
    "topUsersByCuriositywithoutOutliers = top_10_users_per_curiosity(newUserArtistDFwithoutOutliers, 'Top-10 Users ID per different artists listened to (no outliers)')\n",
    "topUsersByCuriositywithoutOutliers = topUsersByCuriositywithoutOutliers.cache()"
   ]
  },
  {
   "cell_type": "markdown",
   "metadata": {},
   "source": [
    "**COMMENT**<br>\n",
    "Here the difference between the case with and without outliers are evident, as we are directly analyzing the top 10 users. As we have removed the \"most active\" users from our \"outliers-free\" dataset, obviously the first of the two plots results to be cut up at the value 20000, which is the one we have chosen as our outliers upperbound. In the second plot, instead, we can see a trend similar to the one above, but the users are different!"
   ]
  },
  {
   "cell_type": "markdown",
   "metadata": {},
   "source": [
    "## In-depth analysis: audience size, curiosity and play counts"
   ]
  },
  {
   "cell_type": "markdown",
   "metadata": {},
   "source": [
    "Until now we have studied users and artists by analyzing play counts, audience and curiosity. But it could be also interesting to analyze play counts by looking, for example, at the correlation that exists between the total number of played song per artist and the number of different users that listen to him.<br>\n",
    "So the goal of this section is to go deeper into the analysis done until this point."
   ]
  },
  {
   "cell_type": "markdown",
   "metadata": {},
   "source": [
    "### PlayCount vs Audience"
   ]
  },
  {
   "cell_type": "markdown",
   "metadata": {},
   "source": [
    "As we have said above, one interesting thing to notice is the ratio between the total play count per artist and his audience. In fact, if we consider the ratio audienceSize/playCount we obtain a value which indicates the \"degree of loyalty\" of the users towards a particular artist:\n",
    "* the more this value is close to 0, the bigger is the fidelity of the users. This because it means that a \"small portion\" of users tends to listen again to that artist multiple time\n",
    "* the more this it's close 1, the less is the users loyality. This because it means that users tends to listen to that artist only once (or few times), without playing back his songs anymore.\n",
    "\n",
    "This ratio may give us a good index of the \"appeal\" of a certain artist, and, depending on the result, might be very useful to recommend (or avoid doing so) a song of the same artist right after it has been listened to one.<br>\n",
    "For example, if we have an artist with a low index, we know that users tend to listen to him multiple times, so it might be a good idea to suggest one of his songs to a user which is listening to him for the first time. At the contrary, if an artist has a low index, a good recommendation would be to change it after the first plays.<br>\n",
    "Moreover, it could be useful also to \"group\" artists. In fact, we might be interested in dividing the artists in subgroups, or clusters, in term of \"audience diversity\", which is not simply the audience size as it is but is a kind of normalization with respect to play count. If we simply look at the audience size, the smallest and unknown artists could be disadvantaged and it could be very difficult for them to \"come to light\"; while, in online/streaming services like this, people could be interested in finding new small artists, and in this way those may take advantage of such system.<br>\n",
    "Analyzing the values from these tables it is also possible to measure how successful are artist's songs during the years. In fact there could be an artist whose songs are listened to many times also after years since their release, whereas other ones whose songs are only listened to in the period close to their first release."
   ]
  },
  {
   "cell_type": "code",
   "execution_count": 57,
   "metadata": {
    "collapsed": true
   },
   "outputs": [
    {
     "name": "stdout",
     "output_type": "stream",
     "text": [
      "+--------+--------------------+--------+------------+--------------------+\n",
      "|artistID|                name|audience|totPlayCount|        aud_PC_ratio|\n",
      "+--------+--------------------+--------+------------+--------------------+\n",
      "|     111|            Calexico|    4740|       99394|0.047688995311588225|\n",
      "|     133|            Submerge|      30|         228| 0.13157894736842105|\n",
      "|     313|         David Bowie|   27170|      722031| 0.03762996325642528|\n",
      "|     414|    Forgotten Rebels|      88|        1069|  0.0823199251637044|\n",
      "|    1280|           Salt Tank|     965|        3549|  0.2719075795998873|\n",
      "|    1292|       Stereophonics|   10296|      181277| 0.05679705643848916|\n",
      "|    1413|   The Dandy Warhols|   12175|      204324| 0.05958673479375893|\n",
      "|    1736|DJ Spooky That Su...|      88|         778| 0.11311053984575835|\n",
      "|    2560|        Paul Schutze|      61|         398| 0.15326633165829145|\n",
      "|    2934|              Fonica|     107|        1695| 0.06312684365781711|\n",
      "|    3321|           Semisonic|    6640|       63907|  0.1039009811131801|\n",
      "|    3704|              Tenzor|       8|          18|  0.4444444444444444|\n",
      "|    4149|         Billy Bragg|    2945|       54344|0.054191815103783306|\n",
      "|    5084|Andy Sheppard, Ca...|       1|           1|                 1.0|\n",
      "|    5709|          Polyphonic|       3|           7| 0.42857142857142855|\n",
      "| 1000283|        Bill Withers|    4439|       24748| 0.17936802973977695|\n",
      "| 1000431|      REO Speedwagon|    2847|       15707|  0.1812567644999045|\n",
      "| 1001440|          Gas Huffer|     296|        1237|  0.2392886014551334|\n",
      "| 1001937|Beavis and Butt-head|      70|         181|  0.3867403314917127|\n",
      "| 1002064|         Audioplacid|     140|         513|  0.2729044834307992|\n",
      "+--------+--------------------+--------+------------+--------------------+\n",
      "only showing top 20 rows\n",
      "\n"
     ]
    }
   ],
   "source": [
    "#join artists\n",
    "AudiencePlaycountDF = topArtistsAudWithNames.join(topArtistsAbsWithNames, ['artistID', 'name'])\n",
    "AudiencePlaycountDF = AudiencePlaycountDF.withColumn('aud_PC_ratio', ((1.0*AudiencePlaycountDF.audience)/AudiencePlaycountDF.totPlayCount))\n",
    "AudiencePlaycountDF.show()"
   ]
  },
  {
   "cell_type": "code",
   "execution_count": 58,
   "metadata": {},
   "outputs": [],
   "source": [
    "# utility function that may be useful further on\n",
    "def getArtistStats(artistID):\n",
    "    return AudiencePlaycountDF[AudiencePlaycountDF.artistID == artistID].take(1)[0]"
   ]
  },
  {
   "cell_type": "code",
   "execution_count": 59,
   "metadata": {
    "collapsed": true
   },
   "outputs": [
    {
     "name": "stdout",
     "output_type": "stream",
     "text": [
      "+--------+--------------------+--------+------------+--------------------+\n",
      "|artistID|                name|audience|totPlayCount|        aud_PC_ratio|\n",
      "+--------+--------------------+--------+------------+--------------------+\n",
      "|     979|           Radiohead|   45630|     2502596|0.018233066783452063|\n",
      "| 1000113|         The Beatles|   40919|     2259825| 0.01810715431504652|\n",
      "|    4267|           Green Day|   43883|     1931143| 0.02272384800089895|\n",
      "| 1000024|           Metallica|   32337|     1543430|0.020951387494087842|\n",
      "|    4468|    System of a Down|   27199|     1426254|0.019070235736411607|\n",
      "|      82|          Pink Floyd|   30661|     1399665|0.021905956068059142|\n",
      "|     831|     Nine Inch Nails|   25410|     1361977|0.018656702719649452|\n",
      "| 1001779|        Modest Mouse|   27731|     1328969| 0.02086655143949934|\n",
      "| 1000130|         Bright Eyes|   22159|     1234773|0.017945808662806848|\n",
      "|     976|             Nirvana|   36823|     1203348| 0.03060045805535888|\n",
      "| 1000139|                Muse|   26598|     1148684|0.023155193247229002|\n",
      "|    4192| Death Cab for Cutie|   23027|     1117277|0.020609929319228802|\n",
      "|    1274|Red Hot Chili Pep...|   36036|     1088701|  0.0330999971525699|\n",
      "|    1193|       Elliott Smith|   19385|     1080542|0.017940070816312555|\n",
      "|    5705|           Rammstein|   24062|     1047119| 0.02297924113687174|\n",
      "|    1854|         Linkin Park|   26581|     1028921|0.025833858964876798|\n",
      "|    1205|                  U2|   34853|     1015494| 0.03432122691025255|\n",
      "| 1008419|           Nightwish|   14838|     1010869|0.014678459820214092|\n",
      "|    1177|            Coldplay|   38497|     1001417|0.038442526939326975|\n",
      "| 1001909|            Interpol|   24477|      979770|0.024982393827122692|\n",
      "+--------+--------------------+--------+------------+--------------------+\n",
      "only showing top 20 rows\n",
      "\n"
     ]
    }
   ],
   "source": [
    "AudiencePlaycountDF.orderBy('totPlayCount', ascending=0).show()"
   ]
  },
  {
   "cell_type": "code",
   "execution_count": 60,
   "metadata": {
    "collapsed": true
   },
   "outputs": [
    {
     "name": "stdout",
     "output_type": "stream",
     "text": [
      "+--------+--------------------+--------+------------+--------------------+\n",
      "|artistID|                name|audience|totPlayCount|        aud_PC_ratio|\n",
      "+--------+--------------------+--------+------------+--------------------+\n",
      "|     979|           Radiohead|   45630|     2502596|0.018233066783452063|\n",
      "|    4267|           Green Day|   43883|     1931143| 0.02272384800089895|\n",
      "| 1000113|         The Beatles|   40919|     2259825| 0.01810715431504652|\n",
      "|    1177|            Coldplay|   38497|     1001417|0.038442526939326975|\n",
      "|     976|             Nirvana|   36823|     1203348| 0.03060045805535888|\n",
      "|    1274|Red Hot Chili Pep...|   36036|     1088701|  0.0330999971525699|\n",
      "|    1205|                  U2|   34853|     1015494| 0.03432122691025255|\n",
      "| 1000024|           Metallica|   32337|     1543430|0.020951387494087842|\n",
      "|    3327|              Weezer|   31951|      977933|0.032671972415288165|\n",
      "| 1034635|           [unknown]|   31324|      429447| 0.07294031626719945|\n",
      "| 1231740|     Franz Ferdinand|   30692|      740594|0.041442409741369764|\n",
      "|      82|          Pink Floyd|   30661|     1399665|0.021905956068059142|\n",
      "| 1270639|         The Killers|   30214|      879764| 0.03434330115803784|\n",
      "|    1307|   The White Stripes|   29804|      671381| 0.04439208139640532|\n",
      "|     189|            The Cure|   29161|      895561| 0.03256171271415347|\n",
      "|     352|                Beck|   29153|      906699| 0.03215289748858221|\n",
      "|    1394|        Led Zeppelin|   29117|      944551|0.030826286775409693|\n",
      "|     930|              Eminem|   28974|      891612|0.032496197897740275|\n",
      "| 1275996|              R.E.M.|   28885|      752743| 0.03837299051601941|\n",
      "|    1270|               Queen|   28457|      740877| 0.03840988450174591|\n",
      "+--------+--------------------+--------+------------+--------------------+\n",
      "only showing top 20 rows\n",
      "\n"
     ]
    }
   ],
   "source": [
    "AudiencePlaycountDF.orderBy('audience', ascending=0).show()"
   ]
  },
  {
   "cell_type": "code",
   "execution_count": 61,
   "metadata": {
    "collapsed": true
   },
   "outputs": [
    {
     "name": "stdout",
     "output_type": "stream",
     "text": [
      "+--------+--------------------+--------+------------+-------------------+\n",
      "|artistID|                name|audience|totPlayCount|       aud_PC_ratio|\n",
      "+--------+--------------------+--------+------------+-------------------+\n",
      "| 1031297|                 CLS|     277|         517| 0.5357833655705996|\n",
      "| 1058030|            Davy DMX|     313|         587| 0.5332197614991482|\n",
      "| 1009497|      Barrett Strong|     314|         606| 0.5181518151815182|\n",
      "| 1236145|prodigy & tom mor...|     298|         601|0.49584026622296173|\n",
      "| 1013370|               Mtume|     266|         550|0.48363636363636364|\n",
      "|10705491|Ray Parker Jr. vs...|     343|         721|0.47572815533980584|\n",
      "| 1048726|          MUSICMATCH|     418|         881|0.47446083995459704|\n",
      "| 1244987| The Peasall Sisters|     257|         543| 0.4732965009208103|\n",
      "|    3898|              Hashim|     408|         863| 0.4727694090382387|\n",
      "| 1032996|          Bobby Byrd|     719|        1523|0.47209455022980956|\n",
      "| 1245010|James Carter & Th...|     563|        1198| 0.4699499165275459|\n",
      "| 1245049| The Rooftop Singers|     408|         873|0.46735395189003437|\n",
      "| 1252912|     The Five Satins|     356|         762| 0.4671916010498688|\n",
      "| 1068088|         Mr. Natural|     265|         570| 0.4649122807017544|\n",
      "| 1239516|Bono, Gavin Frida...|     367|         792| 0.4633838383838384|\n",
      "| 1249852|        The Slickers|     238|         514|0.46303501945525294|\n",
      "| 1035182|        Sandy Rogers|     293|         635|0.46141732283464565|\n",
      "|    1793|             Labelle|     470|        1021| 0.4603330068560235|\n",
      "| 1053196|Clarence \"Frogman...|     488|        1062| 0.4595103578154426|\n",
      "| 1238412|  The Fairfield Four|     692|        1516|0.45646437994722955|\n",
      "+--------+--------------------+--------+------------+-------------------+\n",
      "only showing top 20 rows\n",
      "\n"
     ]
    }
   ],
   "source": [
    "AudiencePlaycountDF.filter('totPlayCount > 500').orderBy('aud_PC_ratio', ascending=0).show()"
   ]
  },
  {
   "cell_type": "markdown",
   "metadata": {},
   "source": [
    "Here it is not useful to show the top artists per audience ratio as all artists with a very low play count (==1) would be shown. So we filtered the artists to show only those with a playcount > 500."
   ]
  },
  {
   "cell_type": "code",
   "execution_count": 62,
   "metadata": {
    "collapsed": true
   },
   "outputs": [
    {
     "name": "stdout",
     "output_type": "stream",
     "text": [
      "+--------+--------------------+--------+------------+--------------------+\n",
      "|artistID|                name|audience|totPlayCount|        aud_PC_ratio|\n",
      "+--------+--------------------+--------+------------+--------------------+\n",
      "|10107235|      Crime brothers|       1|        5841|1.712035610340695E-4|\n",
      "| 6901343|           Music 205|       6|       26132|2.296035512015919...|\n",
      "|10659711|               Tzigg|       1|        4275|2.339181286549707...|\n",
      "| 6859228|      Josh Rosenblum|       1|        4004|2.497502497502497...|\n",
      "|10508734|Killswitch Engage...|       1|        3988|2.507522567703109...|\n",
      "| 6730413|   Geographic Empire|       1|        3895|2.567394094993581...|\n",
      "| 6706174|Jack and the Fant...|       1|        3770|2.652519893899204E-4|\n",
      "| 9988956|        Dirt & Nazir|       1|        3222|3.103662321539416...|\n",
      "|10281600|       lizkar, crazy|       1|        3195|3.129890453834115...|\n",
      "| 6814959|International Gat...|       1|        3149|3.175611305176246...|\n",
      "| 9988950|    Pinnacle Rhythms|       1|        2956|3.382949932341001...|\n",
      "| 9922229|      Counter Action|       2|        5897|3.391555027980329E-4|\n",
      "|10121005|Helgi og Hljóðfær...|       1|        2869|3.485535029627048E-4|\n",
      "| 6986862|        Eric Bernard|       1|        2432|4.111842105263157...|\n",
      "| 6806342|          38 Speical|       1|        2389|4.185851820845542E-4|\n",
      "| 6631690|Spain In My Heart...|       1|        2365|4.228329809725158...|\n",
      "|10566106|          Sad Sonata|       1|        2327|4.297378599054577E-4|\n",
      "|10282615|        THe Dead See|       1|        2222|  4.5004500450045E-4|\n",
      "|10328026|        ポップンミュージック10|       1|        1974|5.065856129685917E-4|\n",
      "| 6753543|Watch Tower Symph...|       2|        3784|5.285412262156448E-4|\n",
      "+--------+--------------------+--------+------------+--------------------+\n",
      "only showing top 20 rows\n",
      "\n"
     ]
    }
   ],
   "source": [
    "AudiencePlaycountDF.orderBy('aud_PC_ratio', ascending=1).show()"
   ]
  },
  {
   "cell_type": "markdown",
   "metadata": {},
   "source": [
    "From the tables above it's possible to see the different relations between the top/worst artists and the related play counts and audience size. It's funny to notice that there are artists with an audience size = 1, which means that there is only one person that listens to that artist, and whose audience/count ratio in some cases could be very low because of the high play count. For example \"Crime brothers\" has a play count of 5841 and an audience of 1 person. In other cases it happens that the audience/count ratio is equal to 1 but this results from an unique person that listened to that artist once."
   ]
  },
  {
   "cell_type": "markdown",
   "metadata": {},
   "source": [
    "Above we have noticed an existing correlation between audience size and play counts as half of the artists which are present in the top-10 for audience size are also present in the top-10 for play count. But is this kind of correlation true in general?"
   ]
  },
  {
   "cell_type": "code",
   "execution_count": 63,
   "metadata": {
    "collapsed": true
   },
   "outputs": [],
   "source": [
    "def twin_plot(data, title, xlabel, ylabel1, ylabel2):\n",
    "    x = np.arange(len(data[:,0]))\n",
    "\n",
    "    fig = plt.figure(figsize=(15,8))\n",
    "    ax = fig.add_subplot(111)\n",
    "    ax.set_title(title)\n",
    "    ax.plot(x, data[:,1])\n",
    "    ax.set_xlabel(xlabel)\n",
    "    ax.set_ylabel(ylabel2, color='b')\n",
    "    ax2 = ax.twinx()\n",
    "    ax2.plot(x, data[:,0], 'r')\n",
    "    ax2.set_ylabel(ylabel1, color='r')\n",
    "    plt.show()"
   ]
  },
  {
   "cell_type": "code",
   "execution_count": 64,
   "metadata": {},
   "outputs": [],
   "source": [
    "data = AudiencePlaycountDF.orderBy('audience').select('audience', 'totPlayCount').collect()\n",
    "data = np.array(data)"
   ]
  },
  {
   "cell_type": "code",
   "execution_count": 65,
   "metadata": {
    "scrolled": true
   },
   "outputs": [
    {
     "data": {
      "image/png": "[encoded data removed]",
      "text/plain": [
       "<matplotlib.figure.Figure at 0x7f087ff75048>"
      ]
     },
     "metadata": {},
     "output_type": "display_data"
    }
   ],
   "source": [
    "twin_plot(data, \"Audience size vs Play count\", \"Artists\", \"Audience size\", \"Play counts\")"
   ]
  },
  {
   "cell_type": "markdown",
   "metadata": {},
   "source": [
    "**COMMENT**<br>\n",
    "In order to better visualize this possible correlation we have produced a twin plot: shared x axis with the artists (ordered by audience in this case just to show the increasing in both the curves), two y axis, one for the audience size (in red) and one for the play count (in blue).\n",
    "\n",
    "Here it is evident the fact that the trends that the play count and audience size assume are very similar to each other: the blu and the red lines are on each other."
   ]
  },
  {
   "cell_type": "code",
   "execution_count": 66,
   "metadata": {
    "collapsed": true
   },
   "outputs": [],
   "source": [
    "def scatter_plot(data, title, xlabel, ylabel, outliers=None):\n",
    "    plt.figure(figsize=(15,10) )\n",
    "    p = plt.scatter(data[:,0], data[:,1])\n",
    "    if(outliers is not None):\n",
    "        o = plt.scatter(outliers[:,0], outliers[:,1], color='red')\n",
    "        plt.legend((p,o),\n",
    "           ('Data point', 'Outlier'),\n",
    "           loc='upper right',\n",
    "           fontsize=8)\n",
    "    plt.xlabel(xlabel)\n",
    "    plt.ylabel(ylabel)\n",
    "    plt.title(title)\n",
    "    plt.show()"
   ]
  },
  {
   "cell_type": "code",
   "execution_count": 67,
   "metadata": {},
   "outputs": [
    {
     "data": {
      "image/png": "[encoded data removed]",
      "text/plain": [
       "<matplotlib.figure.Figure at 0x7f087ff754a8>"
      ]
     },
     "metadata": {},
     "output_type": "display_data"
    }
   ],
   "source": [
    "scatter_plot(data, \"Audience vs Play Count\", \"Audience\", \"Play Count\")"
   ]
  },
  {
   "cell_type": "markdown",
   "metadata": {},
   "source": [
    "**COMMENT**<br>\n",
    "Here instead we wanted to show a graphical representation of this ratio. The correlation is noticeable by looking at how the point are distributed around the diagonal line. This means that, in general, when the play count increase also the audience will increase (and viceversa).\n",
    "\n",
    "\n",
    "At this point we expect that we won't find the same correlation also for the curiosity and play count."
   ]
  },
  {
   "cell_type": "markdown",
   "metadata": {},
   "source": [
    "### PlayCount vs Curiosity"
   ]
  },
  {
   "cell_type": "markdown",
   "metadata": {},
   "source": [
    "The same analysis done for the artists can be done in the same way for the users. In this case, an important index could be the ratio curiosity/playCounts, which tell us what is the \"curiosity\" of the user with respect to the total songs he has listened to. This could be very useful, as before, in case we are interested in classifing/dividing the users in subgroups/clusters, so that also the \"smallest users\", the ones which have a very poor interaction with the system, can be suggested and recommended."
   ]
  },
  {
   "cell_type": "code",
   "execution_count": 68,
   "metadata": {
    "collapsed": true
   },
   "outputs": [
    {
     "name": "stdout",
     "output_type": "stream",
     "text": [
      "+-------+---------+------------+--------------------+\n",
      "| userID|curiosity|totPlayCount|  curiosity_PC_ratio|\n",
      "+-------+---------+------------+--------------------+\n",
      "|1000061|      111|         244| 0.45491803278688525|\n",
      "|1000070|      133|       20200|0.006584158415841584|\n",
      "|1000313|       26|         197|  0.1319796954314721|\n",
      "|1000832|      259|        1064| 0.24342105263157895|\n",
      "|1000905|       18|         214| 0.08411214953271028|\n",
      "|1001372|      229|        1329| 0.17231000752445447|\n",
      "|1001409|      317|       18663|0.016985479290574933|\n",
      "|1001530|      701|        3011| 0.23281301893058784|\n",
      "|1001700|      154|         608|  0.2532894736842105|\n",
      "|1001731|      823|        4478| 0.18378740509155872|\n",
      "|1001753|      794|        7742|  0.1025574786876776|\n",
      "|1001872|      518|        9087|0.057004511940134256|\n",
      "|1002159|      196|        1303| 0.15042210283960092|\n",
      "|1002420|     1033|       10232| 0.10095777951524629|\n",
      "|1002519|       29|         510|0.056862745098039215|\n",
      "|1002734|        8|          82|  0.0975609756097561|\n",
      "|1003034|      149|         996|  0.1495983935742972|\n",
      "|1003076|      208|        1480| 0.14054054054054055|\n",
      "|1003301|      146|         689| 0.21190130624092887|\n",
      "|1004223|      215|         383|  0.5613577023498695|\n",
      "+-------+---------+------------+--------------------+\n",
      "only showing top 20 rows\n",
      "\n"
     ]
    }
   ],
   "source": [
    "curiosityPlaycountDF = topUsersByCuriosity.join(topUsersAbs, ['userID'])\n",
    "curiosityPlaycountDF = curiosityPlaycountDF.withColumn('curiosity_PC_ratio', ((1.0*curiosityPlaycountDF.curiosity)/curiosityPlaycountDF.totPlayCount))\n",
    "curiosityPlaycountDF.show()"
   ]
  },
  {
   "cell_type": "code",
   "execution_count": 69,
   "metadata": {},
   "outputs": [],
   "source": [
    "# utility function that may be useful later on\n",
    "def getUserStats(user):\n",
    "    return curiosityPlaycountDF[curiosityPlaycountDF.userID == user].take(1)[0]"
   ]
  },
  {
   "cell_type": "code",
   "execution_count": 70,
   "metadata": {
    "collapsed": true
   },
   "outputs": [
    {
     "name": "stdout",
     "output_type": "stream",
     "text": [
      "+-------+---------+------------+--------------------+\n",
      "| userID|curiosity|totPlayCount|  curiosity_PC_ratio|\n",
      "+-------+---------+------------+--------------------+\n",
      "|1059637|      359|      674412|5.323155578489114E-4|\n",
      "|2064012|       57|      548427|1.039336137717508...|\n",
      "|2069337|      256|      393454|6.506478520996101E-4|\n",
      "|2023977|       67|      285978|2.342837560931260...|\n",
      "|1046559|     1066|      183867|0.005797668967242627|\n",
      "|1052461|      239|      175634|0.001360784358381...|\n",
      "|1070932|      120|      168977|7.101558200228433E-4|\n",
      "|1031009|      736|      166109|0.004430825542264417|\n",
      "|2020513|      121|      164649|7.348966589532885E-4|\n",
      "|2062243|      740|      151110|0.004897094831579644|\n",
      "|2069889|      231|      143092|0.001614346015151...|\n",
      "|2014936|      396|      135264|0.002927608232789...|\n",
      "|2017397|       72|      134032|5.371851498149696E-4|\n",
      "|1001440|     2429|      133825|0.018150569773958528|\n",
      "|1024631|     6119|      122067| 0.05012820827905986|\n",
      "|1007308|      548|      111546|0.004912771412690729|\n",
      "|2023742|      205|      101753|0.002014682613780429|\n",
      "|1058890|      610|       98459|0.006195472227018...|\n",
      "|1021940|      737|       97449|0.007562930353313015|\n",
      "|1059245|     1207|       96009|0.012571738066222958|\n",
      "+-------+---------+------------+--------------------+\n",
      "only showing top 20 rows\n",
      "\n"
     ]
    }
   ],
   "source": [
    "curiosityPlaycountDF.orderBy('totPlayCount', ascending=0).show()"
   ]
  },
  {
   "cell_type": "code",
   "execution_count": 71,
   "metadata": {
    "collapsed": true
   },
   "outputs": [
    {
     "name": "stdout",
     "output_type": "stream",
     "text": [
      "+-------+---------+------------+--------------------+\n",
      "| userID|curiosity|totPlayCount|  curiosity_PC_ratio|\n",
      "+-------+---------+------------+--------------------+\n",
      "|2030067|     6730|       23038|  0.2921260526087334|\n",
      "|1024631|     6119|      122067| 0.05012820827905986|\n",
      "|1059334|     5837|       80469|  0.0725372503697076|\n",
      "|2016026|     5770|       58921| 0.09792773374518422|\n",
      "|2023686|     4815|       80408|0.059882101283454385|\n",
      "|1045464|     4732|       53167| 0.08900257678635244|\n",
      "|1004584|     4685|       35051| 0.13366237767824027|\n",
      "|2010008|     4406|       77420|   0.056910359080341|\n",
      "|2232770|     4084|       20610| 0.19815623483745753|\n",
      "|1006093|     4001|       20586| 0.19435538715631984|\n",
      "|1041161|     3982|       18324|   0.217310630866623|\n",
      "|1008492|     3930|       17796|  0.2208361429534727|\n",
      "|1063488|     3785|       35195| 0.10754368518255435|\n",
      "|1063027|     3776|       22075| 0.17105322763306907|\n",
      "|2180622|     3565|       16303| 0.21867141016990738|\n",
      "|1021112|     3552|       32530| 0.10919151552413157|\n",
      "|2041212|     3488|       25939| 0.13446933189405913|\n",
      "|1039856|     3453|       16981|  0.2033449149048937|\n",
      "|1050213|     3387|       28798|  0.1176123341898743|\n",
      "|1067677|     3326|       15186| 0.21901751613328066|\n",
      "+-------+---------+------------+--------------------+\n",
      "only showing top 20 rows\n",
      "\n"
     ]
    }
   ],
   "source": [
    "curiosityPlaycountDF.orderBy('curiosity', ascending=0).show()"
   ]
  },
  {
   "cell_type": "code",
   "execution_count": 72,
   "metadata": {
    "collapsed": true
   },
   "outputs": [
    {
     "name": "stdout",
     "output_type": "stream",
     "text": [
      "+-------+---------+------------+------------------+\n",
      "| userID|curiosity|totPlayCount|curiosity_PC_ratio|\n",
      "+-------+---------+------------+------------------+\n",
      "|2311890|      521|         607|0.8583196046128501|\n",
      "|1005526|      447|         644|0.6940993788819876|\n",
      "|1017443|      619|         899|0.6885428253615128|\n",
      "|2038628|      436|         647|0.6738794435857806|\n",
      "|2345728|      452|         671|0.6736214605067065|\n",
      "|2173190|      440|         655|0.6717557251908397|\n",
      "|2247570|      535|         803|0.6662515566625156|\n",
      "|2268418|      397|         597|0.6649916247906198|\n",
      "|1000320|      662|         998|0.6633266533066132|\n",
      "|2174427|      748|        1128|0.6631205673758865|\n",
      "|2186437|      433|         662|0.6540785498489426|\n",
      "|2061101|      457|         700|0.6528571428571428|\n",
      "|2111169|      373|         572|0.6520979020979021|\n",
      "|1031842|      359|         552|0.6503623188405797|\n",
      "|2006706|      451|         697|0.6470588235294118|\n",
      "|2003880|      760|        1178|0.6451612903225806|\n",
      "|2402282|     1281|        2013|0.6363636363636364|\n",
      "|2300319|      404|         635|0.6362204724409449|\n",
      "|1004375|      347|         549|0.6320582877959927|\n",
      "|1059643|      402|         637| 0.631083202511774|\n",
      "+-------+---------+------------+------------------+\n",
      "only showing top 20 rows\n",
      "\n"
     ]
    }
   ],
   "source": [
    "curiosityPlaycountDF.filter('totPlayCount > 500').orderBy('curiosity_PC_ratio', ascending=0).show()"
   ]
  },
  {
   "cell_type": "markdown",
   "metadata": {},
   "source": [
    "Here it is not useful to show the top users per curiosity ratio as all users with a very low play count (==1) would be shown. So we filtered the users to show only thise with a playcount > 500, so that it's easier to make suggestions."
   ]
  },
  {
   "cell_type": "code",
   "execution_count": 73,
   "metadata": {
    "collapsed": true
   },
   "outputs": [
    {
     "name": "stdout",
     "output_type": "stream",
     "text": [
      "+-------+---------+------------+--------------------+\n",
      "| userID|curiosity|totPlayCount|  curiosity_PC_ratio|\n",
      "+-------+---------+------------+--------------------+\n",
      "|2064012|       57|      548427|1.039336137717508...|\n",
      "|2217459|        2|       16891|1.184062518500976...|\n",
      "|2043762|        6|       31112|1.928516328104911...|\n",
      "|2023977|       67|      285978|2.342837560931260...|\n",
      "|2259459|        2|        8440|2.369668246445497...|\n",
      "|2328582|        2|        5613|3.563156957063959E-4|\n",
      "|1047928|        1|        1909|5.238344683080147E-4|\n",
      "|1059637|      359|      674412|5.323155578489114E-4|\n",
      "|2017397|       72|      134032|5.371851498149696E-4|\n",
      "|1073616|       24|       42464|5.651846269781462E-4|\n",
      "|2401770|        4|        6477|6.175698625907056E-4|\n",
      "|2425358|        1|        1582|6.321112515802782E-4|\n",
      "|2069337|      256|      393454|6.506478520996101E-4|\n",
      "|1010364|        3|        4441|6.755235307363207E-4|\n",
      "|2136969|        2|        2923|6.842285323297981E-4|\n",
      "|1070932|      120|      168977|7.101558200228433E-4|\n",
      "|2175863|       26|       36240| 7.17439293598234E-4|\n",
      "|2020513|      121|      164649|7.348966589532885E-4|\n",
      "|2134686|       11|       14461|7.606666205656593E-4|\n",
      "|1051364|        1|        1274|7.849293563579278E-4|\n",
      "+-------+---------+------------+--------------------+\n",
      "only showing top 20 rows\n",
      "\n"
     ]
    }
   ],
   "source": [
    "curiosityPlaycountDF.orderBy('curiosity_PC_ratio', ascending=1).show()"
   ]
  },
  {
   "cell_type": "markdown",
   "metadata": {},
   "source": [
    "In the same way as before, now we want to try to confirm/confute what we have guessed above: apparently there is no correlation between the curiosity and the play counts as none of the users present in the top-10 for curiosity is also present in the top-10 for play count. But is this true in general?"
   ]
  },
  {
   "cell_type": "code",
   "execution_count": 74,
   "metadata": {},
   "outputs": [],
   "source": [
    "data = curiosityPlaycountDF.orderBy('curiosity').select('curiosity', 'totPlayCount').collect()\n",
    "data = np.array(data)"
   ]
  },
  {
   "cell_type": "code",
   "execution_count": 75,
   "metadata": {
    "scrolled": false
   },
   "outputs": [
    {
     "data": {
      "image/png": "[encoded data removed]",
      "text/plain": [
       "<matplotlib.figure.Figure at 0x7f087f0eea20>"
      ]
     },
     "metadata": {},
     "output_type": "display_data"
    }
   ],
   "source": [
    "twin_plot(data, \"Curiosity vs Play count\", \"Users\", \"Curiosity\", \"Play counts\")"
   ]
  },
  {
   "cell_type": "markdown",
   "metadata": {},
   "source": [
    "**COMMENT**<br>\n",
    "Also in this case we have produced a twin plot: shared x axis with the users (ordered by audience in this case just to show the decreasing in both the curves), two y axis, one for the curiosity (in red) and one for the play count (in blue).\n",
    "\n",
    "Contrarily to what we found for Audience vs Play count, in this case the trends of the two curves are clearly completely uncorrelated. As before, the data have been ordered by curiosity in this case, and it's evident how the play count \"curve\" is compleately different. There are, in fact, a lot of users which have a very low curiosity, but a very high play count at the same time.\n",
    "\n",
    "NB: for this plot we have used the \"normal\" df version, not the one without outliers. Obviously the results would have been the same, with the blu lines cut on the top, resulting in a \"zoomed\" version of the plot, filled with vertical blu lines."
   ]
  },
  {
   "cell_type": "code",
   "execution_count": 76,
   "metadata": {},
   "outputs": [],
   "source": [
    "# for computing outliers, just repeat the same operations as above on the dataframe and subtract the two\n",
    "curiosityPlaycountDFwithoutOutliers = topUsersByCuriositywithoutOutliers.join(topUsersAbswithoutOutliers, ['userID'])\n",
    "\n",
    "outliersDF = curiosityPlaycountDF.join(curiosityPlaycountDFwithoutOutliers, ['userID'], 'leftanti')\n",
    "outliers_data = outliersDF.select('curiosity', 'totPlayCount').collect()\n",
    "outliers_data = np.array(outliers_data)\n",
    "\n",
    "# then we need\n",
    "data = curiosityPlaycountDFwithoutOutliers.select('curiosity', 'totPlayCount').collect()\n",
    "data = np.array(data)"
   ]
  },
  {
   "cell_type": "code",
   "execution_count": 77,
   "metadata": {},
   "outputs": [
    {
     "data": {
      "image/png": "[encoded data removed]",
      "text/plain": [
       "<matplotlib.figure.Figure at 0x7f0880ac1d30>"
      ]
     },
     "metadata": {},
     "output_type": "display_data"
    }
   ],
   "source": [
    "scatter_plot(data, \"Curiosity vs Play Count\", \"Curiosity\", \"Play Count\", outliers=outliers_data)"
   ]
  },
  {
   "cell_type": "markdown",
   "metadata": {},
   "source": [
    "This is the same plot showed above for the audience vs playcount, in this case obviously representing curiosity vs playcounts. However, here we wanted also to put (a visive) evidence of the contrast between outliers and standard points. It may appears that the number of outliers is greater than the data points, but it is not like that as the outliers are much more \"sparse\"."
   ]
  },
  {
   "cell_type": "markdown",
   "metadata": {},
   "source": [
    "Given the plot above, we can confirm what we have guessed when we discussed about the top 10 artists and users per playcount, curiosity and audience (Question 5): there is not a correlation between curiosity and play count, while there is a correlation between audience and play count. In fact, unlike the scatter plot 'Audience vs Play Count', in this case the points are not concentrated around the main diagonal, but along the two axis."
   ]
  },
  {
   "cell_type": "markdown",
   "metadata": {},
   "source": [
    "Now we have some valuable information about the data. It's the time to study how to build a statistical models."
   ]
  },
  {
   "cell_type": "markdown",
   "metadata": {},
   "source": [
    "# 2. Build a statistical models to make recommendations\n",
    "\n",
    "## 2.1 Introduction to recommender systems\n",
    "\n",
    "In a recommendation-system application there are two classes of entities, which we shall refer to as `users` and `items`. Users have preferences for certain items, and these preferences must be inferred from the data. The data itself is represented as a `preference matrix` $A$, giving for each user-item pair, a value that represents what is known about the degree of preference of that user for that item. The table below is an example for a `preference matrix` of 5 users and `k` items. The `preference matrix` is also known as `utility matrix`.\n",
    "\n",
    "| | IT1 | IT2 | IT3 | ... | ITk |\n",
    "|---|---|---|---|---|---|\n",
    "| U1 | 1 |  | 5 | ... | 3 |\n",
    "| U2 |  | 2 |  | ... | 2 |\n",
    "| U3 | 5 |  | 3 | ... |  |\n",
    "| U4 | 3 | 3 |  | ... | 4 |\n",
    "| U5 |  | 1 |  | ... | ... |\n",
    "\n",
    "The value of row i, column j expresses how much does user `i` like item `j`. The values are often the rating scores of users for items. An unknown value implies that we have no explicit information about the user's preference for the item. The goal of a recommendation system is to predict \"the blanks\" in the `preference matrix`. For example, assume that the rating score is from 1 (dislike) to 5 (love), would user `U5` like `IT3` ? We have two approaches:\n",
    "\n",
    "* Designing our recommendation system to take into account properties of items such as brand, category, price... or even the similarity of their names. We can denote the similarity of items `IT2` and `IT3`, and then conclude that because user `U5` did not like `IT2`, they were unlikely to enjoy SW2 either.\n",
    "\n",
    "* We might observe that the people who rated both `IT2` and `IT3` tended to give them similar ratings. Thus, we could conclude that user `U5` would also give `IT3` a low rating, similar to `U5`'s rating of `IT2`\n",
    "\n",
    "It is not necessary to predict every blank entry in a `utility matrix`. Rather, it is only necessary to discover some entries in each row that are likely to be high. In most applications, the recommendation system does not oﬀer users a ranking of all items, but rather suggests a few that the user should value highly. It may not even be necessary to ﬁnd all items with the highest expected ratings, but only to ﬁnd a large subset of those with the highest ratings.\n",
    "\n",
    "\n",
    "## 2.2 Families of recommender systems\n",
    "\n",
    "In general, recommender systems can be categorized into two groups:\n",
    "\n",
    "* **Content-Based** systems focus on properties of items. Similarity of items is determined by measuring the similarity in their properties.\n",
    "\n",
    "* **Collaborative-Filtering** systems focus on the relationship between users and items. Similarity of items is determined by the similarity of the ratings of those items by the users who have rated both items.\n",
    "\n",
    "In the usecase of this notebook, artists take the role of `items`, and `users` keep the same role as `users`.\n",
    "Since we have no information about `artists`, except their names, we cannot build a `content-based` recommender system.\n",
    "\n",
    "Therefore, in the rest of this notebook, we only focus on `Collaborative-Filtering` algorithms.\n",
    "\n",
    "## 2.3 Collaborative-Filtering \n",
    "In this section, we study a member of a broad class of algorithms called `latent-factor` models. They try to explain observed interactions between large numbers of users and products through a relatively small number of unobserved, underlying reasons. It is analogous to explaining why millions of people buy a particular few of thousands of possible albums by describing users and albums in terms of tastes for perhaps tens of genres, tastes which are **not directly observable or given** as data. \n",
    "\n",
    "First, we formulate the learning problem as a matrix completion problem. Then, we will use a type of `matrix factorization` model to \"fill in\" the blanks.  We are given implicit ratings that users have given certain items (that is, the number of times they played a particular artist) and our goal is to predict their ratings for the rest of the items. Formally, if there are $n$ users and $m$ items, we are given an $n \\times m$ matrix $R$ in which the generic entry $(u, i)$ represents the rating for item $i$ by user $u$. **Matrix $R$ has many missing entries indicating unobserved ratings, and our task is to estimate these unobserved ratings**.\n",
    "\n",
    "A popular approach to the matrix completion problem is **matrix factorization**, where we want to \"summarize\" users and items with their **latent factors**.\n",
    "\n",
    "### 2.3.1 Basic idea and an example of Matrix Factorization\n",
    "For example, given a preference matrix 5x5 as below, we want to approximate this matrix into the product of two smaller matrixes $X$ and $Y$ .\n",
    "\n",
    "$$\n",
    "M = \n",
    "\\begin{bmatrix}\n",
    " 5 & 2 & 4 & 4 & 3 \\\\\n",
    " 3 & 1 & 2 & 4 & 1 \\\\\n",
    " 2 &  & 3 & 1 & 4 \\\\\n",
    " 2 & 5 & 4 & 3 & 5 \\\\\n",
    " 4 & 4 & 5 & 4 &  \\\\\n",
    "\\end{bmatrix}\n",
    "\\approx M^\\prime =\n",
    "\\begin{bmatrix}\n",
    " x_{11} & x_{12} \\\\\n",
    " x_{21} & x_{22} \\\\\n",
    " x_{31} & x_{32} \\\\\n",
    " x_{41} & x_{42} \\\\\n",
    " x_{51} & x_{52} \\\\\n",
    "\\end{bmatrix}\n",
    "\\times\n",
    "\\begin{bmatrix}\n",
    " y_{11} & y_{12} & y_{13} & y_{14} & y_{15} \\\\\n",
    " y_{21} & y_{22} & y_{23} & y_{24} & y_{25} \\\\\n",
    "\\end{bmatrix}\n",
    "$$\n",
    "\n",
    "$M^\\prime$ is an approximation that is as close to A as possible. To calculate how far from $M$ $M^\\prime$ is, we often calculate the sum of squared distances of non-empty elements in $M$ and the corresponding elements in $M^\\prime$.\n",
    "In this way, for $M^\\prime$, besides the approximated elements in $M$, we also have the non-observed elements. Therefore, to see how much does user `i` like item `j`, we simply pick up the value of $M^\\prime_{i,j}$.\n",
    "\n",
    "The challenge is how to calculate $X$ and $Y$. The bad news is that this can't be solved directly for both the best $X$ and best $Y$ at the same time. Fortunately, if $Y$ is known, we can calculate the best of $X$, and vice versa. It means from the initial values of $X$ and $Y$ in the beginning, we calculate the best $X$ according to $Y$, and then calculate the best $Y$ according to the new $X$. This process is repeated until the distance from $XY$ to $M$ is small. It's simple, right ?\n",
    "\n",
    "Let's take an example. To compute the approximation for the above 5x5 matrix $M$, first, we initialize the value of $X$ and $Y$ as below.\n",
    "\n",
    "$$\n",
    "M^\\prime = X \\times Y =\n",
    "\\begin{bmatrix}\n",
    " 1 & 1 \\\\\n",
    " 1 & 1 \\\\\n",
    " 1 & 1 \\\\\n",
    " 1 & 1 \\\\\n",
    " 1 & 1 \\\\\n",
    "\\end{bmatrix}\n",
    "\\times\n",
    "\\begin{bmatrix}\n",
    " 1 & 1 & 1 & 1 & 1 \\\\\n",
    " 1 & 1 & 1 & 1 & 1 \\\\\n",
    "\\end{bmatrix}\n",
    "=\n",
    "\\begin{bmatrix}\n",
    " 2 & 2 & 2 & 2 & 2 \\\\\n",
    " 2 & 2 & 2 & 2 & 2 \\\\\n",
    " 2 & 2 & 2 & 2 & 2 \\\\\n",
    " 2 & 2 & 2 & 2 & 2 \\\\\n",
    " 2 & 2 & 2 & 2 & 2 \\\\\n",
    "\\end{bmatrix}\n",
    "$$\n",
    "\n",
    "With the initial iteration, we calculate the the Root-Mean-Square Error from $XY$ to $M$.\n",
    "\n",
    "Consider the ﬁrst rows of $M$ and $XY$ . We subtract the first row of $XY$ from the entries in the ﬁrst row of $M$, to get $3,0,2,2,1$. We square and sum these to get $18$. \n",
    "\n",
    "In the second row, we do the same to get $1,−1,0,2,−1$, square and sum to get $7$. \n",
    "\n",
    "In the third row, the second column is blank, so that entry is ignored when computing the RMSE. The diﬀerences are $0,1,−1,2$ and the sum of squares is $6$. \n",
    "\n",
    "For the fourth row, the diﬀerences are $0,3,2,1,3$ and the sum of squares is $23$. \n",
    "\n",
    "The ﬁfth row has a blank entry in the last column, so the diﬀerences are $2,2,3,2$ and the sum of squares is $21$. \n",
    "\n",
    "When we sum the sums from each of the ﬁve rows, we get $18+7+6+23+21 = 75$. So, $RMSE=\\sqrt{75/23}=1.806$ where $23$ is the number of non-empty values in $M$.\n",
    "\n",
    "Next, with the given value of $Y$, we calculate $X$ by finding the best value for $X_{11}$.\n",
    "\n",
    "$$\n",
    "M^\\prime = X \\times Y =\n",
    "\\begin{bmatrix}\n",
    " x & 1 \\\\\n",
    " 1 & 1 \\\\\n",
    " 1 & 1 \\\\\n",
    " 1 & 1 \\\\\n",
    " 1 & 1 \\\\\n",
    "\\end{bmatrix}\n",
    "\\times\n",
    "\\begin{bmatrix}\n",
    " 1 & 1 & 1 & 1 & 1 \\\\\n",
    " 1 & 1 & 1 & 1 & 1 \\\\\n",
    "\\end{bmatrix}\n",
    "=\n",
    "\\begin{bmatrix}\n",
    " x+1 & x+1 & x+1 & x+1 & x+1 \\\\\n",
    " 2 & 2 & 2 & 2 & 2 \\\\\n",
    " 2 & 2 & 2 & 2 & 2 \\\\\n",
    " 2 & 2 & 2 & 2 & 2 \\\\\n",
    " 2 & 2 & 2 & 2 & 2 \\\\\n",
    "\\end{bmatrix}\n",
    "$$\n",
    "\n",
    "Now, to minimize the $RMSE$  we minimize the difference of the first rows $(5−(x+1))^2 + (2−(x+1))^2 + (4−(x+1))^2 + (4−(x+1))^2 + (3−(x+1))^2$. By  taking the derivative and set that equal to 0, we pick $x=2.6$\n",
    "\n",
    "Given the new value of $X$, we can calculate the best value for $Y$.\n",
    "\n",
    "$$\n",
    "M^\\prime = X \\times Y =\n",
    "\\begin{bmatrix}\n",
    " 2.6 & 1 \\\\\n",
    " 1 & 1 \\\\\n",
    " 1 & 1 \\\\\n",
    " 1 & 1 \\\\\n",
    " 1 & 1 \\\\\n",
    "\\end{bmatrix}\n",
    "\\times\n",
    "\\begin{bmatrix}\n",
    " y & 1 & 1 & 1 & 1 \\\\\n",
    " 1 & 1 & 1 & 1 & 1 \\\\\n",
    "\\end{bmatrix}\n",
    "=\n",
    "\\begin{bmatrix}\n",
    " 3.6 & 3.6 & 3.6 & 3.6 & 3.6 \\\\\n",
    " 2 & 2 & 2 & 2 & 2 \\\\\n",
    " 2 & 2 & 2 & 2 & 2 \\\\\n",
    " 2 & 2 & 2 & 2 & 2 \\\\\n",
    " 2 & 2 & 2 & 2 & 2 \\\\\n",
    "\\end{bmatrix}\n",
    "$$\n",
    "\n",
    "By doing the same process as before, we can pick value for $y=1.617$. After that, we can check if the $RMSE$ is not converged, we continue to update $X$ by $Y$ and vice versa. In this example, for simple, we only update one element of each matrix in each iteration. In practice, we can update a full row or full matrix at once.\n"
   ]
  },
  {
   "cell_type": "markdown",
   "metadata": {},
   "source": [
    "### 2.3.2 Matrix Factorization: Objective and ALS Algorithm on a Single Machine\n",
    "\n",
    "More formally, in general, we select $k$ latent features, and describe each user $u$ with a $k-$dimensional vector $x_u$, and each item $i$ with a $k-$dimensional vector $y_i$.\n",
    "\n",
    "Then, to predict user $u$'s rating for item $i$, we do as follows: $ r_{ui} \\approx x_{u}^{T}y_i$.\n",
    "\n",
    "This can be put, more elegantly, in a matrix form. Let $x_1, \\cdots x_n \\in \\mathbb{R}^k$ be the factors for the users, and $y_1, \\cdots y_m \\in \\mathbb{R}^k$ the factors for the items. The $k \\times n$ user matrix $X$ and the $k \\times m$ item matrix $Y$ are then defined by:\n",
    "\n",
    "$$\n",
    "X = \n",
    "\\begin{bmatrix}\n",
    " |   &         & |  \\\\\n",
    "x_1  &  \\cdots & x_n\\\\\n",
    " |   &         & |  \\\\\n",
    "\\end{bmatrix}\n",
    "$$\n",
    "\n",
    "$$\n",
    "Y = \n",
    "\\begin{bmatrix}\n",
    " |   &         & |  \\\\\n",
    "y_1  &  \\cdots & y_i\\\\\n",
    " |   &         & |  \\\\\n",
    "\\end{bmatrix}\n",
    "$$\n",
    "\n",
    "Our goal is to estimate the complete ratings matrix $R \\approx X^{T} Y$. We can formulate this problem as an optimization problem in which we aim to minimize an objective function and find optimal $X$ and $Y$ . In particular, we aim to minimize the least squares error of the observed ratings (and regularize):\n",
    "\n",
    "$$\n",
    "\\min_{X,Y} \\sum_{r_{ui} \\text{observed}}(r_{ui} - x_{u}^{T}y_i)^2 + \\lambda \\left( \\sum_{u} \\|x_u\\|^2 + \\sum_{i} \\|y_i\\|^2 \\right) \n",
    "$$\n",
    "\n",
    "Notice that this objective is non-convex (because of the $x_{u}^{T} y_i$ term); in fact it’s NP-hard to optimize. Gradient descent can be used as an approximate approach here, however it turns out to be slow and costs lots of iterations. Note however, that if we fix the set of variables $X$ and treat them as constants, then the objective is a convex function of $Y$ and vice versa. Our approach will therefore be to fix $Y$ and optimize $X$, then fix $X$ and optimize $Y$, and repeat until convergence. This approach is known as **ALS (Alternating Least Squares)**. For our objective function, the alternating least squares algorithm can be expressed with this simple pseudo-code:"
   ]
  },
  {
   "cell_type": "markdown",
   "metadata": {},
   "source": [
    "\n",
    "**Initialize** $X$, $Y$\n",
    "\n",
    "**while(convergence is not true) do**\n",
    "\n",
    "\n",
    "**for** $u = 1 \\cdots n$ **do**\n",
    "\n",
    "$x_u = \\left( \\sum_{r_ui \\in r_{u*}} y_i y_{i}^{T} + \\lambda I_k \\right)^{-1} \\sum_{r_ui \\in r_{u*}} r_{ui} y_i $ \n",
    "   \n",
    "**end for**\n",
    "\n",
    "**for** $u = 1 \\cdots n$ **do**\n",
    "\n",
    "$y_i = \\left( \\sum_{r_ui \\in r_{*i}} x_u x_{u}^{T} + \\lambda I_k \\right)^{-1} \\sum_{r_ui \\in r_{*i}} r_{ui} x_u $ \n",
    "   \n",
    "**end for**\n",
    "\n",
    "\n",
    "**end while**\n"
   ]
  },
  {
   "cell_type": "markdown",
   "metadata": {},
   "source": [
    "For a single machine, we can analyze the computational cost of this algorithm. Updating each $x_u$ will cost $O(n_u k^2 + k^3)$, where $n_u$ is the number of items rated by user $u$, and similarly updating each $y_i$ will cost $O(n_i k^2 + k^3)$, where $n_i$ is the number of users that have rated item $i$.\n",
    "\n",
    "\n",
    "Once we’ve computed the matrices $X$ and $Y$, there are several ways compute a prediction. The first is to do what was discussed before, which is to simply predict $ r_{ui} \\approx x_{u}^{T}y_i$ for each user $u$ and item $i$. \n",
    "This approach will cost $O(nmk)$ if we’d like to estimate every user-item pair. \n",
    "\n",
    "However, this approach is prohibitively expensive for most real-world datasets. A second (and more holistic) approach is to use the $x_u$ and $y_i$ as features in another learning algorithm, incorporating these features with others that are relevant to the prediction task."
   ]
  },
  {
   "cell_type": "markdown",
   "metadata": {},
   "source": [
    "### 2.3.3 Parallel Altenating Least Squares\n",
    "\n",
    "There are several ways to distribute the computation of the ALS algorithm depending on how data is partitioned.\n",
    "\n",
    "#### Method 1: using joins\n",
    "First we consider a fully distributed version, in the sense that all data (both input and output) is stored in a distributed file system. In practice, input data (ratings) and parameters ($X$ and $Y$) are stored in an a Spark RDD. Specifically, ratings -- that are always **sparse** -- are stored as RDD of triplets:\n",
    "\n",
    "Ratings: RDD((u, i, $r_{ui}$), . . . )\n",
    "\n",
    "\n",
    "Instead, we can use dense representation for factor matrices $X$ and $Y$, and these are stored as RDDs of vectors. More precisely, we can use the data types introduced in Spark MLLib to store such vectors and matrices:\n",
    "\n",
    "X : RDD($x_1$,...,$x_n$)\n",
    "\n",
    "Y : RDD($y_1$,...,$y_m$)\n",
    "\n",
    "\n",
    "Now, recall the expression to compute $x_u$:\n",
    "\n",
    "$x_u = \\left( \\sum_{r_ui \\in r_{u*}} y_i y_{i}^{T} + \\lambda I_k \\right)^{-1} \\sum_{r_ui \\in r_{u*}} r_{ui} y_i $ \n",
    "\n",
    "Let's call the first summation *part A* and the second summation *part B*. To compute such parts, in parallel, we can proceed with the following high-level pseudocode:\n",
    "\n",
    "* Join the Ratings RDD with the $Y$ matrix RDD using key $i$ (items)\n",
    "* Map to compute $y_i y_{i}^{T}$ and emit using key $u$ (user)\n",
    "* ReduceByKey $u$ (user) to compute $\\sum_{r_ui \\in r_{u*}} y_i y_{i}^{T}$\n",
    "* Invert\n",
    "* Another ReduceByKey $u$ (user) to compute $\\sum_{r_ui \\in r_{u*}} r_{ui} y_i$\n",
    "\n",
    "We can use the same template to copmute $y_i$.\n",
    "\n",
    "This approach works fine, but note it requires computing $y_i y_{i}^{T}$ for each user that has rated item $i$. \n",
    "\n",
    "#### Method 2: using broadcast variables (advanced topic)\n",
    "The next approach takes advantage of the fact that the $X$ and $Y$ factor matrices are often very small and can be stored locally on each machine.\n",
    "\n",
    "* Partition the Ratings RDD **by user** to create $R_1$, and similarly partition the Ratings RDD **by item** to create $R_2$. This means there are two copies of the same Ratings RDD, albeit with different partitionings. In $R_1$, all ratings by the same user are on the same machine, and in $R_2$ all ratings for same item are on the same machine.\n",
    "* Broadcast the matrices $X$ and $Y$. Note that these matrices are not RDD of vectors: they are now \"local: matrices.\n",
    "* Using $R_1$ and $Y$, we can use expression $x_u$ from above to compute the update of $x_u$ locally on each machine\n",
    "* Using $R_2$ and $X$, we can use expression $y_i$ from above to compute the update of $y_i$ locally on each machine\n",
    "\n",
    "A further optimization to this method is to group the $X$ and $Y$ factors matrices into blocks (user blocks and item blocks) and reduce the communication by only sending to each machine the block of users (or items) that are needed to compute the updates at that machine. \n",
    "\n",
    "This method is called **Block ALS**. It is achieved by precomputing some information about the ratings matrix to determine the \"out-links\" of each user (which blocks of the items it will contribute to) and \"in-link\" information for each item (which of the factor vectors it receives from each user block it will depend on). For exmple, assume that machine 1 is responsible for users 1,2,...,37: these will be block 1 of users. The items rated by these users are block 1 of items. Only the factors of block 1 of users and block 1 of items will be broadcasted to machine 1.\n",
    "\n",
    "### Further readings\n",
    "Other methods for matrix factorization include:\n",
    "\n",
    "* Low Rank Approximation and Regression in Input Sparsity Time, by Kenneth L. Clarkson, David P. Woodruff. http://arxiv.org/abs/1207.6365\n",
    "* Generalized Low Rank Models (GLRM), by Madeleine Udell, Corinne Horn, Reza Zadeh, Stephen Boyd. http://arxiv.org/abs/1410.0342\n",
    "* Matrix Completion and Low-Rank SVD via Fast Alternating Least Squares, by Trevor Hastie, Rahul Mazumder, Jason D. Lee, Reza Zadeh . Statistics Department and ICME, Stanford University, 2014. http://stanford.edu/~rezab/papers/fastals.pdf"
   ]
  },
  {
   "cell_type": "markdown",
   "metadata": {},
   "source": [
    "# 3. Usecase : Music recommender system\n",
    "\n",
    "In this usecase, we use the data of users and artists in the previous sections to build a statistical model to recommend artists for users.\n",
    " \n",
    "## 3.1 Requirements\n",
    "According to the properties of data, we need to choose a recommender algorithm that is suitable for this implicit feedback data. It means that the algorithm should learn without access to user or artist attributes such as age, genre,.... Therefore, an algorithm of type `collaborative filtering` is the best choice.\n",
    "\n",
    "Second, in the data, there are some users that have listened to only 1 artist. We need an algorithm that might provide decent recommendations to even these users. After all, at some point, every user starts out with just one play at some point! \n",
    "\n",
    "Third, we need an algorithm that scales, both in its ability to build large models, and to create recommendations quickly. So, an algorithm which can run on a distributed system (SPARK, Hadoop...) is very suitable.\n",
    "\n",
    "From these requirement, we can choose using ALS algorithm in SPARK's MLLIB.\n",
    "\n",
    "Spark MLlib’s ALS implementation draws on ideas from [1](http://yifanhu.net/PUB/cf.pdf) and [2](http://link.springer.com/chapter/10.1007%2F978-3-540-68880-8_32).\n",
    "\n",
    "## 3.2 Notes\n",
    "\n",
    "Currently, MLLIB can only build models from an RDD. That means we have two ways to prepare data:\n",
    "\n",
    "* Loading to into SPARK SQL DataFrame as before, and then access the corresponding RDD by calling `<dataframe>.rdd`. The invalid data is often sucessfully dropped by using mode `DROPMALFORMED`. However, this way might not work in all cases. Fortunately, we can use it with this usecase.\n",
    "\n",
    "* Loading data directly to RDD. However, we have to deal with the invalid data ourself. In the trade-off, this way is the most reliable, and can work in every case.\n",
    "\n",
    "In this notebook, we will use the second approach: it requires a bit more effort, but the reward is worth it!\n",
    "\n",
    " \n",
    "## 3.3 Cleanup the data\n",
    "In section 1, we already replaced the ids of mispelled artists by the corresponding standard ids by using SPARK SQL API.\n",
    "However, if the data has the invalid entries such that SPARK SQL API is stuck, the best way to work with it is using an RDD.\n",
    "\n",
    "Just as a recall, we work with three datasets in `user_artist_data.txt`, `` and `artist_alias.txt`. The entries in these file can be empty or have only one field. \n",
    "\n",
    "In details our goal now is:\n",
    "\n",
    "* Read the input ```user_artist_data.txt``` and transforms its representation into an output dataset.\n",
    "* To produce an output \"tuple\" containing the original user identifier and play counts, but with the artist identifier replaced by its most common alias, as found in the ```artist_alias.txt``` dataset.\n",
    "* Since the ```artist_alias.txt``` file is small, we can use a technique called **broadcast variables** to make such transformation more efficient.\n"
   ]
  },
  {
   "cell_type": "markdown",
   "metadata": {},
   "source": [
    "### Question 6\n",
    "\n",
    "#### Question 6.1\n",
    "\n",
    "<div class=\"alert alert-info\">\n",
    "Load data from `/datasets/lastfm/artist_alias.txt` and filter out the invalid entries to construct a dictionary to map from mispelled artists' ids to standard ids.\n",
    "</div>\n",
    "\n",
    "NOTE: From now on, we will use the \"standard\" data to train our model.\n",
    "\n",
    "HINT: If a line contains less than 2 fields or contains invalid numerial values, we can return a special tuple. After that, we can filter out these special tuples."
   ]
  },
  {
   "cell_type": "code",
   "execution_count": 14,
   "metadata": {
    "collapsed": true
   },
   "outputs": [],
   "source": [
    "rawArtistAlias = sc.textFile(base + \"artist_alias.txt\")\n",
    "\n",
    "def xtractFields(s):\n",
    "    # Using white space or tab character as separators,\n",
    "    # split a line into list of strings \n",
    "    line = re.split(\"\\s|\\t\",s,1)\n",
    "    # if this line has at least 2 characters\n",
    "    if (len(line) > 1):\n",
    "        try:\n",
    "            # try to parse the first and the second components to integer type\n",
    "            return (int(line[0]), int(line[1]))\n",
    "        except ValueError:\n",
    "            # if parsing has any error, return a special tuple\n",
    "            return (-1,-1)\n",
    "    else:\n",
    "        # if this line has less than 2 characters, return a special tuple\n",
    "        return (-1,-1)\n",
    "\n",
    "artistAlias = (\n",
    "                rawArtistAlias\n",
    "                    # extract fields using function xtractFields\n",
    "                    .map(xtractFields)\n",
    "    \n",
    "                    # filter out the special tuples\n",
    "                    .filter(lambda x: x[0] != -1 and x[1] != -1)\n",
    "    \n",
    "                    # collect result to the driver as a \"dictionary\"\n",
    "                    .collectAsMap()\n",
    "                )"
   ]
  },
  {
   "cell_type": "markdown",
   "metadata": {},
   "source": [
    "### Cleaning"
   ]
  },
  {
   "cell_type": "code",
   "execution_count": 6,
   "metadata": {},
   "outputs": [
    {
     "name": "stdout",
     "output_type": "stream",
     "text": [
      "Removed 11 mirrored ids\n",
      "Removed 55 chained ids\n"
     ]
    }
   ],
   "source": [
    "# reapply the same cleaning procedure showed above to the alias map\n",
    "print(\"Removed\", removeMirrors(artistAlias), \"mirrored ids\")\n",
    "print(\"Removed\", cleanAliasMap(artistAlias), \"chained ids\")"
   ]
  },
  {
   "cell_type": "markdown",
   "metadata": {},
   "source": [
    "#### Question 6.2\n",
    "<div class=\"alert alert-info\">\n",
    "Using the dictionary in question 6.1, prepare RDD `userArtistDataRDD` by replacing mispelled artists' ids to standard ids. Show 5 samples.\n",
    "</div>\n",
    "\n",
    "HINT: Using broadcast varible can help us increase the effiency."
   ]
  },
  {
   "cell_type": "code",
   "execution_count": 15,
   "metadata": {},
   "outputs": [
    {
     "data": {
      "text/plain": [
       "[(1000002, 1, 55),\n",
       " (1000002, 1000006, 33),\n",
       " (1000002, 1000007, 8),\n",
       " (1000002, 1000009, 144),\n",
       " (1000002, 1000010, 314)]"
      ]
     },
     "execution_count": 15,
     "metadata": {},
     "output_type": "execute_result"
    }
   ],
   "source": [
    "bArtistAlias = sc.broadcast(artistAlias)\n",
    "rawUserArtistData = sc.textFile(base + \"user_artist_data.txt\")\n",
    "\n",
    "def disambiguate(line):\n",
    "    [userID, artistID, count] = line.split(' ')\n",
    "    finalArtistID = bArtistAlias.value.get(int(artistID), int(artistID))\n",
    "    return (int(userID), finalArtistID, int(count))\n",
    "\n",
    "userArtistDataRDD = rawUserArtistData.map(disambiguate)\n",
    "userArtistDataRDD.take(5)"
   ]
  },
  {
   "cell_type": "markdown",
   "metadata": {},
   "source": [
    "**COMMENT**<br>\n",
    "NB: in the disambiguate function we call get with the artist id itself as default parameter in order to obtain it in case it's not a mispelled artist.\n",
    "\n",
    "After having cleaned the dataset, as before, we also have to aggregate all the duplicated tuples:"
   ]
  },
  {
   "cell_type": "code",
   "execution_count": 81,
   "metadata": {},
   "outputs": [
    {
     "name": "stdout",
     "output_type": "stream",
     "text": [
      "N. of tuples: 24296858\n"
     ]
    }
   ],
   "source": [
    "print(\"N. of tuples:\", userArtistDataRDD.count())"
   ]
  },
  {
   "cell_type": "code",
   "execution_count": 16,
   "metadata": {},
   "outputs": [],
   "source": [
    "# aggregate the duplicated tuples (user+artist ids) by summing the different playcounts\n",
    "userArtistDataRDD = userArtistDataRDD.map(lambda x: ((x[0], x[1]), x[2])).reduceByKey(lambda x,y: x+y)\n",
    "userArtistDataRDD = userArtistDataRDD.cache()"
   ]
  },
  {
   "cell_type": "code",
   "execution_count": 83,
   "metadata": {},
   "outputs": [
    {
     "name": "stdout",
     "output_type": "stream",
     "text": [
      "N. of tuples: 24133231\n"
     ]
    }
   ],
   "source": [
    "print(\"N. of tuples:\", userArtistDataRDD.count())"
   ]
  },
  {
   "cell_type": "markdown",
   "metadata": {},
   "source": [
    "As we can see, the number of tuple is decreased, which confirms the aggregation effectiveness."
   ]
  },
  {
   "cell_type": "code",
   "execution_count": 84,
   "metadata": {},
   "outputs": [
    {
     "name": "stdout",
     "output_type": "stream",
     "text": [
      "Mispelled count: 0\n"
     ]
    }
   ],
   "source": [
    "# just check whether the artist alias map contains the artist as key (in case of mispelled) or not\n",
    "# rdd format: < <user, artist>, playCount >\n",
    "mispelled_count = userArtistDataRDD.filter(lambda x: x[0][1] in bArtistAlias.value.keys()).count()\n",
    "print(\"Mispelled count:\", mispelled_count)"
   ]
  },
  {
   "cell_type": "markdown",
   "metadata": {},
   "source": [
    "As we can see, one cleaning step is enough to remove all the mispelled ids."
   ]
  },
  {
   "cell_type": "markdown",
   "metadata": {},
   "source": [
    "## 3.4 Training our statistical model\n",
    "To train a model using ALS, we must use a preference matrix  as an input. MLLIB uses the class `Rating` to support the construction of a distributed preference matrix."
   ]
  },
  {
   "cell_type": "markdown",
   "metadata": {},
   "source": [
    "### Question 7\n",
    "\n",
    "#### Question 7.1\n",
    "<div class=\"alert alert-info\">\n",
    "Given RDD `userArtistDataRDD` in question 6.2, construct a new RDD `trainingData` by tranforming each item of it into a `Rating` object.\n",
    "</div>"
   ]
  },
  {
   "cell_type": "code",
   "execution_count": 17,
   "metadata": {
    "collapsed": true
   },
   "outputs": [],
   "source": [
    "from pyspark.mllib.recommendation import ALS, MatrixFactorizationModel, Rating"
   ]
  },
  {
   "cell_type": "code",
   "execution_count": 18,
   "metadata": {},
   "outputs": [],
   "source": [
    "# the aggregation of the tuples have already been done\n",
    "allData = userArtistDataRDD.map(lambda r: Rating(r[0][0], r[0][1], r[1])).repartition(4).cache()"
   ]
  },
  {
   "cell_type": "markdown",
   "metadata": {},
   "source": [
    "**COMMENT**<br>\n",
    "In this case we decided to set '4' as parameter of the repartition function because we know that we have 4 workers and we could not exploit higher degree of parallelism. Other multiples of 4 could be ok as well."
   ]
  },
  {
   "cell_type": "markdown",
   "metadata": {},
   "source": [
    "#### Question 7.2\n",
    "<div class=\"alert alert-info\">\n",
    "A model can be trained by using `ALS.trainImplicit(<training data>, <rank>)`, where:\n",
    "<ul>\n",
    "<li>`training data` is the input data you decide to feed to the ALS algorithm</li>\n",
    "<li>`rank` is the number of laten features</li>\n",
    "</ul>  \n",
    "\n",
    "\n",
    "We can also use some additional parameters to adjust the quality of the model. Currently, let's set \n",
    "<ul>\n",
    "<li>`rank=10`</li>\n",
    "<li>`iterations=5`</li>\n",
    "<li>`lambda_=0.01`</li>\n",
    "<li>`alpha=1.0` </li>\n",
    "</ul>\n",
    "to build model.\n",
    "</div>"
   ]
  },
  {
   "cell_type": "code",
   "execution_count": 87,
   "metadata": {},
   "outputs": [
    {
     "name": "stdout",
     "output_type": "stream",
     "text": [
      "finish training model in 74.099041 secs\n"
     ]
    }
   ],
   "source": [
    "t0 = time()\n",
    "model = ALS.trainImplicit(allData, rank=10, iterations=5, lambda_=0.01, alpha=1.0)\n",
    "t1 = time()\n",
    "print(\"finish training model in %f secs\" % (t1 - t0))"
   ]
  },
  {
   "cell_type": "markdown",
   "metadata": {},
   "source": [
    "#### Question 7.3\n",
    "<div class=\"alert alert-info\">\n",
    "The trained model can be saved into HDFS for later use. This can be done via `model.save(sc, <file_name>)`.\n",
    "Let's use this function to store our model as name `lastfm_model.spark`.\n",
    "</div>\n",
    "\n",
    "NOTE 1: since you may have noticed that building the model takes some time, it might come to your mind that this information could be stored, such that you can \"interrupt\" your laboratory session here, and restart next time by loading your model.\n",
    "\n",
    "NOTE 2: funnily enough, it could take more time to save the model than to build it from scratch! So take a look at the execution time to save the model: this method actually stores the model as Parquet files, which are column-oriented and compressed.\n",
    "\n",
    "NOTE 3: to check you have your file on HDFS, you are invited to open a terminal from the \"Home\" Jupyter dashboard, and type `hdfs dfs -ls` to check."
   ]
  },
  {
   "cell_type": "code",
   "execution_count": 88,
   "metadata": {
    "collapsed": true
   },
   "outputs": [
    {
     "name": "stdout",
     "output_type": "stream",
     "text": [
      "Deleted lastfm_model.spark\n"
     ]
    }
   ],
   "source": [
    "! hdfs dfs -rm -R -f -skipTrash lastfm_model.spark\n",
    "model.save( sc , 'lastfm_model.spark')"
   ]
  },
  {
   "cell_type": "markdown",
   "metadata": {},
   "source": [
    "#### Question 7.4\n",
    "<div class=\"alert alert-info\">\n",
    "A saved model can be load from file by using `MatrixFactorizationModel.load(sc, <file_name>)`. \n",
    "\n",
    "Let's load our model from file.\n",
    "</div>"
   ]
  },
  {
   "cell_type": "code",
   "execution_count": 22,
   "metadata": {},
   "outputs": [
    {
     "name": "stdout",
     "output_type": "stream",
     "text": [
      "finish loading model in 3.463617 secs\n"
     ]
    }
   ],
   "source": [
    "t0 = time()\n",
    "model = MatrixFactorizationModel.load(sc, 'lastfm_model.spark')\n",
    "t1 = time()\n",
    "print(\"finish loading model in %f secs\" % (t1 - t0))"
   ]
  },
  {
   "cell_type": "markdown",
   "metadata": {},
   "source": [
    "#### Question 7.5\n",
    "<div class=\"alert alert-info\">\n",
    "Print the first row of user features in our model.\n",
    "</div>"
   ]
  },
  {
   "cell_type": "code",
   "execution_count": 90,
   "metadata": {},
   "outputs": [
    {
     "data": {
      "text/plain": [
       "[(116,\n",
       "  array('d', [0.03454120084643364, -0.057461220771074295, -0.005062131676822901, -0.026094544678926468, 0.004086092580109835, -0.008820698596537113, 0.040807586163282394, -0.011752055957913399, 0.02401738241314888, 0.06497587263584137]))]"
      ]
     },
     "execution_count": 90,
     "metadata": {},
     "output_type": "execute_result"
    }
   ],
   "source": [
    "model.userFeatures().take(1)"
   ]
  },
  {
   "cell_type": "markdown",
   "metadata": {},
   "source": [
    "### Question 8\n",
    "<div class=\"alert alert-info\">\n",
    "Show the top-5 artist names recommendated for a given user, for example: `2093760` (please, try with different users!).\n",
    "</div>\n",
    "\n",
    "HINT: The recommendations can be given by function `recommendProducts(userID, num_recommendations)`. These recommendations are only artist ids. You have to map them to artist names by using data in `artist_data.txt`."
   ]
  },
  {
   "cell_type": "code",
   "execution_count": 91,
   "metadata": {
    "collapsed": true
   },
   "outputs": [],
   "source": [
    "# Make five recommendations to user 2093760\n",
    "recommendations = (model.recommendProducts(2093760, 5))\n",
    "\n",
    "# construct set of recommendated artists\n",
    "recArtist = set([x.product for x in recommendations])"
   ]
  },
  {
   "cell_type": "code",
   "execution_count": 19,
   "metadata": {
    "collapsed": true
   },
   "outputs": [],
   "source": [
    "# construct data of artists (artist_id, artist_name)\n",
    "\n",
    "rawArtistData = sc.textFile(base + \"artist_data.txt\")\n",
    "\n",
    "def xtractFields(s):\n",
    "    line = re.split(\"\\s|\\t\",s,1)\n",
    "    if (len(line) > 1):\n",
    "        try:\n",
    "            return (int(line[0]), str(line[1].strip()))\n",
    "        except ValueError:\n",
    "            return (-1,\"\")\n",
    "    else: \n",
    "        return (-1,\"\")\n",
    "\n",
    "artistByID = rawArtistData.map(xtractFields).filter(lambda x: x[0] > 0)"
   ]
  },
  {
   "cell_type": "code",
   "execution_count": 20,
   "metadata": {},
   "outputs": [],
   "source": [
    "# Filter in those artists, get just artist, and print\n",
    "def artistNames(line):\n",
    "#     [artistID, name]\n",
    "    if (line[0] in recArtist):\n",
    "        return True\n",
    "    else:\n",
    "        return False"
   ]
  },
  {
   "cell_type": "code",
   "execution_count": 93,
   "metadata": {},
   "outputs": [
    {
     "name": "stdout",
     "output_type": "stream",
     "text": [
      "['50 Cent', 'Snoop Dogg', 'Jay-Z', 'Kanye West', 'The Game']\n"
     ]
    }
   ],
   "source": [
    "recList = artistByID.filter(artistNames).values().collect()\n",
    "\n",
    "print(recList)"
   ]
  },
  {
   "cell_type": "code",
   "execution_count": 94,
   "metadata": {},
   "outputs": [
    {
     "name": "stdout",
     "output_type": "stream",
     "text": [
      "User 1000061 ['Anastacia', 'The Rasmus', 'ATB', 'DJ Tiësto', 'Natasha Bedingfield']\n",
      "User 1000070 ['[unknown]', 'Ramones', 'Misfits', 'Dead Kennedys', 'Queens of the Stone Age']\n",
      "User 1000313 ['Norah Jones', 'Queen', 'The Beatles', 'Coldplay', 'U2']\n",
      "User 1000832 ['System of a Down', 'Metallica', 'Rammstein', 'Nine Inch Nails', 'Marilyn Manson']\n",
      "User 1000905 ['Radiohead', 'Red Hot Chili Peppers', 'Muse', 'Nirvana', 'Green Day']\n",
      "User 2064012 ['Everclear', 'The Mighty Mighty Bosstones', 'Blue Man Group', '311', 'Reel Big Fish']\n",
      "User 2071641 ['NOFX', 'System of a Down', 'Bad Religion', 'Queens of the Stone Age', 'Green Day']\n",
      "User 2311890 ['Anastacia', 'Christina Aguilera', 'Jennifer Lopez', 'Sugababes', 'P!nk']\n"
     ]
    }
   ],
   "source": [
    "# Try with more users the recommendations\n",
    "# first 5 are randomly picked\n",
    "# 2064012 is the less curious user in our dataset\n",
    "# 2071641 is one of the most curious (curiosity ratio == 1), but only 6 played songs\n",
    "# 2311890 is one of the most curious (curiosity ratio == 0.85), and more than 500 songs played\n",
    "for user in [1000061, 1000070, 1000313, 1000832, 1000905, 2064012, 2071641, 2311890]:\n",
    "    recommendations = (model.recommendProducts(user, 5))\n",
    "    recArtist = set([x.product for x in recommendations])\n",
    "    recList = artistByID.filter(artistNames).values().collect()\n",
    "    print('User', user, recList)"
   ]
  },
  {
   "cell_type": "markdown",
   "metadata": {},
   "source": [
    "**COMMENT**<br>\n",
    "In the code above we tried the recommendation system also for other 5 randomly taken users and 3 selected ones: the (1) less and most (2) curious users. The system shows different recommended artists, thus it is able to give personalized suggestion according to the preference model we generated before.<br>\n",
    "In this case, for the first 5 users (random chosen), we can see that the suggestions slightly differ from user to user. We don't know which kind of users they are (curious? how many listened song? what genre they like? ...), but we can guess it by looking at the suggestions. For example, the 4th user (1000832) is clearly an \"old fashion\" rock fan because of the type of artists he/she listens to (System of a Down, Metallica, Rammstein, Nine Inch Nails): the suggested bands are all rock bands; while the first user (1000061) apparently is much more curious as the genre of the suggested artists differes a lot (Anastacia, The Rasmus, DJ Tiesto...).<br>\n",
    "However, we have also to underline that the system is not implemented for directly looking at the curiosity of each users, instead it makes its suggestions by just finding similarities with others.<br>\n",
    "About the \"selected users\": the one with id 2064012 is the less curious one, and is used to listen to rock/progressive/punk music, and all the suggestions made to that user perfectly fit what we were expecting (Everclear, 311, The Mighty Mighty Bosstones...).<br>\n",
    "A similar discussion can be made for the most curious user. However in this case we have also to say that, the first one is an user who has only 6 played songs in total (with 6 different artists) thus it could not be easy to make suggestions for him with such few played songs.<br>\n",
    "Regarding the last user, that has a curiosity ratio of 85% and more than 500 played songs, we can say that the recommendation system has suggested 5 artists whose genre is very similar among each other. We didn't expect this because this is one of the most curious user and we thought the result should have contained artist of different genres. So in this case, according to us, the system did not performed very well, and probably this happened because it's not thought to explicitly evaluate user curiosity. We will try to comply to this later on."
   ]
  },
  {
   "cell_type": "markdown",
   "metadata": {},
   "source": [
    "<div class=\"alert alert-danger\">\n",
    "At the moment, it is necessary to manually unpersist the RDDs inside the model when you are done with it. The following function can be used to make sure models are promptly uncached.\n",
    "</div>"
   ]
  },
  {
   "cell_type": "code",
   "execution_count": 23,
   "metadata": {
    "collapsed": true
   },
   "outputs": [],
   "source": [
    "def unpersist(model):\n",
    "    model.userFeatures().unpersist()\n",
    "    model.productFeatures().unpersist()\n",
    "\n",
    "# uncache data and model when they are no longer used  \n",
    "unpersist(model)"
   ]
  },
  {
   "cell_type": "markdown",
   "metadata": {},
   "source": [
    "## 3.5 Evaluating Recommendation Quality \n",
    "\n",
    "In this section, we study how to evaluate the quality of our model. It's hard to say how good the recommendations are.\n",
    "One of serveral methods approach to evaluate  a recommender based on its ability to rank good items (artists) high in a list of recommendations. The problem is how to define \"good artists\". Currently, by training all data, \"good artists\" is defined as \"artists the user has listened to\", and the recommender system has already received all of this information as input. It could trivially return the users previously-listened artists as top recommendations and score perfectly. Indeed, this is not useful, because the recommender's is used to recommend artists that the user has **never** listened to. \n",
    "\n",
    "To overcome that problem, we can hide the some of the artist play data and only use the rest to train model. Then, this held-out data can be interpreted as a collection of \"good\" recommendations for each user. The recommender is asked to rank all items in the model, and the rank of the held-out artists are examined. Ideally the recommender places all of them at or near the top of the list.\n",
    "\n",
    "The recommender's score can then be computed by comparing all held-out artists' ranks to the rest.  The fraction of pairs where the held-out artist is ranked higher is its score. 1.0 is perfect, 0.0 is the worst possible score, and 0.5 is the expected value achieved from randomly ranking artists. \n",
    "\n",
    "AUC(Area Under the Curve) can be used as a metric to evaluate model. It is also viewed as the probability that a randomly-chosen \"good\" artist ranks above a randomly-chosen \"bad\" artist.\n",
    "\n",
    "Next, we split the training data into 2 parts: `trainData` and `cvData` with ratio 0.9:0.1 respectively, where `trainData` is the dataset that will be used to train model. Then we write a function to calculate AUC to evaluate the quality of our model.\n"
   ]
  },
  {
   "cell_type": "markdown",
   "metadata": {},
   "source": [
    "### Question 9\n",
    "\n",
    "#### Question 9.1\n",
    "<div class=\"alert alert-info\">\n",
    "Split the data into `trainData` and `cvData` with ratio 0.9:0.1 and use the first part to train a statistic model with:\n",
    "<ul>\n",
    "<li>`rank`=10</li>\n",
    "<li>`iterations`=5</li>\n",
    "<li>`lambda_`=0.01</li>\n",
    "<li>`alpha`=1.0</li>\n",
    "</ul>\n",
    "</div>"
   ]
  },
  {
   "cell_type": "code",
   "execution_count": 96,
   "metadata": {},
   "outputs": [
    {
     "data": {
      "text/plain": [
       "PythonRDD[795] at RDD at PythonRDD.scala:48"
      ]
     },
     "execution_count": 96,
     "metadata": {},
     "output_type": "execute_result"
    }
   ],
   "source": [
    "trainData, cvData = allData.randomSplit([0.9, 0.1])\n",
    "trainData.cache()\n",
    "cvData.cache()"
   ]
  },
  {
   "cell_type": "code",
   "execution_count": 97,
   "metadata": {},
   "outputs": [
    {
     "name": "stdout",
     "output_type": "stream",
     "text": [
      "finish training model in 67.084401 secs\n"
     ]
    }
   ],
   "source": [
    "t0 = time()\n",
    "model = ALS.trainImplicit( trainData, rank=10, iterations=5, lambda_=0.01, alpha=1.0 )\n",
    "t1 = time()\n",
    "print(\"finish training model in %f secs\" % (t1 - t0))"
   ]
  },
  {
   "cell_type": "markdown",
   "metadata": {},
   "source": [
    "#### Area under the ROC curve: a function to compute it"
   ]
  },
  {
   "cell_type": "code",
   "execution_count": 98,
   "metadata": {
    "collapsed": true
   },
   "outputs": [],
   "source": [
    "# Get all unique artistId, and broadcast them\n",
    "allItemIDs = np.array(allData.map(lambda x: x[1]).distinct().collect())\n",
    "bAllItemIDs = sc.broadcast(allItemIDs)"
   ]
  },
  {
   "cell_type": "code",
   "execution_count": 35,
   "metadata": {
    "collapsed": true
   },
   "outputs": [],
   "source": [
    "from random import randint\n",
    "\n",
    "# Depend on the number of item in userIDAndPosItemIDs,\n",
    "# create a set of \"negative\" products for each user. These are randomly chosen\n",
    "# from among all of the other items, excluding those that are \"positive\" for the user.\n",
    "# NOTE 1: mapPartitions operates on many (user,positive-items) pairs at once\n",
    "# NOTE 2: flatMap breaks the collections above down into one big set of tuples\n",
    "def xtractNegative(userIDAndPosItemIDs):\n",
    "    def pickEnoughNegatives(line):\n",
    "        userID = line[0]\n",
    "        posItemIDSet = set(line[1])\n",
    "        #posItemIDSet = line[1]\n",
    "        negative = []\n",
    "        allItemIDs = bAllItemIDs.value\n",
    "        # Keep about as many negative examples per user as positive. Duplicates are OK.\n",
    "        i = 0\n",
    "        while (i < len(allItemIDs) and len(negative) < len(posItemIDSet)):\n",
    "            itemID = allItemIDs[randint(0,len(allItemIDs)-1)]\n",
    "            if itemID not in posItemIDSet:\n",
    "                negative.append(itemID)\n",
    "            i += 1\n",
    "        \n",
    "        # Result is a collection of (user,negative-item) tuples\n",
    "        return map(lambda itemID: (userID, itemID), negative)\n",
    "\n",
    "    # Init an RNG and the item IDs set once for partition\n",
    "    # allItemIDs = bAllItemIDs.value\n",
    "    return map(pickEnoughNegatives, userIDAndPosItemIDs)\n",
    "\n",
    "def ratioOfCorrectRanks(positiveRatings, negativeRatings):\n",
    "    \n",
    "    # find number elements in arr that has index >= start and has value smaller than x\n",
    "    # arr is a sorted array\n",
    "    def findNumElementsSmallerThan(arr, x, start=0):\n",
    "        left = start\n",
    "        right = len(arr) -1\n",
    "        # if x is bigger than the biggest element in arr\n",
    "        if start > right or x > arr[right]:\n",
    "            return right + 1\n",
    "        mid = -1\n",
    "        while left <= right:\n",
    "            mid = (left + right) // 2\n",
    "            if arr[mid] < x:\n",
    "                left = mid + 1\n",
    "            elif arr[mid] > x:\n",
    "                right = mid - 1\n",
    "            else:\n",
    "                while mid-1 >= start and arr[mid-1] == x:\n",
    "                    mid -= 1\n",
    "                return mid\n",
    "        return mid if arr[mid] > x else mid + 1\n",
    "    \n",
    "    ## AUC may be viewed as the probability that a random positive item scores\n",
    "    ## higher than a random negative one. Here the proportion of all positive-negative\n",
    "    ## pairs that are correctly ranked is computed. The result is equal to the AUC metric.\n",
    "    correct = 0 ## L\n",
    "    total = 0 ## L\n",
    "    \n",
    "    # sorting positiveRatings array needs more cost\n",
    "    #positiveRatings = np.array(map(lambda x: x.rating, positiveRatings))\n",
    "\n",
    "    negativeRatings = list(map(lambda x:x.rating, negativeRatings))\n",
    "    \n",
    "    #np.sort(positiveRatings)\n",
    "    negativeRatings.sort()# = np.sort(negativeRatings)\n",
    "    total = len(positiveRatings)*len(negativeRatings)\n",
    "    \n",
    "    for positive in positiveRatings:\n",
    "        # Count the correctly-ranked pairs\n",
    "        correct += findNumElementsSmallerThan(negativeRatings, positive.rating)\n",
    "        \n",
    "    ## Return AUC: fraction of pairs ranked correctly\n",
    "    return float(correct) / total\n",
    "\n",
    "def calculateAUC(positiveData, bAllItemIDs, predictFunction):\n",
    "    # Take held-out data as the \"positive\", and map to tuples\n",
    "    positiveUserProducts = positiveData.map(lambda r: (r[0], r[1]))\n",
    "    # Make predictions for each of them, including a numeric score, and gather by user\n",
    "    positivePredictions = predictFunction(positiveUserProducts).groupBy(lambda r: r.user)\n",
    "    \n",
    "    # Create a set of \"negative\" products for each user. These are randomly chosen \n",
    "    # from among all of the other items, excluding those that are \"positive\" for the user. \n",
    "    negativeUserProducts = positiveUserProducts.groupByKey().mapPartitions(xtractNegative).flatMap(lambda x: x)\n",
    "    # Make predictions on the rest\n",
    "    negativePredictions = predictFunction(negativeUserProducts).groupBy(lambda r: r.user)\n",
    "    \n",
    "    return (\n",
    "            positivePredictions.join(negativePredictions)\n",
    "                .values()\n",
    "                .map(\n",
    "                    lambda positive_negativeRatings: ratioOfCorrectRanks(positive_negativeRatings[0], positive_negativeRatings[1])\n",
    "                )\n",
    "                .mean()\n",
    "            )"
   ]
  },
  {
   "cell_type": "markdown",
   "metadata": {},
   "source": [
    "####  Question 9.2\n",
    "<div class=\"alert alert-info\">\n",
    "Using part `cvData` and function `calculateAUC` to compute the AUC of the trained model.\n",
    "</div>"
   ]
  },
  {
   "cell_type": "code",
   "execution_count": 100,
   "metadata": {},
   "outputs": [
    {
     "name": "stdout",
     "output_type": "stream",
     "text": [
      "auc= 0.9653268166184684\n",
      "finish in 46.425310 seconds\n"
     ]
    }
   ],
   "source": [
    "t0 = time()\n",
    "auc = calculateAUC( cvData , bAllItemIDs.value, model.predictAll)\n",
    "t1 = time()\n",
    "print(\"auc=\",auc)\n",
    "print(\"finish in %f seconds\" % (t1 - t0))"
   ]
  },
  {
   "cell_type": "markdown",
   "metadata": {},
   "source": [
    "#### Question 9.3\n",
    "<div class=\"alert alert-info\">\n",
    "Now we have the UAC of our model, it’s helpful to benchmark this against a simpler approach. For example, consider recommending the globally most-played artists to every user. This is not personalized, but is simple and may be effective.   \n",
    "<ul></ul>\n",
    "Implement this simple pupolarity-based prediction algorithm, evaluate its AUC score, and compare to the results achieved by the more sophisticated ALS algorithm.\n",
    "</div>"
   ]
  },
  {
   "cell_type": "code",
   "execution_count": 101,
   "metadata": {
    "collapsed": true
   },
   "outputs": [],
   "source": [
    "bListenCount = sc.broadcast(trainData.map(lambda r: (r[1], r[2])).reduceByKey(lambda acc, x: acc+x).collectAsMap())\n",
    "def predictMostListened(allData):\n",
    "    return allData.map(lambda r: Rating(r[0], r[1], bListenCount.value.get(r[1], 0.0)))"
   ]
  },
  {
   "cell_type": "code",
   "execution_count": 102,
   "metadata": {},
   "outputs": [
    {
     "name": "stdout",
     "output_type": "stream",
     "text": [
      "0.9395072273345287\n"
     ]
    }
   ],
   "source": [
    "auc = calculateAUC(cvData , bAllItemIDs.value, predictMostListened)\n",
    "print(auc)"
   ]
  },
  {
   "cell_type": "markdown",
   "metadata": {},
   "source": [
    "**COMMENT**<br>\n",
    "The result obtained in this case is obviously worse than the one obtained with the trained model even if it can be considered as well a good result. Moreover this demonstrates that, in order to improve a recommendation system of a small percentage, it is required to build a complex model."
   ]
  },
  {
   "cell_type": "markdown",
   "metadata": {},
   "source": [
    "## 3.6 Personalized recommendations with ALS\n",
    "\n",
    "In the previous section, we build our models with some given paramters without any knowledge about them. Actually, choosing the best parameters' values is very important. It can significantly affect the quality of models. Especially, with the current implementation of ALS in MLLIB, these parameters are not learned by the algorithm, and must be chosen by the caller. The following parameters should get consideration before training models:\n",
    "\n",
    "* `rank = 10`: the number of latent factors in the model, or equivalently, the number of columns $k$ in the user-feature and product-feature matrices. In non-trivial cases, this is also their rank. \n",
    "\n",
    "* `iterations = 5`: the number of iterations that the factorization runs. Instead of runing the algorithm until RMSE converged which actually takes very long time to finish with large datasets, we only let it run in a given number of iterations. More iterations take more time but may produce a better factorization.\n",
    "\n",
    "* `lambda_ = 0.01`: a standard overfitting parameter. Higher values resist overfitting, but values that are too high hurt the factorization's accuracy.\n",
    "\n",
    "*  `alpha = 1.0`: controls the relative weight of observed versus unobserved userproduct interactions in the factorization. \n",
    "\n",
    "Although all of them have impact on the models' quality, `iterations` is more of a constraint on resources used in the factorization. So, `rank`, `lambda_` and `alpha` can be considered hyperparameters to the model. \n",
    "We will try to find \"good\" values for them. Indeed, the values of hyperparameter are not necessarily optimal. Choosing good hyperparameter values is a common problem in machine learning. The most basic way to choose values is to simply try combinations of values and evaluate a metric for each of them, and choose the combination that produces the best value of the metric. \n"
   ]
  },
  {
   "cell_type": "markdown",
   "metadata": {},
   "source": [
    "### Question 10\n",
    "\n",
    "#### Question 10.1\n",
    "<div class=\"alert alert-info\">\n",
    "For simplicity, assume that we want to explore the following parameter space: $ rank \\in \\{10, 50\\}$, $lambda\\_ \\in \\{1.0, 0.0001\\}$ and $alpha \\in \\{1.0, 40.0\\}$.\n",
    "\n",
    "Find the best combination of them in terms of the highest AUC value.\n",
    "</div>"
   ]
  },
  {
   "cell_type": "code",
   "execution_count": 103,
   "metadata": {},
   "outputs": [
    {
     "name": "stdout",
     "output_type": "stream",
     "text": [
      "Train model with rank=10 lambda_=1.000000 alpha=1.000000\n",
      "Train model with rank=10 lambda_=1.000000 alpha=40.000000\n",
      "Train model with rank=10 lambda_=0.000100 alpha=1.000000\n",
      "Train model with rank=10 lambda_=0.000100 alpha=40.000000\n",
      "Train model with rank=50 lambda_=1.000000 alpha=1.000000\n",
      "Train model with rank=50 lambda_=1.000000 alpha=40.000000\n",
      "Train model with rank=50 lambda_=0.000100 alpha=1.000000\n",
      "Train model with rank=50 lambda_=0.000100 alpha=40.000000\n",
      "                    0         1\n",
      "0  (10, 0.0001, 40.0)  0.977164\n",
      "1     (50, 1.0, 40.0)  0.976855\n",
      "2     (10, 1.0, 40.0)  0.976596\n",
      "3  (50, 0.0001, 40.0)  0.975721\n",
      "4      (10, 1.0, 1.0)  0.969617\n",
      "5      (50, 1.0, 1.0)  0.967397\n",
      "6   (10, 0.0001, 1.0)  0.965512\n",
      "7   (50, 0.0001, 1.0)  0.954224\n"
     ]
    },
    {
     "data": {
      "text/plain": [
       "PythonRDD[795] at RDD at PythonRDD.scala:48"
      ]
     },
     "execution_count": 103,
     "metadata": {},
     "output_type": "execute_result"
    }
   ],
   "source": [
    "evaluations = []\n",
    "\n",
    "for rank in [10, 50]:\n",
    "    for lambda_ in [1.0, 0.0001]:\n",
    "        for alpha in [1.0, 40.0]:\n",
    "            print(\"Train model with rank=%d lambda_=%f alpha=%f\" % (rank, lambda_, alpha))\n",
    "            # with each combination of params, we should run multiple times and get avg\n",
    "            # for simple, we only run one time.\n",
    "            model = ALS.trainImplicit(trainData, rank=rank, iterations=5, lambda_=lambda_, alpha=alpha)\n",
    "            \n",
    "            auc = calculateAUC(cvData , bAllItemIDs , model.predictAll)\n",
    "            \n",
    "            evaluations.append(((rank, lambda_, alpha), auc))\n",
    "            \n",
    "            unpersist(model)\n",
    "\n",
    "evaluations.sort(key=lambda x:x[1], reverse=True)\n",
    "                 \n",
    "evalDataFrame = pd.DataFrame(data=evaluations)\n",
    "print(evalDataFrame)\n",
    "\n",
    "trainData.unpersist()\n",
    "cvData.unpersist()"
   ]
  },
  {
   "cell_type": "markdown",
   "metadata": {},
   "source": [
    "**COMMENT**<br>\n",
    "After having tried to evaluate the performances of 8 different models with various combinations of parameters, we can conclude that, among the ones tested with the chosen parameters, the best model is the one trained with parameters (rank=10, lambda=0.0001, alpha=40.0).\n",
    "\n",
    "From the results obtained we can deduce that the model performs better when the alpha parameter is higher (40.0). We will analyze more deeply the performance changements with respect to their parameters later on. "
   ]
  },
  {
   "cell_type": "markdown",
   "metadata": {},
   "source": [
    "#### Question 10.2 \n",
    "<div class=\"alert alert-info\">\n",
    "Using \"optimal\" hyper-parameters in question 10.1, re-train the model and show top-5 artist names recommendated for user `2093760`.\n",
    "</div>"
   ]
  },
  {
   "cell_type": "code",
   "execution_count": 104,
   "metadata": {},
   "outputs": [
    {
     "name": "stdout",
     "output_type": "stream",
     "text": [
      "['[unknown]', 'The Killers', 'Coldplay', 'Green Day', 'blink-182']\n"
     ]
    }
   ],
   "source": [
    "model = ALS.trainImplicit(allData, rank=evaluations[0][0][0], iterations=5, lambda_=evaluations[0][0][1], alpha=evaluations[0][0][2])\n",
    "allData.unpersist()\n",
    "\n",
    "userID = 2093760\n",
    "recommendations = model.recommendProducts(userID,5)\n",
    "\n",
    "recArtist = set([x.product for x in recommendations])\n",
    "\n",
    "recList = artistByID.filter(artistNames).values().collect()\n",
    "print(recList)"
   ]
  },
  {
   "cell_type": "code",
   "execution_count": 105,
   "metadata": {},
   "outputs": [
    {
     "name": "stdout",
     "output_type": "stream",
     "text": [
      "Curiosity: 5\n",
      "PlayCounts: 14\n",
      "Ratio: 0.35714285714285715\n"
     ]
    }
   ],
   "source": [
    "stats = getUserStats(userID)\n",
    "print(\"Curiosity:\", stats[1])\n",
    "print(\"PlayCounts:\", stats[2])\n",
    "print(\"Ratio:\", stats[3])"
   ]
  },
  {
   "cell_type": "markdown",
   "metadata": {},
   "source": [
    "As expected, the \"trained model\" with the selected parameter gives different results from the ones above. Here we still have the 'unknown' artist problem, which will be solved later on.<br>\n",
    "We cannot say much about the results as the selected user has a low number of played song (14 in total), so it's diffult to give suggestions to him."
   ]
  },
  {
   "cell_type": "code",
   "execution_count": 106,
   "metadata": {},
   "outputs": [
    {
     "name": "stdout",
     "output_type": "stream",
     "text": [
      "User 1000061 ['Anastacia', '[unknown]', 'DJ Tiësto', 'Scooter', 'Ana Johnsson']\n",
      "User 1000070 ['Johnossi', 'Christian Kjellvander', 'Cardiacs', 'Svenska Akademien', 'The Eighties Matchbox B-Line Disaster']\n",
      "User 1000313 ['[unknown]', 'Queen', 'Coldplay', 'U2', 'Green Day']\n",
      "User 1000832 ['Avantasia', 'Brainstorm', 'Siddharta', 'D-A-D', 'Rhapsody']\n",
      "User 1000905 ['[unknown]', 'The Killers', 'Coldplay', 'U2', 'Green Day']\n",
      "User 2064012 ['Ichiko Furukawa, Makoto Tonosu', 'Kelly Bailey', 'Lemon Demon', 'Mercy Drive', 'The Wiggles']\n",
      "User 2071641 ['[unknown]', 'The Killers', 'Weezer', 'Green Day', 'blink-182']\n",
      "User 2311890 ['Big Brovaz', 'Thalía', 'Marc Anthony', 'Lou Bega', 'Euphoria']\n"
     ]
    }
   ],
   "source": [
    "for user in [1000061, 1000070, 1000313, 1000832, 1000905, 2064012, 2071641, 2311890]:\n",
    "    recommendations = (model.recommendProducts(user, 5))\n",
    "    recArtist = set([x.product for x in recommendations])\n",
    "    recList = artistByID.filter(artistNames).values().collect()\n",
    "    print('User', user, recList)\n",
    "    \n",
    "unpersist(model)"
   ]
  },
  {
   "cell_type": "markdown",
   "metadata": {},
   "source": [
    "Also in this case we have different results from what we have seen before. The recommendations are inline with what we have seen before: the user 1000832 is suggested only metal/rock music, the less curious user (2064012) is still suggested rock/punk/progressive music, and we see also an improvement in the suggestions made to the most curious ones: for example, the user 2311890 (85% level of curiosity with more than 500 songs listened) is recommended different genres (pop, latino, ecc..).<br>\n",
    "However here it appears more and more relevant to clear the dataset from the 'unknown' artist as it appears as a suggestion in more than one case (3 out of 8); not for nothing, it was one of the most listened, so we expected that it was also one of the most suggested."
   ]
  },
  {
   "cell_type": "markdown",
   "metadata": {},
   "source": [
    "# 4. Analysis on parameters and validation"
   ]
  },
  {
   "cell_type": "markdown",
   "metadata": {},
   "source": [
    "This is a sort of explorative section in which we want to study the effects of the variation of the \"model parameters\" on the system performances.\n",
    "\n",
    "The following paragraphs are organized as follow:\n",
    "* Folds Tuning: about training and test sets size\n",
    "* Training ALS model's parameters: alpha, lambda, rank, iterations\n",
    "* K-Fold cross validation"
   ]
  },
  {
   "cell_type": "markdown",
   "metadata": {},
   "source": [
    "## 4.1 Folds Tuning"
   ]
  },
  {
   "cell_type": "markdown",
   "metadata": {},
   "source": [
    "We want to explore how the system behaves when changing the size of the training and dataset.<br>\n",
    "5 different set sizes are considered, while fixed parameters are used for the training as we have to compare only at the change of the training/test set size.<br>\n",
    "We did not tried with 0.9/0.1 as this was already done above."
   ]
  },
  {
   "cell_type": "code",
   "execution_count": 107,
   "metadata": {},
   "outputs": [
    {
     "name": "stdout",
     "output_type": "stream",
     "text": [
      "Finished model 0.5\n",
      "Finished model 0.6\n",
      "Finished model 0.7\n",
      "Finished model 0.8\n",
      "Finished model 0.95\n",
      "{'0.5': 0.9706681781734885, '0.6': 0.9728089732600796, '0.7': 0.9737164430974792, '0.8': 0.9743176172289493, '0.95': 0.977260406343026}\n"
     ]
    }
   ],
   "source": [
    "auc = {}\n",
    "\n",
    "for x in [0.5, 0.6, 0.7, 0.8, 0.95]:\n",
    "    trainData, cvData = allData.randomSplit([x, 1-x])\n",
    "    trainData.cache()\n",
    "    cvData.cache()\n",
    "\n",
    "    model = ALS.trainImplicit(trainData, rank=10, iterations=5, lambda_=1.0, alpha=40.0)\n",
    "    \n",
    "    auc[str(x)] = calculateAUC(cvData, bAllItemIDs, model.predictAll)\n",
    "    print(\"Finished model\", x)\n",
    "    unpersist(model)\n",
    "    \n",
    "print(auc)"
   ]
  },
  {
   "cell_type": "markdown",
   "metadata": {},
   "source": [
    "As expected, by considering also the auc value got in the previous section (0.976596) for the 0.9/0.1 ratio, the accuracy of the recommendation system increases as the training set size increases, and the system would perform better according to the AUC.<br>\n",
    "However, it's probabily better to use testsets bigger than the 5%, otherwise there is the risk of having a misleading result due to its small dimensions."
   ]
  },
  {
   "cell_type": "markdown",
   "metadata": {},
   "source": [
    "## 4.2 Training Parameters in ALS model"
   ]
  },
  {
   "cell_type": "markdown",
   "metadata": {},
   "source": [
    "In this section we are trying to evalute other possible combinations of the model parameters to try to find better values.<br>\n",
    "So, as done above, we will try with other rank, alpha and lambda values, and, in addition, we will evaluate also at the change of the number of iterations (we know that this is not one of the hyperparameters that have to be tuned, but we still want to look at the different results we may get)."
   ]
  },
  {
   "cell_type": "code",
   "execution_count": 110,
   "metadata": {},
   "outputs": [
    {
     "name": "stdout",
     "output_type": "stream",
     "text": [
      "Train model with rank=8 lambda_=1.000000 alpha=50.000000 iterations=5.000000\n",
      "0.9763873076198163\n",
      "Train model with rank=8 lambda_=1.000000 alpha=50.000000 iterations=10.000000\n",
      "0.975823677270454\n",
      "Train model with rank=8 lambda_=1.000000 alpha=60.000000 iterations=5.000000\n",
      "0.9753276738668026\n",
      "Train model with rank=8 lambda_=1.000000 alpha=60.000000 iterations=10.000000\n",
      "0.9761496425666923\n",
      "Train model with rank=8 lambda_=0.010000 alpha=50.000000 iterations=5.000000\n",
      "0.9751129184779015\n",
      "Train model with rank=8 lambda_=0.010000 alpha=50.000000 iterations=10.000000\n",
      "0.9752034272431647\n",
      "Train model with rank=8 lambda_=0.010000 alpha=60.000000 iterations=5.000000\n",
      "0.9750572219232037\n",
      "Train model with rank=8 lambda_=0.010000 alpha=60.000000 iterations=10.000000\n",
      "0.976342132470768\n",
      "Train model with rank=30 lambda_=1.000000 alpha=50.000000 iterations=5.000000\n",
      "0.9838444778482617\n",
      "Train model with rank=30 lambda_=1.000000 alpha=50.000000 iterations=10.000000\n",
      "0.9843621253005537\n",
      "Train model with rank=30 lambda_=1.000000 alpha=60.000000 iterations=5.000000\n",
      "0.9845796793495875\n",
      "Train model with rank=30 lambda_=1.000000 alpha=60.000000 iterations=10.000000\n",
      "0.9849875623135399\n",
      "Train model with rank=30 lambda_=0.010000 alpha=50.000000 iterations=5.000000\n",
      "0.9832970638299838\n",
      "Train model with rank=30 lambda_=0.010000 alpha=50.000000 iterations=10.000000\n",
      "0.9841007801818622\n",
      "Train model with rank=30 lambda_=0.010000 alpha=60.000000 iterations=5.000000\n",
      "0.984048067555233\n",
      "Train model with rank=30 lambda_=0.010000 alpha=60.000000 iterations=10.000000\n",
      "0.9847180801239271\n",
      "                   0         1\n",
      "0    (30, 1.0, 60.0)  0.984988\n",
      "1   (30, 0.01, 60.0)  0.984718\n",
      "2    (30, 1.0, 60.0)  0.984580\n",
      "3    (30, 1.0, 50.0)  0.984362\n",
      "4   (30, 0.01, 50.0)  0.984101\n",
      "5   (30, 0.01, 60.0)  0.984048\n",
      "6    (30, 1.0, 50.0)  0.983844\n",
      "7   (30, 0.01, 50.0)  0.983297\n",
      "8     (8, 1.0, 50.0)  0.976387\n",
      "9    (8, 0.01, 60.0)  0.976342\n",
      "10    (8, 1.0, 60.0)  0.976150\n",
      "11    (8, 1.0, 50.0)  0.975824\n",
      "12    (8, 1.0, 60.0)  0.975328\n",
      "13   (8, 0.01, 50.0)  0.975203\n",
      "14   (8, 0.01, 50.0)  0.975113\n",
      "15   (8, 0.01, 60.0)  0.975057\n"
     ]
    },
    {
     "data": {
      "text/plain": [
       "PythonRDD[3502] at RDD at PythonRDD.scala:48"
      ]
     },
     "execution_count": 110,
     "metadata": {},
     "output_type": "execute_result"
    }
   ],
   "source": [
    "evaluations = []\n",
    "\n",
    "lambda_ = 1.0\n",
    "trainData, cvData = allData.randomSplit([0.9, 0.1])\n",
    "trainData.cache()\n",
    "cvData.cache()\n",
    "\n",
    "for rank in [8, 30]:\n",
    "    for lambda_ in [1.0, 0.01]:\n",
    "        for alpha in [50.0, 60.0]:\n",
    "            for iteration in [5, 10]:\n",
    "                print(\"Train model with rank=%d lambda_=%f alpha=%f iterations=%f\" % (rank, lambda_, alpha, iteration))\n",
    "                # with each combination of params, we should run multiple times and get avg\n",
    "                # for simple, we only run one time.\n",
    "                model = ALS.trainImplicit(trainData, rank=rank, iterations=iteration, lambda_=lambda_, alpha=alpha)\n",
    "            \n",
    "                auc = calculateAUC(cvData , bAllItemIDs , model.predictAll)\n",
    "            \n",
    "                evaluations.append(((rank, lambda_, alpha), auc))\n",
    "                \n",
    "                print(auc)\n",
    "            \n",
    "                unpersist(model)\n",
    "\n",
    "evaluations.sort(key=lambda x:x[1], reverse=True)\n",
    "                 \n",
    "evalDataFrame = pd.DataFrame(data=evaluations)\n",
    "print(evalDataFrame)\n",
    "\n",
    "trainData.unpersist()\n",
    "cvData.unpersist()"
   ]
  },
  {
   "cell_type": "markdown",
   "metadata": {},
   "source": [
    "As we can see, in this case we have found better AUC values than before; in particular the trials with rank = 30 all give better results than the others: in fact, all those models have an auc higher than 0.98!<br>\n",
    "Moreover, as expected, in general, the higher is the number of iterations, the better performs the model."
   ]
  },
  {
   "cell_type": "markdown",
   "metadata": {},
   "source": [
    "## 4.3 K-Fold Cross-Validation"
   ]
  },
  {
   "cell_type": "markdown",
   "metadata": {},
   "source": [
    "Cross Validation is a very useful technique for assessing the performance of machine learning models. It helps in knowing how the machine learning model would generalize to an independent data set.\n",
    "\n",
    "The dataset is splitted into K subsets (k-folds), and the holdout method is re-applied K times: at each iteration it will be used one of the k subsets as test set and the other k-1 subsets as training set; then it's computed the average error across all k trials.\n",
    "\n",
    "The advantage of K-Fold Cross validation is that all the examples in the dataset are eventually used for both training and testing."
   ]
  },
  {
   "cell_type": "code",
   "execution_count": null,
   "metadata": {},
   "outputs": [],
   "source": [
    "k = 10\n",
    "auc = []\n",
    "\n",
    "folds = []\n",
    "x = allData\n",
    "for i in range(k):\n",
    "    x, y = x.randomSplit([(k-i-1)/(k-i), 1/(k-i)])\n",
    "    folds.append(y)\n",
    "\n",
    "for i in range(k):\n",
    "    cvData = folds[i]\n",
    "    trainData = sc.union([x for idx, x in enumerate(folds) if idx!=i])\n",
    "    trainData.cache()\n",
    "    cvData.cache()\n",
    "\n",
    "    model = ALS.trainImplicit(trainData, rank=10, iterations=5, lambda_=1.0, alpha=40.0)\n",
    "    auc.append( calculateAUC(cvData, bAllItemIDs, model.predictAll) )\n",
    "\n",
    "    unpersist(model)"
   ]
  },
  {
   "cell_type": "code",
   "execution_count": 116,
   "metadata": {},
   "outputs": [
    {
     "name": "stdout",
     "output_type": "stream",
     "text": [
      "AUC values: [0.9746431212449909, 0.9743693661834628, 0.9737429212129365, 0.9752760022946477, 0.974130432529573, 0.9742078114889603, 0.9740468788733416, 0.9740681170238872, 0.9745688646625627, 0.9743144017328562]\n",
      "Mean AUC: 0.974336791724722\n",
      "Min AUC: 0.9737429212129365\n",
      "Max AUC: 0.9752760022946477\n"
     ]
    }
   ],
   "source": [
    "print(\"AUC values:\", auc)\n",
    "print(\"Mean AUC:\", np.mean(auc))\n",
    "print(\"Min AUC:\", np.min(auc))\n",
    "print(\"Max AUC:\", np.max(auc))"
   ]
  },
  {
   "cell_type": "markdown",
   "metadata": {},
   "source": [
    "As we can see from the obtained results, the final AUC oscillates between ~0.973 (one among 10) and ~0.975 (one among 10), so it generally keeps a value of about ~0.974. As a result we can definitely say that there are no huge differences among different testsets."
   ]
  },
  {
   "cell_type": "markdown",
   "metadata": {},
   "source": [
    "# 5. Another approach: Clustering"
   ]
  },
  {
   "cell_type": "markdown",
   "metadata": {},
   "source": [
    "In this section we try to build our own recommender system by using a distributed k-means clustering approach.\n",
    "\n",
    "Our main idea was to recommend only artists that had not already been listened to by the user we are trying to give suggestions. In order to do that we have decided to use the kmeans clustering algorithm implemented in mllib library. This because we want to avoid to reimplement from scratch this algorithm and also for efficiency reasons.\n",
    "To create the model for giving recommendations we will use the user features matrix because it is easier and faster to manage user clusters on this matrix instead of the very sparse utility matrix."
   ]
  },
  {
   "cell_type": "markdown",
   "metadata": {},
   "source": [
    "## 5.1 K-Means"
   ]
  },
  {
   "cell_type": "markdown",
   "metadata": {},
   "source": [
    "In this case we can't give a numerical evaluation to our model, as we would need to apply our algorithm to all the users to get the complete utility matrix, but we will try to compare the results obtained with the ALS model with those obtained with our k-means implementation to check whether or not those can be acceptable and to make \"our own\" validation.\n",
    "\n",
    "Moreover, we did not know what could be the best number of K (clusters) to choose; an elbow method could help, but after several trials, due to the time needed to the algorithm to run, we have decided to stop at 50 K. We have in fact tried all the values k between 5 and 50 but no \"elbow\" was clearly identifiable.\n",
    "\n",
    "NB: the model used for our classification is the one generated in the section 10.2"
   ]
  },
  {
   "cell_type": "code",
   "execution_count": 25,
   "metadata": {},
   "outputs": [],
   "source": [
    "from pyspark.mllib.clustering import KMeans\n",
    "\n",
    "# Build a k-means model with K clusters.\n",
    "# return the model and the list of cluster assignment for each user\n",
    "def buildKMeansModel(K):\n",
    "    # Build the rdd with all the user features on which will be trained the k-means\n",
    "    uf_rdd = model.userFeatures().map(lambda x: x[1])\n",
    "    \n",
    "    # Build the model (cluster the data)\n",
    "    kmeans = KMeans.train(uf_rdd, K)\n",
    "\n",
    "    # Find the cluster that each of the points belongs to in this model\n",
    "    clusters = np.array(kmeans.predict(uf_rdd).collect())\n",
    "    \n",
    "    return kmeans, clusters\n",
    "\n",
    "# given the model and the clusters assignment, return the list of users that are \"similar\" the given one:\n",
    "# all users which are in the same cluster of the given one\n",
    "def getSimilarUsers(userID, kmeans, clusters):\n",
    "    # Extract features of our user\n",
    "    uf = model.userFeatures().filter(lambda x: x[0] == userID).collect()[0][1]\n",
    "\n",
    "    # Find the cluster that our user belongs to in this model\n",
    "    cluster = kmeans.predict(uf)\n",
    "\n",
    "    similar_users = []\n",
    "    for idx, feature in enumerate(model.userFeatures().collect()):\n",
    "        if(clusters[idx] == cluster):\n",
    "            similar_users.append(feature[0])\n",
    "            \n",
    "    return similar_users\n",
    "    \n",
    "\n",
    "# return the list of artists listened at least once by the given user\n",
    "def getFollowedArtists(userID, mat_rows):\n",
    "    # get the list of artists followed by our user\n",
    "    sparse_array = mat_rows.filter(lambda x: x.index == userID).first().vector\n",
    "    return sparse_array.indices"
   ]
  },
  {
   "cell_type": "code",
   "execution_count": 26,
   "metadata": {},
   "outputs": [],
   "source": [
    "# function used in the mapPartition\n",
    "# return the tuple with the artist as a key, and the (row) user playcount as a value\n",
    "# NB: an additional 1 is returned for computing the avg\n",
    "def mapArtistsCount(row):\n",
    "    af_list = artists_followed_broadcasted.value\n",
    "    \n",
    "    for elem in row:\n",
    "        artists = elem.vector.indices\n",
    "        counts = elem.vector.values\n",
    "        for idx, a in enumerate(artists):\n",
    "            if(a not in af_list):\n",
    "                playcount = counts[idx]\n",
    "                yield (a, [playcount, 1])\n",
    "        \n",
    "# function used in the reduceByKey\n",
    "# aggregate all the playcounts and counts for each key (artist)\n",
    "def reducePlayCount(x, y):\n",
    "    return ((x[0]+y[0], x[1]+y[1]))\n",
    "\n",
    "# function used in the map\n",
    "# compute the average playcount for a given artist in the cluster\n",
    "def computeAvg(x):\n",
    "    return (x[0], x[1][0]/x[1][1])\n",
    "\n",
    "# return a list of n recommendations\n",
    "def recommendArtists(mat, n=5):\n",
    "    ret = mat.mapPartitions(mapArtistsCount)\\\n",
    "            .reduceByKey(reducePlayCount)\\\n",
    "            .map(computeAvg)\\\n",
    "            .sortBy(lambda x: x[1], ascending=False)\\\n",
    "            .collect()\n",
    "            \n",
    "    return [ret[i][0] for i in range(n)]"
   ]
  },
  {
   "cell_type": "code",
   "execution_count": 27,
   "metadata": {},
   "outputs": [],
   "source": [
    "from pyspark.mllib.linalg.distributed import CoordinateMatrix, MatrixEntry\n",
    "\n",
    "# Create an RDD of coordinate entries.\n",
    "# This can be done explicitly with the MatrixEntry class:\n",
    "entries = newUserArtistDF.rdd.map(lambda row: MatrixEntry(row[0], row[1], row[2]))\n",
    "\n",
    "# Create an CoordinateMatrix from an RDD of MatrixEntries.\n",
    "mat = CoordinateMatrix(entries)\n",
    "\n",
    "# convert the matrix to an IndexedRowMatrix\n",
    "idx_mat = mat.toIndexedRowMatrix()\n",
    "\n",
    "# get rows from the matrix\n",
    "mat_rows = idx_mat.rows\n",
    "\n",
    "mat = mat_rows.repartition(4).cache()"
   ]
  },
  {
   "cell_type": "code",
   "execution_count": 28,
   "metadata": {},
   "outputs": [
    {
     "name": "stdout",
     "output_type": "stream",
     "text": [
      "Recommendations for user: 2093760\n",
      "Artist: 10508734 -> Killswitch Engage - The End Of\n",
      "Artist: 10659711 -> Tzigg\n",
      "Artist: 6901343 -> Music 205\n",
      "Artist: 6859228 -> Josh Rosenblum\n",
      "Artist: 10107235 -> Crime brothers\n"
     ]
    }
   ],
   "source": [
    "# params\n",
    "userID = 2093760\n",
    "K = 50 #number of clusters\n",
    "\n",
    "# model\n",
    "kmeans, clusters = buildKMeansModel(K)\n",
    "\n",
    "# users in the same cluster of 'userID'\n",
    "similar_users = getSimilarUsers(userID, kmeans, clusters)\n",
    "\n",
    "# artists followed by 'userID'\n",
    "artists_followed = getFollowedArtists(userID, mat_rows)\n",
    "artists_followed_broadcasted = sc.broadcast(artists_followed) #broadcast to increase efficency\n",
    "\n",
    "# get recommendations\n",
    "suggested_artists = recommendArtists(mat, n=5)\n",
    "# get real names from ids\n",
    "suggested_with_names = artistDF.rdd.filter(lambda x: x[0] in suggested_artists).collect()\n",
    "\n",
    "print(\"Recommendations for user:\", userID)\n",
    "for s in suggested_with_names:\n",
    "    print(\"Artist:\", s[0], \"->\", s[1])"
   ]
  },
  {
   "cell_type": "markdown",
   "metadata": {},
   "source": [
    "Result given by the ALS in 10.2: ['[unknown]', 'The Killers', 'Coldplay', 'Green Day', 'blink-182']\n",
    "Here we report also the result given by the ALS in 7.1 below, as it does not includes the 'unknown' artist and make it easier to compare the results: ['Eminem', 'The Killers', 'U2', 'Green Day', 'blink-182'].\n",
    "\n",
    "As expected, the results given by this implementation are different from those given by the one above.\n",
    "Altought we cannot say much about this user, as he as listened to only 14 songs, we can see how the suggestions proposed by the ALS model are pretty various, with different genres proposed: Eminem (rap), Green Day + U2 + The Killers (alternative rock); and the same thing can be said also for our results: Killswitch Engage-The End Of + Crime brothers (rock), Josh Rosenblum (contemporany )...<br>\n",
    "So, despite this is not a good indication about the real quality of the model, the systems seems to perform well."
   ]
  },
  {
   "cell_type": "markdown",
   "metadata": {},
   "source": [
    "# 6. Another approach: Curiosity based model"
   ]
  },
  {
   "cell_type": "markdown",
   "metadata": {},
   "source": [
    "Due to the results we have seen above, it's clear that the actual implementation of the system does not take into account the \"curiosity\" of the users when making recommendations. In fact, the suggestions are always based on the play counts, and, as a consequence, it often happens that there is no variety in the recommended artists to a curious user or viceversa.<br>\n",
    "So the idea at the base of our implementation is to take into account the curiosity of the users, and in order to do that we will use a slightly modified version of the index introduced in the section 5: the \"curiosity ratio\". This was defined as the ratio between the curiosity of an user and his total play count; in this case, we will try to implement a per-artist version of this index: for each user and for each one of its artist, we will compute the ratio between the number of times that artist has been played on the total play count of the user."
   ]
  },
  {
   "cell_type": "markdown",
   "metadata": {},
   "source": [
    "## 6.1 Curiosity based model"
   ]
  },
  {
   "cell_type": "code",
   "execution_count": 136,
   "metadata": {},
   "outputs": [],
   "source": [
    "# compute the total playcount for each user and broadcast it\n",
    "userWithTotalPlayCount = userArtistDataRDD.map(lambda x: (x[0][0], x[1])).reduceByKey(lambda a, b: a + b).collectAsMap()\n",
    "bUserWithTotalPlayCount = sc.broadcast(userWithTotalPlayCount)"
   ]
  },
  {
   "cell_type": "code",
   "execution_count": 140,
   "metadata": {},
   "outputs": [],
   "source": [
    "def mapCuriosity(user):\n",
    "    [(userID, artistID), playCount] = user\n",
    "    totCount = bUserWithTotalPlayCount.value.get(userID)\n",
    "    # multiplying by 100 because otherwise the recommendations converge to a small set of values\n",
    "    return (userID, artistID, 100.0*playCount/totCount)"
   ]
  },
  {
   "cell_type": "code",
   "execution_count": 141,
   "metadata": {},
   "outputs": [
    {
     "name": "stdout",
     "output_type": "stream",
     "text": [
      "finish training model in 88.596025 secs\n"
     ]
    }
   ],
   "source": [
    "userArtistCuriosityRDD = userArtistDataRDD.map(mapCuriosity).cache()\n",
    "\n",
    "allData = userArtistCuriosityRDD.map(lambda r: Rating(r[0], r[1], r[2])).repartition(4).cache()\n",
    "\n",
    "t0 = time()\n",
    "model = ALS.trainImplicit(allData, rank=10, iterations=5, lambda_=1.0, alpha=40.0)\n",
    "t1 = time()\n",
    "print(\"finish training model in %f secs\" % (t1 - t0))"
   ]
  },
  {
   "cell_type": "code",
   "execution_count": 142,
   "metadata": {},
   "outputs": [
    {
     "name": "stdout",
     "output_type": "stream",
     "text": [
      "['Snoop Dogg', 'Nas', 'Jay-Z', 'Dr. Dre', 'Outkast']\n"
     ]
    }
   ],
   "source": [
    "recommendations = model.recommendProducts(2093760, 5)\n",
    "\n",
    "recArtist = set([x[1] for x in recommendations])\n",
    "artistByID = rawArtistData.map(xtractFields).filter(lambda x: x[0] > 0)\n",
    "\n",
    "recList = artistByID.filter(lambda x: x[0] in recArtist).values().collect()\n",
    "\n",
    "print(recList)"
   ]
  },
  {
   "cell_type": "code",
   "execution_count": 143,
   "metadata": {},
   "outputs": [
    {
     "name": "stdout",
     "output_type": "stream",
     "text": [
      "User 1000061 ['Paul Van Dyk', 'ATB', 'DJ Tiësto', 'Scooter', 'Groove Coverage']\n",
      "User 1000070 ['Pixies', 'Radiohead', 'Nirvana', 'Nine Inch Nails', 'Queens of the Stone Age']\n",
      "User 1000313 ['Maroon 5', 'Norah Jones', 'Queen', 'The Beatles', 'U2']\n",
      "User 1000832 ['Dead Can Dance', 'The Prodigy', 'Depeche Mode', 'Rammstein', 'Nine Inch Nails']\n",
      "User 1000905 ['Sublime', 'NOFX', 'Less Than Jake', 'Bad Religion', 'Reel Big Fish']\n",
      "User 2064012 ['A Perfect Circle', 'System of a Down', 'Metallica', 'Nirvana', 'Green Day']\n",
      "User 2071641 ['NOFX', 'Anti-Flag', 'Rancid', 'Pennywise', 'Bad Religion']\n",
      "User 2311890 ['ATB', 'DJ Tiësto', 'Kylie Minogue', 'Madonna', 'Dido']\n"
     ]
    }
   ],
   "source": [
    "for user in [1000061, 1000070, 1000313, 1000832, 1000905, 2064012, 2071641, 2311890]:\n",
    "    recommendations = (model.recommendProducts(user, 5))\n",
    "    recArtist = set([x.product for x in recommendations])\n",
    "    recList = artistByID.filter(artistNames).values().collect()\n",
    "    print('User', user, recList)\n",
    "    \n",
    "unpersist(model)"
   ]
  },
  {
   "cell_type": "markdown",
   "metadata": {},
   "source": [
    "As expected, the suggestions obtained with this model are different from the previous ones. Apparently we reached our goal, and this time the recommendations seems to be more correlated to the kind of users.\n",
    "For example, for the 4th user (1000832) we can still see all rock bands in the proposed list, while for the first user (1000061) there are still a much \"larger\" set of genres.<br>\n",
    "About the \"selected users\": for the one with id 2064012 (which was the less curious one and that was used to listen to rock/progressive/punk music) all the suggestions made still perfectly fit his attitudes and are restricted to a precise genre.<br>\n",
    "While, for the last two (the most curious ones), the suggestions are broader and different from each other."
   ]
  },
  {
   "cell_type": "code",
   "execution_count": 144,
   "metadata": {},
   "outputs": [
    {
     "name": "stdout",
     "output_type": "stream",
     "text": [
      "0.9691332664219742\n"
     ]
    }
   ],
   "source": [
    "trainData, cvData = allData.randomSplit([0.9, 0.1])\n",
    "trainData.cache()\n",
    "cvData.cache()\n",
    "\n",
    "allItemIDs = np.array(allData.map(lambda x: x[1]).distinct().collect())\n",
    "bAllItemIDs = sc.broadcast(allItemIDs)\n",
    "\n",
    "model = ALS.trainImplicit(trainData, rank=rank, iterations=iteration, lambda_=lambda_, alpha=alpha)\n",
    "            \n",
    "auc = calculateAUC(cvData , bAllItemIDs, model.predictAll)\n",
    "print(auc)"
   ]
  },
  {
   "cell_type": "markdown",
   "metadata": {},
   "source": [
    "Also the AUC gives reasonable results: 0.969 is a good approximation and is similar to the results we have obtained before."
   ]
  },
  {
   "cell_type": "markdown",
   "metadata": {},
   "source": [
    "# 7. Experimental Section: Outliers and Mispelled"
   ]
  },
  {
   "cell_type": "markdown",
   "metadata": {},
   "source": [
    "The goal of this section is to understand how the model and the performance of the system change when we remove outliers and mispelled artists from the dataset. "
   ]
  },
  {
   "cell_type": "markdown",
   "metadata": {},
   "source": [
    "## 7.1 "
   ]
  },
  {
   "cell_type": "markdown",
   "metadata": {},
   "source": [
    "Here we start filtering out the mispelled elements we don't want to be suggested anymore, and than we will operate on the rdd version of our previously defined and analyzed (first part of the notebook) dataframe: newUserArtistDFwithoutOutliers, which is the \"outlier-free\" version of the original (already cleaned with the mispelled table) dataframe."
   ]
  },
  {
   "cell_type": "code",
   "execution_count": 29,
   "metadata": {},
   "outputs": [
    {
     "name": "stdout",
     "output_type": "stream",
     "text": [
      "{1034635: '[unknown]', 6906549: 'Unknown', 4629: 'Unknown'}\n",
      "[1034635, 6906549, 4629]\n"
     ]
    }
   ],
   "source": [
    "# get the ids of the artists we want to filter out\n",
    "artistRDD = artistDF.rdd.cache()\n",
    "mispelledMap = artistRDD.filter(lambda x: x[1] == '[unknown]' or x[1] == 'Unknown').collectAsMap()\n",
    "print(mispelledMap)\n",
    "\n",
    "mispelledList = list(mispelledMap.keys())\n",
    "print(mispelledList)"
   ]
  },
  {
   "cell_type": "code",
   "execution_count": 132,
   "metadata": {},
   "outputs": [
    {
     "name": "stdout",
     "output_type": "stream",
     "text": [
      "['Eminem', 'The Killers', 'U2', 'Green Day', 'blink-182']\n",
      "0.9765511185173771\n"
     ]
    }
   ],
   "source": [
    "# filter out the tuples which includes the mispelled artists\n",
    "userArtistRDDwithoutOutliers = newUserArtistDFwithoutOutliers.rdd\n",
    "userArtistRDDwithoutOutliers = userArtistRDDwithoutOutliers.filter(lambda x: x[1] not in mispelledList).cache()\n",
    "\n",
    "# map and parallelize data\n",
    "allDataCleaned = userArtistRDDwithoutOutliers.map(lambda r: Rating(r[0], r[1], r[2])).repartition(4).cache()\n",
    "\n",
    "# split in training and test sets\n",
    "trainData, cvData = allDataCleaned.randomSplit([0.9, 0.1])\n",
    "trainData.cache()\n",
    "cvData.cache()\n",
    "\n",
    "# Get all unique artistId, and broadcast them\n",
    "allItemIDs = np.array(allDataCleaned.map(lambda x: x[1]).distinct().collect())\n",
    "bAllItemIDs = sc.broadcast(allItemIDs)\n",
    "\n",
    "# build the model\n",
    "model = ALS.trainImplicit(trainData, rank=10, iterations=5, lambda_=0.0001, alpha=40.0)\n",
    "auc = calculateAUC(cvData , bAllItemIDs , model.predictAll)\n",
    "allData.unpersist()\n",
    "\n",
    "\n",
    "# get recommendations for the usual user\n",
    "userID = 2093760\n",
    "recommendations = model.recommendProducts(userID,5)\n",
    "\n",
    "recArtist = set([x.product for x in recommendations])\n",
    "\n",
    "recList = artistByID.filter(artistNames).values().collect()\n",
    "print(recList)\n",
    "print(auc)"
   ]
  },
  {
   "cell_type": "code",
   "execution_count": 135,
   "metadata": {},
   "outputs": [
    {
     "name": "stdout",
     "output_type": "stream",
     "text": [
      "User 1000061 ['Lustra', 'Seether (Feat. Amy Lee)', 'DJ Sammy', 'O-Zone', 'Groove Coverage']\n",
      "User 1000313 ['Queen', 'The Killers', 'Avril Lavigne', 'U2', 'Green Day']\n",
      "User 1000832 ['Coma', 'Pleymo', 'Hans Teeuwen', 'Blaze', 'Rapture']\n",
      "User 1000905 ['Queen', 'Avril Lavigne', 'U2', 'Green Day', 'blink-182']\n",
      "User 2071641 ['Sum 41', 'My Chemical Romance', 'Jimmy Eat World', 'Green Day', 'blink-182']\n",
      "User 2311890 ['Nikkfurie de La Caution', 'Marc Anthony', 'tripod', 'DJ Sammy & Yanou', 'Ricky Martin']\n"
     ]
    }
   ],
   "source": [
    "for user in [1000061, 1000313, 1000832, 1000905, 2071641, 2311890]:\n",
    "    recommendations = (model.recommendProducts(user, 5))\n",
    "    recArtist = set([x.product for x in recommendations])\n",
    "    recList = artistByID.filter(artistNames).values().collect()\n",
    "    print('User', user, recList)\n",
    "    \n",
    "unpersist(model)"
   ]
  },
  {
   "cell_type": "markdown",
   "metadata": {},
   "source": [
    "Everything worked well. In fact, the model used for the training and to make recommendations is the same used above (same optimal parameters), and in this case also the results are about the same, obviously except for the mispelled artists.<br>\n",
    "For example, for the usual user 2093760, before we got this -> ['[unknown]', 'The Killers', 'Coldplay', 'Green Day', 'blink-182'] as list of recommendations; now the list is in practice equivalent expect for the unknown artist which has been substitued by \"Eminem\" (and Coldplay with U2, but the genre is very similar).\n",
    "\n",
    "Also the final auc is pretty much the same:\n",
    "* (before cleaning) 0.97716\n",
    "* (after cleaning) 0.97655\n",
    "\n",
    "The same thing can be said for the other users below."
   ]
  },
  {
   "cell_type": "markdown",
   "metadata": {},
   "source": [
    "# Summary\n",
    "\n",
    "In this notebook, we introduce an algorithm to do matrix factorization and the way of using it to make recommendation. Further more, we studied how to build a large-scale recommender system on SPARK using ALS algorithm and evaluate its quality. Finally, a simple approach to choose good parameters is mentioned."
   ]
  },
  {
   "cell_type": "markdown",
   "metadata": {},
   "source": [
    "# References\n",
    "\n",
    "- The example in section 2 is taken from [Recommender system](infolab.stanford.edu/~ullman/mmds/ch9.pdf)"
   ]
  }
 ],
 "metadata": {
  "kernelspec": {
   "display_name": "Python 3",
   "language": "python",
   "name": "python3"
  },
  "language_info": {
   "codemirror_mode": {
    "name": "ipython",
    "version": 3
   },
   "file_extension": ".py",
   "mimetype": "text/x-python",
   "name": "python",
   "nbconvert_exporter": "python",
   "pygments_lexer": "ipython3",
   "version": "3.6.4"
  }
 },
 "nbformat": 4,
 "nbformat_minor": 2
}
